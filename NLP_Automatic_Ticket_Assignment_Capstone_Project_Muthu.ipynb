{
  "nbformat": 4,
  "nbformat_minor": 0,
  "metadata": {
    "colab": {
      "name": "NLP_Automatic_Ticket_Assignment_Capstone_Project_Muthu.ipynb",
      "provenance": [],
      "collapsed_sections": []
    },
    "kernelspec": {
      "display_name": "Python 3",
      "language": "python",
      "name": "python3"
    },
    "language_info": {
      "codemirror_mode": {
        "name": "ipython",
        "version": 3
      },
      "file_extension": ".py",
      "mimetype": "text/x-python",
      "name": "python",
      "nbconvert_exporter": "python",
      "pygments_lexer": "ipython3",
      "version": "3.8.3"
    }
  },
  "cells": [
    {
      "cell_type": "code",
      "metadata": {
        "id": "5WyHKS0Jp8pn",
        "colab": {
          "base_uri": "https://localhost:8080/"
        },
        "outputId": "417b2273-8b6e-49e4-dbb1-119a95ff7aa9"
      },
      "source": [
        "import pandas as pd\n",
        "import numpy as np\n",
        "import sys, os\n",
        "import nltk\n",
        "import re\n",
        "from nltk.tokenize import RegexpTokenizer\n",
        "from nltk.stem import WordNetLemmatizer,LancasterStemmer\n",
        "from sklearn.feature_extraction.text import CountVectorizer\n",
        "from nltk.corpus import stopwords\n",
        "from textblob import TextBlob\n",
        "from google.colab import drive\n",
        "from pathlib import Path\n",
        "import logging\n",
        "import string\n",
        "nltk.download('reuters') # Downloading corpus\n",
        "nltk.download('stopwords') # Downloading stopwords\n",
        "nltk.download('punkt') # Downloading tokenizer\n",
        "nltk.download('wordnet')\n",
        "import warnings\n",
        "warnings.filterwarnings('ignore')"
      ],
      "execution_count": 10,
      "outputs": [
        {
          "output_type": "stream",
          "text": [
            "[nltk_data] Downloading package reuters to /root/nltk_data...\n",
            "[nltk_data]   Package reuters is already up-to-date!\n",
            "[nltk_data] Downloading package stopwords to /root/nltk_data...\n",
            "[nltk_data]   Package stopwords is already up-to-date!\n",
            "[nltk_data] Downloading package punkt to /root/nltk_data...\n",
            "[nltk_data]   Package punkt is already up-to-date!\n",
            "[nltk_data] Downloading package wordnet to /root/nltk_data...\n",
            "[nltk_data]   Package wordnet is already up-to-date!\n"
          ],
          "name": "stdout"
        }
      ]
    },
    {
      "cell_type": "code",
      "metadata": {
        "colab": {
          "resources": {
            "http://localhost:8080/nbextensions/google.colab/files.js": {
              "data": "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",
              "ok": true,
              "headers": [
                [
                  "content-type",
                  "application/javascript"
                ]
              ],
              "status": 200,
              "status_text": ""
            }
          },
          "base_uri": "https://localhost:8080/",
          "height": 72
        },
        "id": "hAFunumGcdFt",
        "outputId": "e068c8e2-46f5-4383-9619-d7b29c76b19c"
      },
      "source": [
        "from google.colab import files\n",
        "uploaded = files.upload()"
      ],
      "execution_count": 11,
      "outputs": [
        {
          "output_type": "display_data",
          "data": {
            "text/html": [
              "\n",
              "     <input type=\"file\" id=\"files-43709b3d-f990-4d86-ad45-1c85d25a45a6\" name=\"files[]\" multiple disabled\n",
              "        style=\"border:none\" />\n",
              "     <output id=\"result-43709b3d-f990-4d86-ad45-1c85d25a45a6\">\n",
              "      Upload widget is only available when the cell has been executed in the\n",
              "      current browser session. Please rerun this cell to enable.\n",
              "      </output>\n",
              "      <script src=\"/nbextensions/google.colab/files.js\"></script> "
            ],
            "text/plain": [
              "<IPython.core.display.HTML object>"
            ]
          },
          "metadata": {
            "tags": []
          }
        },
        {
          "output_type": "stream",
          "text": [
            "Saving input_data.xlsx to input_data.xlsx\n"
          ],
          "name": "stdout"
        }
      ]
    },
    {
      "cell_type": "code",
      "metadata": {
        "id": "FNOdQD2GbeTv"
      },
      "source": [
        "logging.basicConfig(filename='app.log', filemode='w', format='%(asctime)s - %(name)s - %(levelname)s - %(message)s', level=logging.INFO)\n",
        "pd.set_option('display.max_colwidth', 0)\n",
        "#print(Path('app.log').read_text())"
      ],
      "execution_count": 12,
      "outputs": []
    },
    {
      "cell_type": "markdown",
      "metadata": {
        "id": "TjoA7MPMfP-V"
      },
      "source": [
        "## Read ticket data file as data frame"
      ]
    },
    {
      "cell_type": "code",
      "metadata": {
        "id": "xNDXMNQRqO2F"
      },
      "source": [
        "ticket_df = pd.read_excel('input_data.xlsx')"
      ],
      "execution_count": 107,
      "outputs": []
    },
    {
      "cell_type": "markdown",
      "metadata": {
        "id": "ySOinOJQfYsV"
      },
      "source": [
        "# Show head of the data"
      ]
    },
    {
      "cell_type": "code",
      "metadata": {
        "colab": {
          "base_uri": "https://localhost:8080/",
          "height": 306
        },
        "id": "PkpMk5eifVI5",
        "outputId": "7debab85-da69-4cc9-d6f6-65e9e63adce1"
      },
      "source": [
        "ticket_df.head()"
      ],
      "execution_count": 108,
      "outputs": [
        {
          "output_type": "execute_result",
          "data": {
            "text/html": [
              "<div>\n",
              "<style scoped>\n",
              "    .dataframe tbody tr th:only-of-type {\n",
              "        vertical-align: middle;\n",
              "    }\n",
              "\n",
              "    .dataframe tbody tr th {\n",
              "        vertical-align: top;\n",
              "    }\n",
              "\n",
              "    .dataframe thead th {\n",
              "        text-align: right;\n",
              "    }\n",
              "</style>\n",
              "<table border=\"1\" class=\"dataframe\">\n",
              "  <thead>\n",
              "    <tr style=\"text-align: right;\">\n",
              "      <th></th>\n",
              "      <th>Short description</th>\n",
              "      <th>Description</th>\n",
              "      <th>Caller</th>\n",
              "      <th>Assignment group</th>\n",
              "    </tr>\n",
              "  </thead>\n",
              "  <tbody>\n",
              "    <tr>\n",
              "      <th>0</th>\n",
              "      <td>login issue</td>\n",
              "      <td>-verified user details.(employee# &amp; manager name)\\r\\n-checked the user name in ad and reset the password.\\r\\n-advised the user to login and check.\\r\\n-caller confirmed that he was able to login.\\r\\n-issue resolved.</td>\n",
              "      <td>spxjnwir pjlcoqds</td>\n",
              "      <td>GRP_0</td>\n",
              "    </tr>\n",
              "    <tr>\n",
              "      <th>1</th>\n",
              "      <td>outlook</td>\n",
              "      <td>\\r\\n\\r\\nreceived from: hmjdrvpb.komuaywn@gmail.com\\r\\n\\r\\nhello team,\\r\\n\\r\\nmy meetings/skype meetings etc are not appearing in my outlook calendar, can somebody please advise how to correct this?\\r\\n\\r\\nkind</td>\n",
              "      <td>hmjdrvpb komuaywn</td>\n",
              "      <td>GRP_0</td>\n",
              "    </tr>\n",
              "    <tr>\n",
              "      <th>2</th>\n",
              "      <td>cant log in to vpn</td>\n",
              "      <td>\\r\\n\\r\\nreceived from: eylqgodm.ybqkwiam@gmail.com\\r\\n\\r\\nhi\\r\\n\\r\\ni cannot log on to vpn\\r\\n\\r\\nbest</td>\n",
              "      <td>eylqgodm ybqkwiam</td>\n",
              "      <td>GRP_0</td>\n",
              "    </tr>\n",
              "    <tr>\n",
              "      <th>3</th>\n",
              "      <td>unable to access hr_tool page</td>\n",
              "      <td>unable to access hr_tool page</td>\n",
              "      <td>xbkucsvz gcpydteq</td>\n",
              "      <td>GRP_0</td>\n",
              "    </tr>\n",
              "    <tr>\n",
              "      <th>4</th>\n",
              "      <td>skype error</td>\n",
              "      <td>skype error</td>\n",
              "      <td>owlgqjme qhcozdfx</td>\n",
              "      <td>GRP_0</td>\n",
              "    </tr>\n",
              "  </tbody>\n",
              "</table>\n",
              "</div>"
            ],
            "text/plain": [
              "               Short description  ... Assignment group\n",
              "0  login issue                    ...  GRP_0          \n",
              "1  outlook                        ...  GRP_0          \n",
              "2  cant log in to vpn             ...  GRP_0          \n",
              "3  unable to access hr_tool page  ...  GRP_0          \n",
              "4  skype error                    ...  GRP_0          \n",
              "\n",
              "[5 rows x 4 columns]"
            ]
          },
          "metadata": {
            "tags": []
          },
          "execution_count": 108
        }
      ]
    },
    {
      "cell_type": "markdown",
      "metadata": {
        "id": "VpgHJ0LOferA"
      },
      "source": [
        "# Shape of the data"
      ]
    },
    {
      "cell_type": "code",
      "metadata": {
        "colab": {
          "base_uri": "https://localhost:8080/"
        },
        "id": "spBUN9KzuhGw",
        "outputId": "65c9d775-ee25-44f8-88c7-9b9d93ae0a55"
      },
      "source": [
        "ticket_df.shape"
      ],
      "execution_count": 109,
      "outputs": [
        {
          "output_type": "execute_result",
          "data": {
            "text/plain": [
              "(8500, 4)"
            ]
          },
          "metadata": {
            "tags": []
          },
          "execution_count": 109
        }
      ]
    },
    {
      "cell_type": "markdown",
      "metadata": {
        "id": "TNie2LOhflPq"
      },
      "source": [
        "## Describe data"
      ]
    },
    {
      "cell_type": "code",
      "metadata": {
        "colab": {
          "base_uri": "https://localhost:8080/",
          "height": 173
        },
        "id": "5JjNpyUwulnL",
        "outputId": "782ed6e9-facb-4076-d9ac-c43e0e813248"
      },
      "source": [
        "ticket_df.describe()"
      ],
      "execution_count": 110,
      "outputs": [
        {
          "output_type": "execute_result",
          "data": {
            "text/html": [
              "<div>\n",
              "<style scoped>\n",
              "    .dataframe tbody tr th:only-of-type {\n",
              "        vertical-align: middle;\n",
              "    }\n",
              "\n",
              "    .dataframe tbody tr th {\n",
              "        vertical-align: top;\n",
              "    }\n",
              "\n",
              "    .dataframe thead th {\n",
              "        text-align: right;\n",
              "    }\n",
              "</style>\n",
              "<table border=\"1\" class=\"dataframe\">\n",
              "  <thead>\n",
              "    <tr style=\"text-align: right;\">\n",
              "      <th></th>\n",
              "      <th>Short description</th>\n",
              "      <th>Description</th>\n",
              "      <th>Caller</th>\n",
              "      <th>Assignment group</th>\n",
              "    </tr>\n",
              "  </thead>\n",
              "  <tbody>\n",
              "    <tr>\n",
              "      <th>count</th>\n",
              "      <td>8492</td>\n",
              "      <td>8499</td>\n",
              "      <td>8500</td>\n",
              "      <td>8500</td>\n",
              "    </tr>\n",
              "    <tr>\n",
              "      <th>unique</th>\n",
              "      <td>7481</td>\n",
              "      <td>7817</td>\n",
              "      <td>2950</td>\n",
              "      <td>74</td>\n",
              "    </tr>\n",
              "    <tr>\n",
              "      <th>top</th>\n",
              "      <td>password reset</td>\n",
              "      <td>the</td>\n",
              "      <td>bpctwhsn kzqsbmtp</td>\n",
              "      <td>GRP_0</td>\n",
              "    </tr>\n",
              "    <tr>\n",
              "      <th>freq</th>\n",
              "      <td>38</td>\n",
              "      <td>56</td>\n",
              "      <td>810</td>\n",
              "      <td>3976</td>\n",
              "    </tr>\n",
              "  </tbody>\n",
              "</table>\n",
              "</div>"
            ],
            "text/plain": [
              "       Short description Description             Caller Assignment group\n",
              "count   8492              8499        8500               8500           \n",
              "unique  7481              7817        2950               74             \n",
              "top     password reset    the         bpctwhsn kzqsbmtp  GRP_0          \n",
              "freq    38                56          810                3976           "
            ]
          },
          "metadata": {
            "tags": []
          },
          "execution_count": 110
        }
      ]
    },
    {
      "cell_type": "markdown",
      "metadata": {
        "id": "H-3HX3RzfttF"
      },
      "source": [
        "## Find any Null values in the data "
      ]
    },
    {
      "cell_type": "code",
      "metadata": {
        "colab": {
          "base_uri": "https://localhost:8080/"
        },
        "id": "sASsUnyFu2ms",
        "outputId": "a99bace3-263f-498b-a1af-ff4178433860"
      },
      "source": [
        "ticket_df.isnull().sum()"
      ],
      "execution_count": 111,
      "outputs": [
        {
          "output_type": "execute_result",
          "data": {
            "text/plain": [
              "Short description    8\n",
              "Description          1\n",
              "Caller               0\n",
              "Assignment group     0\n",
              "dtype: int64"
            ]
          },
          "metadata": {
            "tags": []
          },
          "execution_count": 111
        }
      ]
    },
    {
      "cell_type": "code",
      "metadata": {
        "id": "euE-rapQQySf"
      },
      "source": [
        "ticket_df = ticket_df.fillna(\"\")"
      ],
      "execution_count": 115,
      "outputs": []
    },
    {
      "cell_type": "code",
      "metadata": {
        "colab": {
          "base_uri": "https://localhost:8080/"
        },
        "id": "IiqXJ0PVRIUZ",
        "outputId": "b5fc02d1-bea1-47c1-e3c4-70d1b66ec130"
      },
      "source": [
        "ticket_df.isnull().sum()"
      ],
      "execution_count": 116,
      "outputs": [
        {
          "output_type": "execute_result",
          "data": {
            "text/plain": [
              "Short description    0\n",
              "Description          0\n",
              "Caller               0\n",
              "Assignment group     0\n",
              "dtype: int64"
            ]
          },
          "metadata": {
            "tags": []
          },
          "execution_count": 116
        }
      ]
    },
    {
      "cell_type": "code",
      "metadata": {
        "colab": {
          "base_uri": "https://localhost:8080/"
        },
        "id": "SBYbMqcmvnKt",
        "outputId": "f57f7112-195c-4a26-cd23-1b9300d67f9d"
      },
      "source": [
        "targetClassCnt=ticket_df['Assignment group'].value_counts()\n",
        "targetClassCnt.describe()"
      ],
      "execution_count": 117,
      "outputs": [
        {
          "output_type": "execute_result",
          "data": {
            "text/plain": [
              "count    74.000000  \n",
              "mean     114.864865 \n",
              "std      465.747516 \n",
              "min      1.000000   \n",
              "25%      5.250000   \n",
              "50%      26.000000  \n",
              "75%      84.000000  \n",
              "max      3976.000000\n",
              "Name: Assignment group, dtype: float64"
            ]
          },
          "metadata": {
            "tags": []
          },
          "execution_count": 117
        }
      ]
    },
    {
      "cell_type": "code",
      "metadata": {
        "colab": {
          "base_uri": "https://localhost:8080/",
          "height": 306
        },
        "id": "S_XMA4fcz5BF",
        "outputId": "1b4f1c33-a6d2-4445-c846-8307c7bb99ae"
      },
      "source": [
        "duplicate = ticket_df[ticket_df.duplicated()]\n",
        "duplicate.head()"
      ],
      "execution_count": 118,
      "outputs": [
        {
          "output_type": "execute_result",
          "data": {
            "text/html": [
              "<div>\n",
              "<style scoped>\n",
              "    .dataframe tbody tr th:only-of-type {\n",
              "        vertical-align: middle;\n",
              "    }\n",
              "\n",
              "    .dataframe tbody tr th {\n",
              "        vertical-align: top;\n",
              "    }\n",
              "\n",
              "    .dataframe thead th {\n",
              "        text-align: right;\n",
              "    }\n",
              "</style>\n",
              "<table border=\"1\" class=\"dataframe\">\n",
              "  <thead>\n",
              "    <tr style=\"text-align: right;\">\n",
              "      <th></th>\n",
              "      <th>Short description</th>\n",
              "      <th>Description</th>\n",
              "      <th>Caller</th>\n",
              "      <th>Assignment group</th>\n",
              "    </tr>\n",
              "  </thead>\n",
              "  <tbody>\n",
              "    <tr>\n",
              "      <th>51</th>\n",
              "      <td>call for ecwtrjnq jpecxuty</td>\n",
              "      <td>call for ecwtrjnq jpecxuty</td>\n",
              "      <td>olckhmvx pcqobjnd</td>\n",
              "      <td>GRP_0</td>\n",
              "    </tr>\n",
              "    <tr>\n",
              "      <th>229</th>\n",
              "      <td>call for ecwtrjnq jpecxuty</td>\n",
              "      <td>call for ecwtrjnq jpecxuty</td>\n",
              "      <td>olckhmvx pcqobjnd</td>\n",
              "      <td>GRP_0</td>\n",
              "    </tr>\n",
              "    <tr>\n",
              "      <th>493</th>\n",
              "      <td>ticket update on inplant_872730</td>\n",
              "      <td>ticket update on inplant_872730</td>\n",
              "      <td>fumkcsji sarmtlhy</td>\n",
              "      <td>GRP_0</td>\n",
              "    </tr>\n",
              "    <tr>\n",
              "      <th>512</th>\n",
              "      <td>blank call //gso</td>\n",
              "      <td>blank call //gso</td>\n",
              "      <td>rbozivdq gmlhrtvp</td>\n",
              "      <td>GRP_0</td>\n",
              "    </tr>\n",
              "    <tr>\n",
              "      <th>667</th>\n",
              "      <td>job bkbackup_tool_powder_prod_full failed in job_scheduler at: 10/22/2016 18:33:00</td>\n",
              "      <td>received from: monitoring_tool@company.com\\r\\n\\r\\njob bkbackup_tool_powder_prod_full failed in job_scheduler at: 10/22/2016 18:33:00</td>\n",
              "      <td>bpctwhsn kzqsbmtp</td>\n",
              "      <td>GRP_8</td>\n",
              "    </tr>\n",
              "  </tbody>\n",
              "</table>\n",
              "</div>"
            ],
            "text/plain": [
              "                                                                        Short description  ... Assignment group\n",
              "51   call for ecwtrjnq jpecxuty                                                            ...  GRP_0          \n",
              "229  call for ecwtrjnq jpecxuty                                                            ...  GRP_0          \n",
              "493  ticket update on inplant_872730                                                       ...  GRP_0          \n",
              "512  blank call //gso                                                                      ...  GRP_0          \n",
              "667  job bkbackup_tool_powder_prod_full failed in job_scheduler at: 10/22/2016 18:33:00    ...  GRP_8          \n",
              "\n",
              "[5 rows x 4 columns]"
            ]
          },
          "metadata": {
            "tags": []
          },
          "execution_count": 118
        }
      ]
    },
    {
      "cell_type": "code",
      "metadata": {
        "id": "20hrO-vW1JH3"
      },
      "source": [
        "ticket_df.drop_duplicates(inplace=True)"
      ],
      "execution_count": 119,
      "outputs": []
    },
    {
      "cell_type": "code",
      "metadata": {
        "colab": {
          "base_uri": "https://localhost:8080/"
        },
        "id": "S0-12_3u1OYI",
        "outputId": "ae5ee18d-30aa-43e2-fd31-6d3702d47777"
      },
      "source": [
        "ticket_df.shape"
      ],
      "execution_count": 120,
      "outputs": [
        {
          "output_type": "execute_result",
          "data": {
            "text/plain": [
              "(8417, 4)"
            ]
          },
          "metadata": {
            "tags": []
          },
          "execution_count": 120
        }
      ]
    },
    {
      "cell_type": "code",
      "metadata": {
        "id": "oAtExPV5beTx"
      },
      "source": [
        "class PreProcessing:\n",
        "    lemmatizer=\"\"\n",
        "    stemmer =\"\"\n",
        "    tokenizer=\"\"\n",
        "    def __init__(self):\n",
        "        self.lemmatizer = WordNetLemmatizer()\n",
        "        self.stemmer = LancasterStemmer()\n",
        "        self.tokenizer = RegexpTokenizer(r'\\w+')\n",
        "    \n",
        "    def data_clean(self, sentence):\n",
        "      if pd.isnull(sentence):\n",
        "        return sentence\n",
        "      sentence= sentence.lower()\n",
        "      sentence = ' '.join([w for w in sentence.split() if not self.is_valid_date(w)])\n",
        "      sentence = re.sub(r\"received from:\",' ',sentence)\n",
        "      sentence = re.sub(r\"select the following link to view the disclaimer in an alternate language.\",' ',sentence)\n",
        "      sentence = re.sub(r\"from:\",' ',sentence)\n",
        "      sentence = re.sub(r\"to:\",' ',sentence)\n",
        "      sentence = re.sub(r\"subject:\",' ',sentence)\n",
        "      sentence = re.sub(r\"re:\",' ',sentence)\n",
        "      sentence = re.sub(r\"fw:\",' ',sentence)\n",
        "      sentence = re.sub(r\"sent:\",' ',sentence)\n",
        "      sentence = re.sub(r\"ic:\",' ',sentence)\n",
        "      sentence = re.sub(r\"cc:\",' ',sentence)\n",
        "      sentence = re.sub(r\"bcc:\",' ',sentence)\n",
        "      #Remove email \n",
        "      sentence = re.sub(r'\\S*@\\S*\\s?', '', sentence)\n",
        "      # Remove underscores\n",
        "      sentence = re.sub(r'\\_',' ', sentence)\n",
        "\n",
        "      # Remove new line characters \n",
        "      sentence = re.sub(r'\\n',' ',sentence)\n",
        "      # Remove hashtag while keeping hashtag sentence\n",
        "      sentence = re.sub(r'#','', sentence)\n",
        "      #& \n",
        "      sentence = re.sub(r'&;?', 'and',sentence)\n",
        "      # Remove HTML special entities (e.g. &amp;)\n",
        "      sentence = re.sub(r'\\&\\w*;', '', sentence)\n",
        "      # Remove hyperlinks\n",
        "      sentence = re.sub(r'https?:\\/\\/.*\\/\\w*', '', sentence)  \n",
        "      # Remove characters beyond Readable formart by Unicode:\n",
        "      sentence= ''.join(c for c in sentence if c <= '\\uFFFF') \n",
        "      sentence = sentence.strip()\n",
        "      # Remove unreadable characters  (also extra spaces)\n",
        "      sentence = ' '.join(re.sub(\"[^\\u0030-\\u0039\\u0041-\\u005a\\u0061-\\u007a]\", \" \", sentence).split())\n",
        "\n",
        "      # Single character      \n",
        "      sentence = re.sub(r\"\\s+[a-zA-Z]\\s+\", ' ', sentence)\n",
        "      sentence = sentence.strip()\n",
        "      return sentence\n",
        "    \n",
        "    def is_valid_date(self,date_str):\n",
        "      try:\n",
        "        parser.parse(date_str)\n",
        "        return True\n",
        "      except:\n",
        "        return False\n",
        "    \n",
        "    def mergeColumns(self, df):\n",
        "        df['desc']=df['Short description'] + \" \" + df['Description'] + \" \" + df['Caller']\n",
        "        df.drop(\"Short description\", axis=1, inplace=True)\n",
        "        df.drop(\"Description\", axis=1, inplace=True)\n",
        "        df.drop(\"Caller\", axis=1, inplace=True)\n",
        "        return df\n",
        "\n",
        "    def remove_punctuation(self, sentence):\n",
        "      try:\n",
        "        no_punct = \"\".join([c for c in sentence if c not in string.punctuation])\n",
        "        return no_punct\n",
        "      except:\n",
        "        print(\"remove_punctuation: sentence,\",sentence)\n",
        "        return sentence\n",
        "\n",
        "    def make_tokens(self, sentence):\n",
        "      return self.tokenizer.tokenize(sentence.lower())\n",
        "\n",
        "    def remove_stopwords(self, words):\n",
        "      return [w for w in words if w not in stopwords.words('english')]\n",
        "\n",
        "    def word_lemmatize(self, words):\n",
        "      return [self.lemmatizer.lemmatize(item) for item in words]\n",
        "\n",
        "\n",
        "preProcessing=PreProcessing()"
      ],
      "execution_count": 129,
      "outputs": []
    },
    {
      "cell_type": "code",
      "metadata": {
        "id": "iKjfHjjKbeTz"
      },
      "source": [
        "ticket_df=preProcessing.mergeColumns(ticket_df)\n",
        "ticket_df['desc_clean'] = ticket_df['desc'].apply(preProcessing.data_clean)"
      ],
      "execution_count": 122,
      "outputs": []
    },
    {
      "cell_type": "code",
      "metadata": {
        "colab": {
          "base_uri": "https://localhost:8080/",
          "height": 306
        },
        "id": "Df_PJ0xgbeTz",
        "outputId": "885e0f49-08e1-4344-8824-103b2b2d3e10"
      },
      "source": [
        "ticket_df.head()"
      ],
      "execution_count": 123,
      "outputs": [
        {
          "output_type": "execute_result",
          "data": {
            "text/html": [
              "<div>\n",
              "<style scoped>\n",
              "    .dataframe tbody tr th:only-of-type {\n",
              "        vertical-align: middle;\n",
              "    }\n",
              "\n",
              "    .dataframe tbody tr th {\n",
              "        vertical-align: top;\n",
              "    }\n",
              "\n",
              "    .dataframe thead th {\n",
              "        text-align: right;\n",
              "    }\n",
              "</style>\n",
              "<table border=\"1\" class=\"dataframe\">\n",
              "  <thead>\n",
              "    <tr style=\"text-align: right;\">\n",
              "      <th></th>\n",
              "      <th>Assignment group</th>\n",
              "      <th>desc</th>\n",
              "      <th>desc_clean</th>\n",
              "    </tr>\n",
              "  </thead>\n",
              "  <tbody>\n",
              "    <tr>\n",
              "      <th>0</th>\n",
              "      <td>GRP_0</td>\n",
              "      <td>login issue -verified user details.(employee# &amp; manager name)\\r\\n-checked the user name in ad and reset the password.\\r\\n-advised the user to login and check.\\r\\n-caller confirmed that he was able to login.\\r\\n-issue resolved. spxjnwir pjlcoqds</td>\n",
              "      <td>login issue verified user details employee and manager name checked the user name in ad and reset the password advised the user to login and check caller confirmed that he was able to login issue resolved spxjnwir pjlcoqds</td>\n",
              "    </tr>\n",
              "    <tr>\n",
              "      <th>1</th>\n",
              "      <td>GRP_0</td>\n",
              "      <td>outlook \\r\\n\\r\\nreceived from: hmjdrvpb.komuaywn@gmail.com\\r\\n\\r\\nhello team,\\r\\n\\r\\nmy meetings/skype meetings etc are not appearing in my outlook calendar, can somebody please advise how to correct this?\\r\\n\\r\\nkind  hmjdrvpb komuaywn</td>\n",
              "      <td>outlook hello team my meetings skype meetings etc are not appearing in my outlook calendar can somebody please advise how to correct this kind hmjdrvpb komuaywn</td>\n",
              "    </tr>\n",
              "    <tr>\n",
              "      <th>2</th>\n",
              "      <td>GRP_0</td>\n",
              "      <td>cant log in to vpn \\r\\n\\r\\nreceived from: eylqgodm.ybqkwiam@gmail.com\\r\\n\\r\\nhi\\r\\n\\r\\ni cannot log on to vpn\\r\\n\\r\\nbest  eylqgodm ybqkwiam</td>\n",
              "      <td>cant log in to vpn hi cannot log on to vpn best eylqgodm ybqkwiam</td>\n",
              "    </tr>\n",
              "    <tr>\n",
              "      <th>3</th>\n",
              "      <td>GRP_0</td>\n",
              "      <td>unable to access hr_tool page unable to access hr_tool page xbkucsvz gcpydteq</td>\n",
              "      <td>unable to access hr tool page unable to access hr tool page xbkucsvz gcpydteq</td>\n",
              "    </tr>\n",
              "    <tr>\n",
              "      <th>4</th>\n",
              "      <td>GRP_0</td>\n",
              "      <td>skype error  skype error  owlgqjme qhcozdfx</td>\n",
              "      <td>skype error skype error owlgqjme qhcozdfx</td>\n",
              "    </tr>\n",
              "  </tbody>\n",
              "</table>\n",
              "</div>"
            ],
            "text/plain": [
              "  Assignment group  ...                                                                                                                                                                                                                      desc_clean\n",
              "0  GRP_0            ...  login issue verified user details employee and manager name checked the user name in ad and reset the password advised the user to login and check caller confirmed that he was able to login issue resolved spxjnwir pjlcoqds\n",
              "1  GRP_0            ...  outlook hello team my meetings skype meetings etc are not appearing in my outlook calendar can somebody please advise how to correct this kind hmjdrvpb komuaywn                                                              \n",
              "2  GRP_0            ...  cant log in to vpn hi cannot log on to vpn best eylqgodm ybqkwiam                                                                                                                                                             \n",
              "3  GRP_0            ...  unable to access hr tool page unable to access hr tool page xbkucsvz gcpydteq                                                                                                                                                 \n",
              "4  GRP_0            ...  skype error skype error owlgqjme qhcozdfx                                                                                                                                                                                     \n",
              "\n",
              "[5 rows x 3 columns]"
            ]
          },
          "metadata": {
            "tags": []
          },
          "execution_count": 123
        }
      ]
    },
    {
      "cell_type": "code",
      "metadata": {
        "id": "VOVyqph8beT0"
      },
      "source": [
        "#logging.getLogger().setLevel(logging.DEBUG)\n",
        "#cleaning.preprocess(ticket_df['Description'][1])\n",
        "#logging.getLogger().setLevel(logging.INFO)\n",
        "# ticket_df['polarity'] = ticket_df['desc_clean'].map(lambda text: TextBlob(text).sentiment.polarity)\n",
        "ticket_df['review_len'] = ticket_df['desc_clean'].astype(str).apply(len)\n",
        "ticket_df['word_count'] = ticket_df['desc_clean'].apply(lambda x: len(str(x).split()))"
      ],
      "execution_count": 124,
      "outputs": []
    },
    {
      "cell_type": "code",
      "metadata": {
        "colab": {
          "base_uri": "https://localhost:8080/",
          "height": 1000
        },
        "id": "24sJebdnbeT0",
        "outputId": "3dda2cd0-9030-477f-bfaf-f5712fb59f9e"
      },
      "source": [
        "ticket_df.head(50)"
      ],
      "execution_count": 125,
      "outputs": [
        {
          "output_type": "execute_result",
          "data": {
            "text/html": [
              "<div>\n",
              "<style scoped>\n",
              "    .dataframe tbody tr th:only-of-type {\n",
              "        vertical-align: middle;\n",
              "    }\n",
              "\n",
              "    .dataframe tbody tr th {\n",
              "        vertical-align: top;\n",
              "    }\n",
              "\n",
              "    .dataframe thead th {\n",
              "        text-align: right;\n",
              "    }\n",
              "</style>\n",
              "<table border=\"1\" class=\"dataframe\">\n",
              "  <thead>\n",
              "    <tr style=\"text-align: right;\">\n",
              "      <th></th>\n",
              "      <th>Assignment group</th>\n",
              "      <th>desc</th>\n",
              "      <th>desc_clean</th>\n",
              "      <th>review_len</th>\n",
              "      <th>word_count</th>\n",
              "    </tr>\n",
              "  </thead>\n",
              "  <tbody>\n",
              "    <tr>\n",
              "      <th>0</th>\n",
              "      <td>GRP_0</td>\n",
              "      <td>login issue -verified user details.(employee# &amp; manager name)\\r\\n-checked the user name in ad and reset the password.\\r\\n-advised the user to login and check.\\r\\n-caller confirmed that he was able to login.\\r\\n-issue resolved. spxjnwir pjlcoqds</td>\n",
              "      <td>login issue verified user details employee and manager name checked the user name in ad and reset the password advised the user to login and check caller confirmed that he was able to login issue resolved spxjnwir pjlcoqds</td>\n",
              "      <td>222</td>\n",
              "      <td>38</td>\n",
              "    </tr>\n",
              "    <tr>\n",
              "      <th>1</th>\n",
              "      <td>GRP_0</td>\n",
              "      <td>outlook \\r\\n\\r\\nreceived from: hmjdrvpb.komuaywn@gmail.com\\r\\n\\r\\nhello team,\\r\\n\\r\\nmy meetings/skype meetings etc are not appearing in my outlook calendar, can somebody please advise how to correct this?\\r\\n\\r\\nkind  hmjdrvpb komuaywn</td>\n",
              "      <td>outlook hello team my meetings skype meetings etc are not appearing in my outlook calendar can somebody please advise how to correct this kind hmjdrvpb komuaywn</td>\n",
              "      <td>160</td>\n",
              "      <td>26</td>\n",
              "    </tr>\n",
              "    <tr>\n",
              "      <th>2</th>\n",
              "      <td>GRP_0</td>\n",
              "      <td>cant log in to vpn \\r\\n\\r\\nreceived from: eylqgodm.ybqkwiam@gmail.com\\r\\n\\r\\nhi\\r\\n\\r\\ni cannot log on to vpn\\r\\n\\r\\nbest  eylqgodm ybqkwiam</td>\n",
              "      <td>cant log in to vpn hi cannot log on to vpn best eylqgodm ybqkwiam</td>\n",
              "      <td>65</td>\n",
              "      <td>14</td>\n",
              "    </tr>\n",
              "    <tr>\n",
              "      <th>3</th>\n",
              "      <td>GRP_0</td>\n",
              "      <td>unable to access hr_tool page unable to access hr_tool page xbkucsvz gcpydteq</td>\n",
              "      <td>unable to access hr tool page unable to access hr tool page xbkucsvz gcpydteq</td>\n",
              "      <td>77</td>\n",
              "      <td>14</td>\n",
              "    </tr>\n",
              "    <tr>\n",
              "      <th>4</th>\n",
              "      <td>GRP_0</td>\n",
              "      <td>skype error  skype error  owlgqjme qhcozdfx</td>\n",
              "      <td>skype error skype error owlgqjme qhcozdfx</td>\n",
              "      <td>41</td>\n",
              "      <td>6</td>\n",
              "    </tr>\n",
              "    <tr>\n",
              "      <th>5</th>\n",
              "      <td>GRP_0</td>\n",
              "      <td>unable to log in to engineering tool and skype unable to log in to engineering tool and skype eflahbxn ltdgrvkz</td>\n",
              "      <td>unable to log in to engineering tool and skype unable to log in to engineering tool and skype eflahbxn ltdgrvkz</td>\n",
              "      <td>111</td>\n",
              "      <td>20</td>\n",
              "    </tr>\n",
              "    <tr>\n",
              "      <th>6</th>\n",
              "      <td>GRP_1</td>\n",
              "      <td>event: critical:HostName_221.company.com the value of mountpoint threshold for /oracle/SID_37/erpdata21/  event: critical:HostName_221.company.com the value of mountpoint threshold for /oracle/SID_37/erpdata21/sr3psa1d_7/sr3psa1d.data7,perpsr3psa1d,4524 is 98 jyoqwxhz clhxsoqy</td>\n",
              "      <td>event critical hostname 221 company com the value of mountpoint threshold for oracle sid 37 erpdata21 event critical hostname 221 company com the value of mountpoint threshold for oracle sid 37 erpdata21 sr3psa1d 7 sr3psa1d data7 perpsr3psa1d 4524 is 98 jyoqwxhz clhxsoqy</td>\n",
              "      <td>271</td>\n",
              "      <td>42</td>\n",
              "    </tr>\n",
              "    <tr>\n",
              "      <th>7</th>\n",
              "      <td>GRP_0</td>\n",
              "      <td>ticket_no1550391- employment status - new non-employee [enter user's name] ticket_no1550391- employment status - new non-employee [enter user's name] eqzibjhw ymebpoih</td>\n",
              "      <td>ticket no1550391 employment status new non employee enter user name ticket no1550391 employment status new non employee enter user name eqzibjhw ymebpoih</td>\n",
              "      <td>153</td>\n",
              "      <td>22</td>\n",
              "    </tr>\n",
              "    <tr>\n",
              "      <th>8</th>\n",
              "      <td>GRP_0</td>\n",
              "      <td>unable to disable add ins on outlook unable to disable add ins on outlook mdbegvct dbvichlg</td>\n",
              "      <td>unable to disable add ins on outlook unable to disable add ins on outlook mdbegvct dbvichlg</td>\n",
              "      <td>91</td>\n",
              "      <td>16</td>\n",
              "    </tr>\n",
              "    <tr>\n",
              "      <th>9</th>\n",
              "      <td>GRP_0</td>\n",
              "      <td>ticket update on inplant_874773 ticket update on inplant_874773 fumkcsji sarmtlhy</td>\n",
              "      <td>ticket update on inplant 874773 ticket update on inplant 874773 fumkcsji sarmtlhy</td>\n",
              "      <td>81</td>\n",
              "      <td>12</td>\n",
              "    </tr>\n",
              "    <tr>\n",
              "      <th>10</th>\n",
              "      <td>GRP_0</td>\n",
              "      <td>engineering tool says not connected and unable to submit reports engineering tool says not connected and unable to submit reports badgknqs xwelumfz</td>\n",
              "      <td>engineering tool says not connected and unable to submit reports engineering tool says not connected and unable to submit reports badgknqs xwelumfz</td>\n",
              "      <td>147</td>\n",
              "      <td>22</td>\n",
              "    </tr>\n",
              "    <tr>\n",
              "      <th>11</th>\n",
              "      <td>GRP_0</td>\n",
              "      <td>hr_tool site not loading page correctly hr_tool site not loading page correctly dcqsolkx kmsijcuz</td>\n",
              "      <td>hr tool site not loading page correctly hr tool site not loading page correctly dcqsolkx kmsijcuz</td>\n",
              "      <td>97</td>\n",
              "      <td>16</td>\n",
              "    </tr>\n",
              "    <tr>\n",
              "      <th>12</th>\n",
              "      <td>GRP_0</td>\n",
              "      <td>unable to login to hr_tool to sgxqsuojr xwbesorf cards unable to login to hr_tool to sgxqsuojr xwbesorf cards oblekmrw qltgvspb</td>\n",
              "      <td>unable to login to hr tool to sgxqsuojr xwbesorf cards unable to login to hr tool to sgxqsuojr xwbesorf cards oblekmrw qltgvspb</td>\n",
              "      <td>127</td>\n",
              "      <td>22</td>\n",
              "    </tr>\n",
              "    <tr>\n",
              "      <th>13</th>\n",
              "      <td>GRP_0</td>\n",
              "      <td>user wants to reset the password user wants to reset the password iftldbmu fujslwby</td>\n",
              "      <td>user wants to reset the password user wants to reset the password iftldbmu fujslwby</td>\n",
              "      <td>83</td>\n",
              "      <td>14</td>\n",
              "    </tr>\n",
              "    <tr>\n",
              "      <th>14</th>\n",
              "      <td>GRP_0</td>\n",
              "      <td>unable to open payslips  unable to open payslips  epwyvjsz najukwho</td>\n",
              "      <td>unable to open payslips unable to open payslips epwyvjsz najukwho</td>\n",
              "      <td>65</td>\n",
              "      <td>10</td>\n",
              "    </tr>\n",
              "    <tr>\n",
              "      <th>15</th>\n",
              "      <td>GRP_0</td>\n",
              "      <td>ticket update on inplant_874743 ticket update on inplant_874743 fumkcsji sarmtlhy</td>\n",
              "      <td>ticket update on inplant 874743 ticket update on inplant 874743 fumkcsji sarmtlhy</td>\n",
              "      <td>81</td>\n",
              "      <td>12</td>\n",
              "    </tr>\n",
              "    <tr>\n",
              "      <th>16</th>\n",
              "      <td>GRP_0</td>\n",
              "      <td>unable to login to company vpn \\n\\nreceived from: xyz@company.com\\n\\nhi,\\n\\ni am unable to login to company vpn website, trying to open a new session using the below link, but not able to get through pls help urgently as we are working from home tomorrow due to month end closing.  chobktqj qdamxfuc</td>\n",
              "      <td>unable to login to company vpn hi am unable to login to company vpn website trying to open new session using the below link but not able to get through pls help urgently as we are working from home tomorrow due to month end closing chobktqj qdamxfuc</td>\n",
              "      <td>249</td>\n",
              "      <td>47</td>\n",
              "    </tr>\n",
              "    <tr>\n",
              "      <th>17</th>\n",
              "      <td>GRP_3</td>\n",
              "      <td>when undocking pc , screen will not come back when undocking pc , screen will not come back sigfdwcj reofwzlm</td>\n",
              "      <td>when undocking pc screen will not come back when undocking pc screen will not come back sigfdwcj reofwzlm</td>\n",
              "      <td>105</td>\n",
              "      <td>18</td>\n",
              "    </tr>\n",
              "    <tr>\n",
              "      <th>18</th>\n",
              "      <td>GRP_0</td>\n",
              "      <td>erp SID_34 account locked erp SID_34 account locked nqdyowsm yqerwtna</td>\n",
              "      <td>erp sid 34 account locked erp sid 34 account locked nqdyowsm yqerwtna</td>\n",
              "      <td>69</td>\n",
              "      <td>12</td>\n",
              "    </tr>\n",
              "    <tr>\n",
              "      <th>19</th>\n",
              "      <td>GRP_0</td>\n",
              "      <td>unable to sign into vpn unable to sign into vpn ftsqkvre bqzrupic</td>\n",
              "      <td>unable to sign into vpn unable to sign into vpn ftsqkvre bqzrupic</td>\n",
              "      <td>65</td>\n",
              "      <td>12</td>\n",
              "    </tr>\n",
              "    <tr>\n",
              "      <th>20</th>\n",
              "      <td>GRP_0</td>\n",
              "      <td>unable to check payslips unable to check payslips mrzgjdal whnldmef</td>\n",
              "      <td>unable to check payslips unable to check payslips mrzgjdal whnldmef</td>\n",
              "      <td>67</td>\n",
              "      <td>10</td>\n",
              "    </tr>\n",
              "    <tr>\n",
              "      <th>21</th>\n",
              "      <td>GRP_0</td>\n",
              "      <td>vpn issue \\r\\n\\r\\nreceived from: ugephfta.hrbqkvij@gmail.com\\r\\n\\r\\nhello helpdesk\\r\\n\\r\\ni am not able to connect vpn from home office. couple f hours ago i was connected, now it is not working anymore. getting a message that my session expired but if i click on the link, nothing happens.\\r\\n\\r\\n[cid:image001.jpg@01d233aa.3f618be0]\\r\\n\\r\\n*********************\\r\\n\\r\\nneed help with your dynamics crm?\\r\\nclick here&lt;\\r\\n\\r\\nchat with a live agent regarding your dynamics crm questions now! click here&lt;\\r\\n\\r\\nbest  ugephfta hrbqkvij</td>\n",
              "      <td>vpn issue hello helpdesk am not able to connect vpn from home office couple hours ago was connected now it is not working anymore getting message that my session expired but if click on the link nothing happens need help with your dynamics crm click here chat with live agent regarding your dynamics crm questions now click here best ugephfta hrbqkvij</td>\n",
              "      <td>351</td>\n",
              "      <td>61</td>\n",
              "    </tr>\n",
              "    <tr>\n",
              "      <th>22</th>\n",
              "      <td>GRP_0</td>\n",
              "      <td>unable to connect to vpn unable to connect to vpn pfmcnahv ofzlusri</td>\n",
              "      <td>unable to connect to vpn unable to connect to vpn pfmcnahv ofzlusri</td>\n",
              "      <td>67</td>\n",
              "      <td>12</td>\n",
              "    </tr>\n",
              "    <tr>\n",
              "      <th>23</th>\n",
              "      <td>GRP_0</td>\n",
              "      <td>user called for vendor phone number user called for vendor phone number fumkcsji sarmtlhy</td>\n",
              "      <td>user called for vendor phone number user called for vendor phone number fumkcsji sarmtlhy</td>\n",
              "      <td>89</td>\n",
              "      <td>14</td>\n",
              "    </tr>\n",
              "    <tr>\n",
              "      <th>24</th>\n",
              "      <td>GRP_0</td>\n",
              "      <td>vpn not working \\n\\nreceived from: dceoufyz.saufqkmd@gmail.com\\n\\nhello,\\n\\ni'm not being able to connect to company network through the vpn. pls check.\\n\\ncc: sir-i am not being able to upload as a result of no company network.\\n\\n dceoufyz saufqkmd</td>\n",
              "      <td>vpn not working hello m not being able to connect to company network through the vpn pls check sir am not being able to upload as result of no company network dceoufyz saufqkmd</td>\n",
              "      <td>176</td>\n",
              "      <td>33</td>\n",
              "    </tr>\n",
              "    <tr>\n",
              "      <th>25</th>\n",
              "      <td>GRP_0</td>\n",
              "      <td>erp SID_37 password reset  erp SID_37 password reset  jqhtkfsm xoehtbnl</td>\n",
              "      <td>erp sid 37 password reset erp sid 37 password reset jqhtkfsm xoehtbnl</td>\n",
              "      <td>69</td>\n",
              "      <td>12</td>\n",
              "    </tr>\n",
              "    <tr>\n",
              "      <th>26</th>\n",
              "      <td>GRP_0</td>\n",
              "      <td>unable to login to hr_tool to check payslips unable to login to hr_tool to check payslips dtisfuyp fpvrjlkz</td>\n",
              "      <td>unable to login to hr tool to check payslips unable to login to hr tool to check payslips dtisfuyp fpvrjlkz</td>\n",
              "      <td>107</td>\n",
              "      <td>20</td>\n",
              "    </tr>\n",
              "    <tr>\n",
              "      <th>27</th>\n",
              "      <td>GRP_0</td>\n",
              "      <td>account locked out account locked out lduqxywt wcydjgvl</td>\n",
              "      <td>account locked out account locked out lduqxywt wcydjgvl</td>\n",
              "      <td>55</td>\n",
              "      <td>8</td>\n",
              "    </tr>\n",
              "    <tr>\n",
              "      <th>28</th>\n",
              "      <td>GRP_0</td>\n",
              "      <td>unable to login to hr_tool unable to login to hr_tool mwebfhdz csndrxgi</td>\n",
              "      <td>unable to login to hr tool unable to login to hr tool mwebfhdz csndrxgi</td>\n",
              "      <td>71</td>\n",
              "      <td>14</td>\n",
              "    </tr>\n",
              "    <tr>\n",
              "      <th>29</th>\n",
              "      <td>GRP_0</td>\n",
              "      <td>unable to log in to erp SID_34  unable to log in to erp SID_34  hvskpglx bpsfxmon</td>\n",
              "      <td>unable to log in to erp sid 34 unable to log in to erp sid 34 hvskpglx bpsfxmon</td>\n",
              "      <td>79</td>\n",
              "      <td>18</td>\n",
              "    </tr>\n",
              "    <tr>\n",
              "      <th>30</th>\n",
              "      <td>GRP_0</td>\n",
              "      <td>password reset for collaboration_platform password reset for collaboration_platform wrlzneit ayqutwgh</td>\n",
              "      <td>password reset for collaboration platform password reset for collaboration platform wrlzneit ayqutwgh</td>\n",
              "      <td>101</td>\n",
              "      <td>12</td>\n",
              "    </tr>\n",
              "    <tr>\n",
              "      <th>31</th>\n",
              "      <td>GRP_0</td>\n",
              "      <td>reset  users hi\\n\\nplease reset users password\\n\\nclient id: 794\\nusername : xyz\\n\\n qcehailo wqynckxg</td>\n",
              "      <td>reset users hi please reset users password client id 794 username xyz qcehailo wqynckxg</td>\n",
              "      <td>87</td>\n",
              "      <td>14</td>\n",
              "    </tr>\n",
              "    <tr>\n",
              "      <th>32</th>\n",
              "      <td>GRP_4</td>\n",
              "      <td>duplication of network address. \\n\\nreceived from: kxsceyzo.naokumlb@gmail.com\\n\\ngentles,\\n\\ni have two devices that are trying to share an ip address. they are trying to share 96.26.27.9619. one is a printer with the hostname of prtjc0074, and the other is a new display for erp. the display is using dhcp to get its address assigned and the printer is hard coded.\\n\\nmy guess is that the address 96.26.27.9619 did not get set to a static address in dhcp. i need this corrected so the display will pick up another address.\\n\\n kxsceyzo naokumlb</td>\n",
              "      <td>duplication of network address gentles have two devices that are trying to share an ip address they are trying to share 96 26 27 9619 one is printer with the hostname of prtjc0074 and the other is new display for erp the display is using dhcp to get its address assigned and the printer is hard coded my guess is that the address 96 26 27 9619 did not get set to static address in dhcp need this corrected so the display will pick up another address kxsceyzo naokumlb</td>\n",
              "      <td>467</td>\n",
              "      <td>89</td>\n",
              "    </tr>\n",
              "    <tr>\n",
              "      <th>33</th>\n",
              "      <td>GRP_0</td>\n",
              "      <td>ess password reset ess password reset fsqwkbez eudsantq</td>\n",
              "      <td>ess password reset ess password reset fsqwkbez eudsantq</td>\n",
              "      <td>55</td>\n",
              "      <td>8</td>\n",
              "    </tr>\n",
              "    <tr>\n",
              "      <th>34</th>\n",
              "      <td>GRP_0</td>\n",
              "      <td>unable to install flash player unable to install flash player xzbhmfpg bhqxesym</td>\n",
              "      <td>unable to install flash player unable to install flash player xzbhmfpg bhqxesym</td>\n",
              "      <td>79</td>\n",
              "      <td>12</td>\n",
              "    </tr>\n",
              "    <tr>\n",
              "      <th>35</th>\n",
              "      <td>GRP_0</td>\n",
              "      <td>ticket_no1564677-employment status - new non-employee  ticket_no1564677-employment status - new non-employee \\r\\n eqzibjhw ymebpoih</td>\n",
              "      <td>ticket no1564677 employment status new non employee ticket no1564677 employment status new non employee eqzibjhw ymebpoih</td>\n",
              "      <td>121</td>\n",
              "      <td>16</td>\n",
              "    </tr>\n",
              "    <tr>\n",
              "      <th>36</th>\n",
              "      <td>GRP_0</td>\n",
              "      <td>erp SID_34 account unlock and password reset erp SID_34 account unlock and password reset ztlvkmyi xldyitwz</td>\n",
              "      <td>erp sid 34 account unlock and password reset erp sid 34 account unlock and password reset ztlvkmyi xldyitwz</td>\n",
              "      <td>107</td>\n",
              "      <td>18</td>\n",
              "    </tr>\n",
              "    <tr>\n",
              "      <th>37</th>\n",
              "      <td>GRP_0</td>\n",
              "      <td>unable to resolve ticket_no assigned to self the status button is dierppearing after a few seconds. shloyakw jztsxdln</td>\n",
              "      <td>unable to resolve ticket no assigned to self the status button is dierppearing after few seconds shloyakw jztsxdln</td>\n",
              "      <td>114</td>\n",
              "      <td>18</td>\n",
              "    </tr>\n",
              "    <tr>\n",
              "      <th>38</th>\n",
              "      <td>GRP_0</td>\n",
              "      <td>installing engineering tool need to install engineering tool on the pc qcxivzag vyucbagx</td>\n",
              "      <td>installing engineering tool need to install engineering tool on the pc qcxivzag vyucbagx</td>\n",
              "      <td>88</td>\n",
              "      <td>13</td>\n",
              "    </tr>\n",
              "    <tr>\n",
              "      <th>39</th>\n",
              "      <td>GRP_0</td>\n",
              "      <td>call for ecwtrjnq jpecxuty call for ecwtrjnq jpecxuty olckhmvx pcqobjnd</td>\n",
              "      <td>call for ecwtrjnq jpecxuty call for ecwtrjnq jpecxuty olckhmvx pcqobjnd</td>\n",
              "      <td>71</td>\n",
              "      <td>10</td>\n",
              "    </tr>\n",
              "    <tr>\n",
              "      <th>40</th>\n",
              "      <td>GRP_0</td>\n",
              "      <td>ticket update - inplant_874615 ticket update - inplant_874615 olckhmvx pcqobjnd</td>\n",
              "      <td>ticket update inplant 874615 ticket update inplant 874615 olckhmvx pcqobjnd</td>\n",
              "      <td>75</td>\n",
              "      <td>10</td>\n",
              "    </tr>\n",
              "    <tr>\n",
              "      <th>41</th>\n",
              "      <td>GRP_0</td>\n",
              "      <td>tablet 7350-sound not working tablet 7350-sound not working eqxakzyi cwfrjitq</td>\n",
              "      <td>tablet 7350 sound not working tablet 7350 sound not working eqxakzyi cwfrjitq</td>\n",
              "      <td>77</td>\n",
              "      <td>12</td>\n",
              "    </tr>\n",
              "    <tr>\n",
              "      <th>42</th>\n",
              "      <td>GRP_0</td>\n",
              "      <td>unable to login to system unable to login to system zcaeryfo tdovhslb</td>\n",
              "      <td>unable to login to system unable to login to system zcaeryfo tdovhslb</td>\n",
              "      <td>69</td>\n",
              "      <td>12</td>\n",
              "    </tr>\n",
              "    <tr>\n",
              "      <th>43</th>\n",
              "      <td>GRP_5</td>\n",
              "      <td>please reroute jobs on printer01 to printer02 - issue needs to be resolved today \\n\\nreceived from: yisohglr.uvteflgb@gmail.com\\n\\nhi -\\n\\nthe printer01 printer is not working and needs a part replaced.  can you reroute the jobs in queue to printer printer02?   wihuyjdo qpogfwkb has indicated that prqos001 needs a new part and it may not deliver for a few days so the inwarehouse_tools will need to print on printer02 for now.  this needs to be taken care of today since the inwarehouse_tools are printed and are picked up by an outside vendor at 2:30 pm in usa on a daily basis.   please contact dkmcfreg anwmfvlgenkataramdntyana if you have questions about the jobs in queue for today.\\n\\n yisohglr uvteflgb</td>\n",
              "      <td>please reroute jobs on printer01 to printer02 issue needs to be resolved today hi the printer01 printer is not working and needs part replaced can you reroute the jobs in queue to printer printer02 wihuyjdo qpogfwkb has indicated that prqos001 needs new part and it may not deliver for few days so the inwarehouse tools will need to print on printer02 for now this needs to be taken care of today since the inwarehouse tools are printed and are picked up by an outside vendor at 2 30 pm in usa on daily basis please contact dkmcfreg anwmfvlgenkataramdntyana if you have questions about the jobs in queue for today yisohglr uvteflgb</td>\n",
              "      <td>631</td>\n",
              "      <td>111</td>\n",
              "    </tr>\n",
              "    <tr>\n",
              "      <th>44</th>\n",
              "      <td>GRP_0</td>\n",
              "      <td>unable to login to hr_tool etime unable to login to hr_tool etime wxdrynag hlktazfm</td>\n",
              "      <td>unable to login to hr tool etime unable to login to hr tool etime wxdrynag hlktazfm</td>\n",
              "      <td>83</td>\n",
              "      <td>16</td>\n",
              "    </tr>\n",
              "    <tr>\n",
              "      <th>45</th>\n",
              "      <td>GRP_0</td>\n",
              "      <td>can not log into hr_tool etime through single sign on portal can not log into hr_tool etime through single sign on portal wpdxlbhz etvzjmhx</td>\n",
              "      <td>can not log into hr tool etime through single sign on portal can not log into hr tool etime through single sign on portal wpdxlbhz etvzjmhx</td>\n",
              "      <td>139</td>\n",
              "      <td>26</td>\n",
              "    </tr>\n",
              "    <tr>\n",
              "      <th>46</th>\n",
              "      <td>GRP_0</td>\n",
              "      <td>password changed in password_management_tool but didnt update for erp account password changed in password_management_tool but didnt update for erp account lduqxywt wcydjgvl</td>\n",
              "      <td>password changed in password management tool but didnt update for erp account password changed in password management tool but didnt update for erp account lduqxywt wcydjgvl</td>\n",
              "      <td>173</td>\n",
              "      <td>26</td>\n",
              "    </tr>\n",
              "    <tr>\n",
              "      <th>47</th>\n",
              "      <td>GRP_6</td>\n",
              "      <td>job Job_1424 failed in job_scheduler at: 10/31/2016 09:06:00   received from: monitoring_tool@company.com\\r\\n\\r\\njob Job_1424 failed in job_scheduler at: 10/31/2016 09:06:00 bpctwhsn kzqsbmtp</td>\n",
              "      <td>job job 1424 failed in job scheduler at 10 31 2016 09 06 00 job job 1424 failed in job scheduler at 10 31 2016 09 06 00 bpctwhsn kzqsbmtp</td>\n",
              "      <td>137</td>\n",
              "      <td>30</td>\n",
              "    </tr>\n",
              "    <tr>\n",
              "      <th>48</th>\n",
              "      <td>GRP_0</td>\n",
              "      <td>windows password change via password_management_tool windows password change via password_management_tool boyqfsca yoqrmnep</td>\n",
              "      <td>windows password change via password management tool windows password change via password management tool boyqfsca yoqrmnep</td>\n",
              "      <td>123</td>\n",
              "      <td>16</td>\n",
              "    </tr>\n",
              "    <tr>\n",
              "      <th>49</th>\n",
              "      <td>GRP_7</td>\n",
              "      <td>status does not change on telephony_software when closing a call, the agent keeps on the \"on acd call\" status. aofnvyzt eqiyskhm</td>\n",
              "      <td>status does not change on telephony software when closing call the agent keeps on the on acd call status aofnvyzt eqiyskhm</td>\n",
              "      <td>122</td>\n",
              "      <td>21</td>\n",
              "    </tr>\n",
              "  </tbody>\n",
              "</table>\n",
              "</div>"
            ],
            "text/plain": [
              "   Assignment group  ... word_count\n",
              "0   GRP_0            ...  38       \n",
              "1   GRP_0            ...  26       \n",
              "2   GRP_0            ...  14       \n",
              "3   GRP_0            ...  14       \n",
              "4   GRP_0            ...  6        \n",
              "5   GRP_0            ...  20       \n",
              "6   GRP_1            ...  42       \n",
              "7   GRP_0            ...  22       \n",
              "8   GRP_0            ...  16       \n",
              "9   GRP_0            ...  12       \n",
              "10  GRP_0            ...  22       \n",
              "11  GRP_0            ...  16       \n",
              "12  GRP_0            ...  22       \n",
              "13  GRP_0            ...  14       \n",
              "14  GRP_0            ...  10       \n",
              "15  GRP_0            ...  12       \n",
              "16  GRP_0            ...  47       \n",
              "17  GRP_3            ...  18       \n",
              "18  GRP_0            ...  12       \n",
              "19  GRP_0            ...  12       \n",
              "20  GRP_0            ...  10       \n",
              "21  GRP_0            ...  61       \n",
              "22  GRP_0            ...  12       \n",
              "23  GRP_0            ...  14       \n",
              "24  GRP_0            ...  33       \n",
              "25  GRP_0            ...  12       \n",
              "26  GRP_0            ...  20       \n",
              "27  GRP_0            ...  8        \n",
              "28  GRP_0            ...  14       \n",
              "29  GRP_0            ...  18       \n",
              "30  GRP_0            ...  12       \n",
              "31  GRP_0            ...  14       \n",
              "32  GRP_4            ...  89       \n",
              "33  GRP_0            ...  8        \n",
              "34  GRP_0            ...  12       \n",
              "35  GRP_0            ...  16       \n",
              "36  GRP_0            ...  18       \n",
              "37  GRP_0            ...  18       \n",
              "38  GRP_0            ...  13       \n",
              "39  GRP_0            ...  10       \n",
              "40  GRP_0            ...  10       \n",
              "41  GRP_0            ...  12       \n",
              "42  GRP_0            ...  12       \n",
              "43  GRP_5            ...  111      \n",
              "44  GRP_0            ...  16       \n",
              "45  GRP_0            ...  26       \n",
              "46  GRP_0            ...  26       \n",
              "47  GRP_6            ...  30       \n",
              "48  GRP_0            ...  16       \n",
              "49  GRP_7            ...  21       \n",
              "\n",
              "[50 rows x 5 columns]"
            ]
          },
          "metadata": {
            "tags": []
          },
          "execution_count": 125
        }
      ]
    },
    {
      "cell_type": "code",
      "metadata": {
        "id": "oUuNrIQIbeT0"
      },
      "source": [
        "ticket_df['desc_punct'] = ticket_df['desc_clean'].map(preProcessing.remove_punctuation)\n",
        "ticket_df['desc_token'] = ticket_df['desc_punct'].map(preProcessing.make_tokens)\n",
        "ticket_df['desc_stop'] = ticket_df['desc_token'].map(preProcessing.remove_stopwords)\n",
        "ticket_df['desc_lemma'] = ticket_df['desc_stop'].map(preProcessing.word_lemmatize)"
      ],
      "execution_count": 130,
      "outputs": []
    },
    {
      "cell_type": "code",
      "metadata": {
        "colab": {
          "base_uri": "https://localhost:8080/",
          "height": 697
        },
        "id": "-Il6J0yMbeT1",
        "outputId": "20cac395-ef65-4347-dce6-611c0366c494"
      },
      "source": [
        "ticket_df.head()"
      ],
      "execution_count": 131,
      "outputs": [
        {
          "output_type": "execute_result",
          "data": {
            "text/html": [
              "<div>\n",
              "<style scoped>\n",
              "    .dataframe tbody tr th:only-of-type {\n",
              "        vertical-align: middle;\n",
              "    }\n",
              "\n",
              "    .dataframe tbody tr th {\n",
              "        vertical-align: top;\n",
              "    }\n",
              "\n",
              "    .dataframe thead th {\n",
              "        text-align: right;\n",
              "    }\n",
              "</style>\n",
              "<table border=\"1\" class=\"dataframe\">\n",
              "  <thead>\n",
              "    <tr style=\"text-align: right;\">\n",
              "      <th></th>\n",
              "      <th>Assignment group</th>\n",
              "      <th>desc</th>\n",
              "      <th>desc_clean</th>\n",
              "      <th>review_len</th>\n",
              "      <th>word_count</th>\n",
              "      <th>desc_punct</th>\n",
              "      <th>desc_token</th>\n",
              "      <th>desc_stop</th>\n",
              "      <th>desc_lemma</th>\n",
              "    </tr>\n",
              "  </thead>\n",
              "  <tbody>\n",
              "    <tr>\n",
              "      <th>0</th>\n",
              "      <td>GRP_0</td>\n",
              "      <td>login issue -verified user details.(employee# &amp; manager name)\\r\\n-checked the user name in ad and reset the password.\\r\\n-advised the user to login and check.\\r\\n-caller confirmed that he was able to login.\\r\\n-issue resolved. spxjnwir pjlcoqds</td>\n",
              "      <td>login issue verified user details employee and manager name checked the user name in ad and reset the password advised the user to login and check caller confirmed that he was able to login issue resolved spxjnwir pjlcoqds</td>\n",
              "      <td>222</td>\n",
              "      <td>38</td>\n",
              "      <td>login issue verified user details employee and manager name checked the user name in ad and reset the password advised the user to login and check caller confirmed that he was able to login issue resolved spxjnwir pjlcoqds</td>\n",
              "      <td>[login, issue, verified, user, details, employee, and, manager, name, checked, the, user, name, in, ad, and, reset, the, password, advised, the, user, to, login, and, check, caller, confirmed, that, he, was, able, to, login, issue, resolved, spxjnwir, pjlcoqds]</td>\n",
              "      <td>[login, issue, verified, user, details, employee, manager, name, checked, user, name, ad, reset, password, advised, user, login, check, caller, confirmed, able, login, issue, resolved, spxjnwir, pjlcoqds]</td>\n",
              "      <td>[login, issue, verified, user, detail, employee, manager, name, checked, user, name, ad, reset, password, advised, user, login, check, caller, confirmed, able, login, issue, resolved, spxjnwir, pjlcoqds]</td>\n",
              "    </tr>\n",
              "    <tr>\n",
              "      <th>1</th>\n",
              "      <td>GRP_0</td>\n",
              "      <td>outlook \\r\\n\\r\\nreceived from: hmjdrvpb.komuaywn@gmail.com\\r\\n\\r\\nhello team,\\r\\n\\r\\nmy meetings/skype meetings etc are not appearing in my outlook calendar, can somebody please advise how to correct this?\\r\\n\\r\\nkind  hmjdrvpb komuaywn</td>\n",
              "      <td>outlook hello team my meetings skype meetings etc are not appearing in my outlook calendar can somebody please advise how to correct this kind hmjdrvpb komuaywn</td>\n",
              "      <td>160</td>\n",
              "      <td>26</td>\n",
              "      <td>outlook hello team my meetings skype meetings etc are not appearing in my outlook calendar can somebody please advise how to correct this kind hmjdrvpb komuaywn</td>\n",
              "      <td>[outlook, hello, team, my, meetings, skype, meetings, etc, are, not, appearing, in, my, outlook, calendar, can, somebody, please, advise, how, to, correct, this, kind, hmjdrvpb, komuaywn]</td>\n",
              "      <td>[outlook, hello, team, meetings, skype, meetings, etc, appearing, outlook, calendar, somebody, please, advise, correct, kind, hmjdrvpb, komuaywn]</td>\n",
              "      <td>[outlook, hello, team, meeting, skype, meeting, etc, appearing, outlook, calendar, somebody, please, advise, correct, kind, hmjdrvpb, komuaywn]</td>\n",
              "    </tr>\n",
              "    <tr>\n",
              "      <th>2</th>\n",
              "      <td>GRP_0</td>\n",
              "      <td>cant log in to vpn \\r\\n\\r\\nreceived from: eylqgodm.ybqkwiam@gmail.com\\r\\n\\r\\nhi\\r\\n\\r\\ni cannot log on to vpn\\r\\n\\r\\nbest  eylqgodm ybqkwiam</td>\n",
              "      <td>cant log in to vpn hi cannot log on to vpn best eylqgodm ybqkwiam</td>\n",
              "      <td>65</td>\n",
              "      <td>14</td>\n",
              "      <td>cant log in to vpn hi cannot log on to vpn best eylqgodm ybqkwiam</td>\n",
              "      <td>[cant, log, in, to, vpn, hi, cannot, log, on, to, vpn, best, eylqgodm, ybqkwiam]</td>\n",
              "      <td>[cant, log, vpn, hi, cannot, log, vpn, best, eylqgodm, ybqkwiam]</td>\n",
              "      <td>[cant, log, vpn, hi, cannot, log, vpn, best, eylqgodm, ybqkwiam]</td>\n",
              "    </tr>\n",
              "    <tr>\n",
              "      <th>3</th>\n",
              "      <td>GRP_0</td>\n",
              "      <td>unable to access hr_tool page unable to access hr_tool page xbkucsvz gcpydteq</td>\n",
              "      <td>unable to access hr tool page unable to access hr tool page xbkucsvz gcpydteq</td>\n",
              "      <td>77</td>\n",
              "      <td>14</td>\n",
              "      <td>unable to access hr tool page unable to access hr tool page xbkucsvz gcpydteq</td>\n",
              "      <td>[unable, to, access, hr, tool, page, unable, to, access, hr, tool, page, xbkucsvz, gcpydteq]</td>\n",
              "      <td>[unable, access, hr, tool, page, unable, access, hr, tool, page, xbkucsvz, gcpydteq]</td>\n",
              "      <td>[unable, access, hr, tool, page, unable, access, hr, tool, page, xbkucsvz, gcpydteq]</td>\n",
              "    </tr>\n",
              "    <tr>\n",
              "      <th>4</th>\n",
              "      <td>GRP_0</td>\n",
              "      <td>skype error  skype error  owlgqjme qhcozdfx</td>\n",
              "      <td>skype error skype error owlgqjme qhcozdfx</td>\n",
              "      <td>41</td>\n",
              "      <td>6</td>\n",
              "      <td>skype error skype error owlgqjme qhcozdfx</td>\n",
              "      <td>[skype, error, skype, error, owlgqjme, qhcozdfx]</td>\n",
              "      <td>[skype, error, skype, error, owlgqjme, qhcozdfx]</td>\n",
              "      <td>[skype, error, skype, error, owlgqjme, qhcozdfx]</td>\n",
              "    </tr>\n",
              "  </tbody>\n",
              "</table>\n",
              "</div>"
            ],
            "text/plain": [
              "  Assignment group  ...                                                                                                                                                                                                   desc_lemma\n",
              "0  GRP_0            ...  [login, issue, verified, user, detail, employee, manager, name, checked, user, name, ad, reset, password, advised, user, login, check, caller, confirmed, able, login, issue, resolved, spxjnwir, pjlcoqds]\n",
              "1  GRP_0            ...  [outlook, hello, team, meeting, skype, meeting, etc, appearing, outlook, calendar, somebody, please, advise, correct, kind, hmjdrvpb, komuaywn]                                                            \n",
              "2  GRP_0            ...  [cant, log, vpn, hi, cannot, log, vpn, best, eylqgodm, ybqkwiam]                                                                                                                                           \n",
              "3  GRP_0            ...  [unable, access, hr, tool, page, unable, access, hr, tool, page, xbkucsvz, gcpydteq]                                                                                                                       \n",
              "4  GRP_0            ...  [skype, error, skype, error, owlgqjme, qhcozdfx]                                                                                                                                                           \n",
              "\n",
              "[5 rows x 9 columns]"
            ]
          },
          "metadata": {
            "tags": []
          },
          "execution_count": 131
        }
      ]
    },
    {
      "cell_type": "code",
      "metadata": {
        "id": "EC6beEEcR64_"
      },
      "source": [
        ""
      ],
      "execution_count": null,
      "outputs": []
    }
  ]
}