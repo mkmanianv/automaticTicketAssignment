{
  "nbformat": 4,
  "nbformat_minor": 0,
  "metadata": {
    "colab": {
      "name": "AIML Online Capstone - Automatic Ticket Assignment.ipynb",
      "provenance": [],
      "collapsed_sections": []
    },
    "kernelspec": {
      "display_name": "Python 3",
      "language": "python",
      "name": "python3"
    },
    "language_info": {
      "codemirror_mode": {
        "name": "ipython",
        "version": 3
      },
      "file_extension": ".py",
      "mimetype": "text/x-python",
      "name": "python",
      "nbconvert_exporter": "python",
      "pygments_lexer": "ipython3",
      "version": "3.7.4"
    }
  },
  "cells": [
    {
      "cell_type": "markdown",
      "metadata": {
        "id": "CFI83KTFE11E"
      },
      "source": [
        "# Data Description & Context:\n",
        "\n",
        "\n",
        "In the support process, incoming incidents are analyzed and assessed by organization’s support teams to fulfill the request. In many organizations, better allocation and effective usage of the valuable support resources will directly result in substantial cost savings.\n",
        "\n",
        "Currently the incidents are created by various stakeholders (Business Users, IT Users and Monitoring Tools) within IT Service Management Tool and are assigned to Service Desk teams (L1 / L2 teams). This team will review the incidents for right ticket categorization, priorities and then carry out initial diagnosis to see if they can resolve. Around ~54% of the incidents are resolved by L1 / L2 teams. Incase L1 / L2 is unable to resolve, they will then escalate / assign the tickets to Functional teams from Applications and Infrastructure (L3 teams). Some portions of incidents are directly assigned to L3 teams by either Monitoring tools or Callers / Requestors. L3 teams will carry out detailed diagnosis and resolve the incidents. Around ~56% of incidents are resolved by Functional / L3 teams. Incase if vendor support is needed, they will reach out for their support towards incident closure. L1 / L2 needs to spend time reviewing Standard Operating Procedures (SOPs) before assigning to Functional teams (Minimum ~25-30% of incidents needs to be reviewed for SOPs before ticket assignment). 15 min is being spent for SOP review for each incident. Minimum of ~1 FTE effort needed only for incident assignment to L3 teams.\n",
        "\n",
        "During the process of incident assignments by L1 / L2 teams to functional groups, there were multiple instances of incidents getting assigned to wrong functional groups. Around ~25% of Incidents are wrongly assigned to functional teams. Additional effort needed for Functional teams to re-assign to right functional groups. During this process, some of the incidents are in queue and not addressed timely resulting in poor customer service. Guided by powerful AI techniques that can classify incidents to right functional groups can help organizations to reduce the resolving time of the issue and can focus on more productive tasks.\n"
      ]
    },
    {
      "cell_type": "markdown",
      "metadata": {
        "id": "Su5ez-LTyt32"
      },
      "source": [
        "# Domain:\n",
        "\n",
        "Information Technology"
      ]
    },
    {
      "cell_type": "markdown",
      "metadata": {
        "id": "7zvWSV5jE11M"
      },
      "source": [
        "# Project Description\n",
        "\n",
        "In this capstone project, the goal is to build a classifier that can classify the tickets by analyzing text."
      ]
    },
    {
      "cell_type": "markdown",
      "metadata": {
        "id": "XC2CdOcFE11M"
      },
      "source": [
        "# Project Objectives\n",
        "\n",
        "The objective of the project is,\n",
        "- Learn how to use different classification models.\n",
        "- Use transfer learning to use pre-built models.\n",
        "- Learn to set the optimizers, loss functions, epochs, learning rate, batch size, checkpointing, early stopping etc.\n",
        "- Read different research papers of given domain to obtain the knowledge of advanced models for the given problem."
      ]
    },
    {
      "cell_type": "code",
      "metadata": {
        "id": "DktzuhC_yt39"
      },
      "source": [
        "%matplotlib inline\n",
        "\n",
        "import numpy as np\n",
        "import pandas as pd\n",
        "import seaborn as sns\n",
        "from nltk.tokenize import RegexpTokenizer\n",
        "import re\n",
        "import matplotlib.pyplot as plt\n",
        "\n",
        "import warnings\n",
        "warnings.filterwarnings(\"ignore\")\n",
        "\n",
        "sns.set_style(style='darkgrid')"
      ],
      "execution_count": 1,
      "outputs": []
    },
    {
      "cell_type": "code",
      "metadata": {
        "colab": {
          "base_uri": "https://localhost:8080/"
        },
        "id": "7PBihksTE11N",
        "outputId": "f8ba0c0c-d581-4304-ad97-3bbbb1efc812"
      },
      "source": [
        "from google.colab import drive\r\n",
        "drive.mount('/content/drive')"
      ],
      "execution_count": 2,
      "outputs": [
        {
          "output_type": "stream",
          "text": [
            "Mounted at /content/drive\n"
          ],
          "name": "stdout"
        }
      ]
    },
    {
      "cell_type": "code",
      "metadata": {
        "colab": {
          "base_uri": "https://localhost:8080/"
        },
        "id": "50ZvAQqfF3JJ",
        "outputId": "006f8c6c-2677-4ec1-9ae5-e71d62dc8333"
      },
      "source": [
        "cd '/content/drive/My Drive/AIML/13_Capstone Project AIML/NLP - Project 1/'"
      ],
      "execution_count": 3,
      "outputs": [
        {
          "output_type": "stream",
          "text": [
            "/content/drive/My Drive/AIML/13_Capstone Project AIML/NLP - Project 1\n"
          ],
          "name": "stdout"
        }
      ]
    },
    {
      "cell_type": "code",
      "metadata": {
        "colab": {
          "base_uri": "https://localhost:8080/",
          "height": 197
        },
        "id": "PyKwnn-zyt4G",
        "outputId": "f92d8504-e026-4ea9-92e8-de5da8b1cbba"
      },
      "source": [
        "df = pd.read_excel('input_data.xlsx', sheet_name=0)\n",
        "df.head()"
      ],
      "execution_count": 4,
      "outputs": [
        {
          "output_type": "execute_result",
          "data": {
            "text/html": [
              "<div>\n",
              "<style scoped>\n",
              "    .dataframe tbody tr th:only-of-type {\n",
              "        vertical-align: middle;\n",
              "    }\n",
              "\n",
              "    .dataframe tbody tr th {\n",
              "        vertical-align: top;\n",
              "    }\n",
              "\n",
              "    .dataframe thead th {\n",
              "        text-align: right;\n",
              "    }\n",
              "</style>\n",
              "<table border=\"1\" class=\"dataframe\">\n",
              "  <thead>\n",
              "    <tr style=\"text-align: right;\">\n",
              "      <th></th>\n",
              "      <th>Short description</th>\n",
              "      <th>Description</th>\n",
              "      <th>Caller</th>\n",
              "      <th>Assignment group</th>\n",
              "    </tr>\n",
              "  </thead>\n",
              "  <tbody>\n",
              "    <tr>\n",
              "      <th>0</th>\n",
              "      <td>login issue</td>\n",
              "      <td>-verified user details.(employee# &amp; manager na...</td>\n",
              "      <td>spxjnwir pjlcoqds</td>\n",
              "      <td>GRP_0</td>\n",
              "    </tr>\n",
              "    <tr>\n",
              "      <th>1</th>\n",
              "      <td>outlook</td>\n",
              "      <td>\\r\\n\\r\\nreceived from: hmjdrvpb.komuaywn@gmail...</td>\n",
              "      <td>hmjdrvpb komuaywn</td>\n",
              "      <td>GRP_0</td>\n",
              "    </tr>\n",
              "    <tr>\n",
              "      <th>2</th>\n",
              "      <td>cant log in to vpn</td>\n",
              "      <td>\\r\\n\\r\\nreceived from: eylqgodm.ybqkwiam@gmail...</td>\n",
              "      <td>eylqgodm ybqkwiam</td>\n",
              "      <td>GRP_0</td>\n",
              "    </tr>\n",
              "    <tr>\n",
              "      <th>3</th>\n",
              "      <td>unable to access hr_tool page</td>\n",
              "      <td>unable to access hr_tool page</td>\n",
              "      <td>xbkucsvz gcpydteq</td>\n",
              "      <td>GRP_0</td>\n",
              "    </tr>\n",
              "    <tr>\n",
              "      <th>4</th>\n",
              "      <td>skype error</td>\n",
              "      <td>skype error</td>\n",
              "      <td>owlgqjme qhcozdfx</td>\n",
              "      <td>GRP_0</td>\n",
              "    </tr>\n",
              "  </tbody>\n",
              "</table>\n",
              "</div>"
            ],
            "text/plain": [
              "               Short description  ... Assignment group\n",
              "0                    login issue  ...            GRP_0\n",
              "1                        outlook  ...            GRP_0\n",
              "2             cant log in to vpn  ...            GRP_0\n",
              "3  unable to access hr_tool page  ...            GRP_0\n",
              "4                   skype error   ...            GRP_0\n",
              "\n",
              "[5 rows x 4 columns]"
            ]
          },
          "metadata": {
            "tags": []
          },
          "execution_count": 4
        }
      ]
    },
    {
      "cell_type": "markdown",
      "metadata": {
        "id": "iv1Hy0YsE11P"
      },
      "source": [
        "# Basic EDA"
      ]
    },
    {
      "cell_type": "code",
      "metadata": {
        "colab": {
          "base_uri": "https://localhost:8080/"
        },
        "id": "jcP5Vozdyt4L",
        "outputId": "7fb08e00-8f0c-4c8c-dd45-7b9204808012"
      },
      "source": [
        "# Find the shape of the data, data type of individual columns\n",
        "df.info()  #info about the data"
      ],
      "execution_count": 5,
      "outputs": [
        {
          "output_type": "stream",
          "text": [
            "<class 'pandas.core.frame.DataFrame'>\n",
            "RangeIndex: 8500 entries, 0 to 8499\n",
            "Data columns (total 4 columns):\n",
            " #   Column             Non-Null Count  Dtype \n",
            "---  ------             --------------  ----- \n",
            " 0   Short description  8492 non-null   object\n",
            " 1   Description        8499 non-null   object\n",
            " 2   Caller             8500 non-null   object\n",
            " 3   Assignment group   8500 non-null   object\n",
            "dtypes: object(4)\n",
            "memory usage: 265.8+ KB\n"
          ],
          "name": "stdout"
        }
      ]
    },
    {
      "cell_type": "code",
      "metadata": {
        "colab": {
          "base_uri": "https://localhost:8080/"
        },
        "id": "C0MewMCbE11Q",
        "outputId": "4a64454e-f880-40dc-8ed8-239cab971563"
      },
      "source": [
        "# Checking the presence of missing values\n",
        "df.isnull().values.any()"
      ],
      "execution_count": 6,
      "outputs": [
        {
          "output_type": "execute_result",
          "data": {
            "text/plain": [
              "True"
            ]
          },
          "metadata": {
            "tags": []
          },
          "execution_count": 6
        }
      ]
    },
    {
      "cell_type": "code",
      "metadata": {
        "colab": {
          "base_uri": "https://localhost:8080/",
          "height": 107
        },
        "id": "YZ8C6EENE11R",
        "outputId": "6690c2a7-b7a8-403c-b65e-c400466d386b"
      },
      "source": [
        "df.isna().apply(pd.value_counts)   #null value check "
      ],
      "execution_count": 7,
      "outputs": [
        {
          "output_type": "execute_result",
          "data": {
            "text/html": [
              "<div>\n",
              "<style scoped>\n",
              "    .dataframe tbody tr th:only-of-type {\n",
              "        vertical-align: middle;\n",
              "    }\n",
              "\n",
              "    .dataframe tbody tr th {\n",
              "        vertical-align: top;\n",
              "    }\n",
              "\n",
              "    .dataframe thead th {\n",
              "        text-align: right;\n",
              "    }\n",
              "</style>\n",
              "<table border=\"1\" class=\"dataframe\">\n",
              "  <thead>\n",
              "    <tr style=\"text-align: right;\">\n",
              "      <th></th>\n",
              "      <th>Short description</th>\n",
              "      <th>Description</th>\n",
              "      <th>Caller</th>\n",
              "      <th>Assignment group</th>\n",
              "    </tr>\n",
              "  </thead>\n",
              "  <tbody>\n",
              "    <tr>\n",
              "      <th>False</th>\n",
              "      <td>8492</td>\n",
              "      <td>8499</td>\n",
              "      <td>8500.0</td>\n",
              "      <td>8500.0</td>\n",
              "    </tr>\n",
              "    <tr>\n",
              "      <th>True</th>\n",
              "      <td>8</td>\n",
              "      <td>1</td>\n",
              "      <td>NaN</td>\n",
              "      <td>NaN</td>\n",
              "    </tr>\n",
              "  </tbody>\n",
              "</table>\n",
              "</div>"
            ],
            "text/plain": [
              "       Short description  Description  Caller  Assignment group\n",
              "False               8492         8499  8500.0            8500.0\n",
              "True                   8            1     NaN               NaN"
            ]
          },
          "metadata": {
            "tags": []
          },
          "execution_count": 7
        }
      ]
    },
    {
      "cell_type": "code",
      "metadata": {
        "colab": {
          "base_uri": "https://localhost:8080/"
        },
        "id": "554jhgabE11R",
        "outputId": "c7083571-0cd6-45cf-da69-e2281ce9edae"
      },
      "source": [
        "# Total number of missing values\n",
        "df.isnull().sum().sum()"
      ],
      "execution_count": 8,
      "outputs": [
        {
          "output_type": "execute_result",
          "data": {
            "text/plain": [
              "9"
            ]
          },
          "metadata": {
            "tags": []
          },
          "execution_count": 8
        }
      ]
    },
    {
      "cell_type": "markdown",
      "metadata": {
        "id": "qh882adCyt4P"
      },
      "source": [
        "- There are 4 columns in total\n",
        "    - One target column - 'Assignment group'\n",
        "    - None of the columns have numeric values\n",
        "    - 3 predictor variables\n",
        "- There are no null values for the columns 'Caller' and 'Assignment group'"
      ]
    },
    {
      "cell_type": "code",
      "metadata": {
        "colab": {
          "base_uri": "https://localhost:8080/",
          "height": 167
        },
        "id": "nnMAmxnqE11S",
        "outputId": "86bfd3fc-c4cb-47a9-9696-9851e3c5c163"
      },
      "source": [
        "# Provides information like total count, unique count, value which occurs most often, maximum frequency of occurance\n",
        "df.describe().T"
      ],
      "execution_count": 9,
      "outputs": [
        {
          "output_type": "execute_result",
          "data": {
            "text/html": [
              "<div>\n",
              "<style scoped>\n",
              "    .dataframe tbody tr th:only-of-type {\n",
              "        vertical-align: middle;\n",
              "    }\n",
              "\n",
              "    .dataframe tbody tr th {\n",
              "        vertical-align: top;\n",
              "    }\n",
              "\n",
              "    .dataframe thead th {\n",
              "        text-align: right;\n",
              "    }\n",
              "</style>\n",
              "<table border=\"1\" class=\"dataframe\">\n",
              "  <thead>\n",
              "    <tr style=\"text-align: right;\">\n",
              "      <th></th>\n",
              "      <th>count</th>\n",
              "      <th>unique</th>\n",
              "      <th>top</th>\n",
              "      <th>freq</th>\n",
              "    </tr>\n",
              "  </thead>\n",
              "  <tbody>\n",
              "    <tr>\n",
              "      <th>Short description</th>\n",
              "      <td>8492</td>\n",
              "      <td>7481</td>\n",
              "      <td>password reset</td>\n",
              "      <td>38</td>\n",
              "    </tr>\n",
              "    <tr>\n",
              "      <th>Description</th>\n",
              "      <td>8499</td>\n",
              "      <td>7817</td>\n",
              "      <td>the</td>\n",
              "      <td>56</td>\n",
              "    </tr>\n",
              "    <tr>\n",
              "      <th>Caller</th>\n",
              "      <td>8500</td>\n",
              "      <td>2950</td>\n",
              "      <td>bpctwhsn kzqsbmtp</td>\n",
              "      <td>810</td>\n",
              "    </tr>\n",
              "    <tr>\n",
              "      <th>Assignment group</th>\n",
              "      <td>8500</td>\n",
              "      <td>74</td>\n",
              "      <td>GRP_0</td>\n",
              "      <td>3976</td>\n",
              "    </tr>\n",
              "  </tbody>\n",
              "</table>\n",
              "</div>"
            ],
            "text/plain": [
              "                  count unique                top  freq\n",
              "Short description  8492   7481     password reset    38\n",
              "Description        8499   7817                the    56\n",
              "Caller             8500   2950  bpctwhsn kzqsbmtp   810\n",
              "Assignment group   8500     74              GRP_0  3976"
            ]
          },
          "metadata": {
            "tags": []
          },
          "execution_count": 9
        }
      ]
    },
    {
      "cell_type": "code",
      "metadata": {
        "id": "PLnX-ZLJE11S"
      },
      "source": [
        "df.drop(['Caller'], axis = 1, inplace=True)"
      ],
      "execution_count": 10,
      "outputs": []
    },
    {
      "cell_type": "code",
      "metadata": {
        "colab": {
          "base_uri": "https://localhost:8080/",
          "height": 406
        },
        "id": "8UHOFT8UE11T",
        "outputId": "c36e9e9d-42d5-4e78-8d2f-12602a25c089"
      },
      "source": [
        "df"
      ],
      "execution_count": 11,
      "outputs": [
        {
          "output_type": "execute_result",
          "data": {
            "text/html": [
              "<div>\n",
              "<style scoped>\n",
              "    .dataframe tbody tr th:only-of-type {\n",
              "        vertical-align: middle;\n",
              "    }\n",
              "\n",
              "    .dataframe tbody tr th {\n",
              "        vertical-align: top;\n",
              "    }\n",
              "\n",
              "    .dataframe thead th {\n",
              "        text-align: right;\n",
              "    }\n",
              "</style>\n",
              "<table border=\"1\" class=\"dataframe\">\n",
              "  <thead>\n",
              "    <tr style=\"text-align: right;\">\n",
              "      <th></th>\n",
              "      <th>Short description</th>\n",
              "      <th>Description</th>\n",
              "      <th>Assignment group</th>\n",
              "    </tr>\n",
              "  </thead>\n",
              "  <tbody>\n",
              "    <tr>\n",
              "      <th>0</th>\n",
              "      <td>login issue</td>\n",
              "      <td>-verified user details.(employee# &amp; manager na...</td>\n",
              "      <td>GRP_0</td>\n",
              "    </tr>\n",
              "    <tr>\n",
              "      <th>1</th>\n",
              "      <td>outlook</td>\n",
              "      <td>\\r\\n\\r\\nreceived from: hmjdrvpb.komuaywn@gmail...</td>\n",
              "      <td>GRP_0</td>\n",
              "    </tr>\n",
              "    <tr>\n",
              "      <th>2</th>\n",
              "      <td>cant log in to vpn</td>\n",
              "      <td>\\r\\n\\r\\nreceived from: eylqgodm.ybqkwiam@gmail...</td>\n",
              "      <td>GRP_0</td>\n",
              "    </tr>\n",
              "    <tr>\n",
              "      <th>3</th>\n",
              "      <td>unable to access hr_tool page</td>\n",
              "      <td>unable to access hr_tool page</td>\n",
              "      <td>GRP_0</td>\n",
              "    </tr>\n",
              "    <tr>\n",
              "      <th>4</th>\n",
              "      <td>skype error</td>\n",
              "      <td>skype error</td>\n",
              "      <td>GRP_0</td>\n",
              "    </tr>\n",
              "    <tr>\n",
              "      <th>...</th>\n",
              "      <td>...</td>\n",
              "      <td>...</td>\n",
              "      <td>...</td>\n",
              "    </tr>\n",
              "    <tr>\n",
              "      <th>8495</th>\n",
              "      <td>emails not coming in from zz mail</td>\n",
              "      <td>\\r\\n\\r\\nreceived from: avglmrts.vhqmtiua@gmail...</td>\n",
              "      <td>GRP_29</td>\n",
              "    </tr>\n",
              "    <tr>\n",
              "      <th>8496</th>\n",
              "      <td>telephony_software issue</td>\n",
              "      <td>telephony_software issue</td>\n",
              "      <td>GRP_0</td>\n",
              "    </tr>\n",
              "    <tr>\n",
              "      <th>8497</th>\n",
              "      <td>vip2: windows password reset for tifpdchb pedx...</td>\n",
              "      <td>vip2: windows password reset for tifpdchb pedx...</td>\n",
              "      <td>GRP_0</td>\n",
              "    </tr>\n",
              "    <tr>\n",
              "      <th>8498</th>\n",
              "      <td>machine nÃ£o estÃ¡ funcionando</td>\n",
              "      <td>i am unable to access the machine utilities to...</td>\n",
              "      <td>GRP_62</td>\n",
              "    </tr>\n",
              "    <tr>\n",
              "      <th>8499</th>\n",
              "      <td>an mehreren pc`s lassen sich verschiedene prgr...</td>\n",
              "      <td>an mehreren pc`s lassen sich verschiedene prgr...</td>\n",
              "      <td>GRP_49</td>\n",
              "    </tr>\n",
              "  </tbody>\n",
              "</table>\n",
              "<p>8500 rows × 3 columns</p>\n",
              "</div>"
            ],
            "text/plain": [
              "                                      Short description  ... Assignment group\n",
              "0                                           login issue  ...            GRP_0\n",
              "1                                               outlook  ...            GRP_0\n",
              "2                                    cant log in to vpn  ...            GRP_0\n",
              "3                         unable to access hr_tool page  ...            GRP_0\n",
              "4                                          skype error   ...            GRP_0\n",
              "...                                                 ...  ...              ...\n",
              "8495                  emails not coming in from zz mail  ...           GRP_29\n",
              "8496                           telephony_software issue  ...            GRP_0\n",
              "8497  vip2: windows password reset for tifpdchb pedx...  ...            GRP_0\n",
              "8498                     machine nÃ£o estÃ¡ funcionando  ...           GRP_62\n",
              "8499  an mehreren pc`s lassen sich verschiedene prgr...  ...           GRP_49\n",
              "\n",
              "[8500 rows x 3 columns]"
            ]
          },
          "metadata": {
            "tags": []
          },
          "execution_count": 11
        }
      ]
    },
    {
      "cell_type": "markdown",
      "metadata": {
        "id": "eTmq-yyME11T"
      },
      "source": [
        "### Find and remove exact duplicates"
      ]
    },
    {
      "cell_type": "code",
      "metadata": {
        "colab": {
          "base_uri": "https://localhost:8080/",
          "height": 424
        },
        "id": "9R6yO-SxE11T",
        "outputId": "9c55f0dc-ecee-498d-8d55-315dd8e5600c"
      },
      "source": [
        "# Select duplicate rows except first occurrence based on all columns\n",
        "duplicateRowsDF = df[df.duplicated()]\n",
        "print(\"Duplicate Rows except first occurrence based on all columns are :\")\n",
        "duplicateRowsDF"
      ],
      "execution_count": 12,
      "outputs": [
        {
          "output_type": "stream",
          "text": [
            "Duplicate Rows except first occurrence based on all columns are :\n"
          ],
          "name": "stdout"
        },
        {
          "output_type": "execute_result",
          "data": {
            "text/html": [
              "<div>\n",
              "<style scoped>\n",
              "    .dataframe tbody tr th:only-of-type {\n",
              "        vertical-align: middle;\n",
              "    }\n",
              "\n",
              "    .dataframe tbody tr th {\n",
              "        vertical-align: top;\n",
              "    }\n",
              "\n",
              "    .dataframe thead th {\n",
              "        text-align: right;\n",
              "    }\n",
              "</style>\n",
              "<table border=\"1\" class=\"dataframe\">\n",
              "  <thead>\n",
              "    <tr style=\"text-align: right;\">\n",
              "      <th></th>\n",
              "      <th>Short description</th>\n",
              "      <th>Description</th>\n",
              "      <th>Assignment group</th>\n",
              "    </tr>\n",
              "  </thead>\n",
              "  <tbody>\n",
              "    <tr>\n",
              "      <th>51</th>\n",
              "      <td>call for ecwtrjnq jpecxuty</td>\n",
              "      <td>call for ecwtrjnq jpecxuty</td>\n",
              "      <td>GRP_0</td>\n",
              "    </tr>\n",
              "    <tr>\n",
              "      <th>81</th>\n",
              "      <td>erp SID_34 account locked</td>\n",
              "      <td>erp SID_34 account locked</td>\n",
              "      <td>GRP_0</td>\n",
              "    </tr>\n",
              "    <tr>\n",
              "      <th>123</th>\n",
              "      <td>unable to display expense report</td>\n",
              "      <td>unable to display expense report</td>\n",
              "      <td>GRP_0</td>\n",
              "    </tr>\n",
              "    <tr>\n",
              "      <th>157</th>\n",
              "      <td>ess password reset</td>\n",
              "      <td>ess password reset</td>\n",
              "      <td>GRP_0</td>\n",
              "    </tr>\n",
              "    <tr>\n",
              "      <th>229</th>\n",
              "      <td>call for ecwtrjnq jpecxuty</td>\n",
              "      <td>call for ecwtrjnq jpecxuty</td>\n",
              "      <td>GRP_0</td>\n",
              "    </tr>\n",
              "    <tr>\n",
              "      <th>...</th>\n",
              "      <td>...</td>\n",
              "      <td>...</td>\n",
              "      <td>...</td>\n",
              "    </tr>\n",
              "    <tr>\n",
              "      <th>8424</th>\n",
              "      <td>windows account lockout</td>\n",
              "      <td>windows account lockout</td>\n",
              "      <td>GRP_0</td>\n",
              "    </tr>\n",
              "    <tr>\n",
              "      <th>8450</th>\n",
              "      <td>unable to connect to wifi</td>\n",
              "      <td>unable to connect to wifi</td>\n",
              "      <td>GRP_0</td>\n",
              "    </tr>\n",
              "    <tr>\n",
              "      <th>8451</th>\n",
              "      <td>password reset erp SID_34</td>\n",
              "      <td>password reset erp SID_34</td>\n",
              "      <td>GRP_0</td>\n",
              "    </tr>\n",
              "    <tr>\n",
              "      <th>8458</th>\n",
              "      <td>windows account locked</td>\n",
              "      <td>windows account locked</td>\n",
              "      <td>GRP_0</td>\n",
              "    </tr>\n",
              "    <tr>\n",
              "      <th>8489</th>\n",
              "      <td>account locked</td>\n",
              "      <td>account locked</td>\n",
              "      <td>GRP_0</td>\n",
              "    </tr>\n",
              "  </tbody>\n",
              "</table>\n",
              "<p>591 rows × 3 columns</p>\n",
              "</div>"
            ],
            "text/plain": [
              "                     Short description  ... Assignment group\n",
              "51          call for ecwtrjnq jpecxuty  ...            GRP_0\n",
              "81           erp SID_34 account locked  ...            GRP_0\n",
              "123   unable to display expense report  ...            GRP_0\n",
              "157                 ess password reset  ...            GRP_0\n",
              "229         call for ecwtrjnq jpecxuty  ...            GRP_0\n",
              "...                                ...  ...              ...\n",
              "8424           windows account lockout  ...            GRP_0\n",
              "8450         unable to connect to wifi  ...            GRP_0\n",
              "8451         password reset erp SID_34  ...            GRP_0\n",
              "8458            windows account locked  ...            GRP_0\n",
              "8489                    account locked  ...            GRP_0\n",
              "\n",
              "[591 rows x 3 columns]"
            ]
          },
          "metadata": {
            "tags": []
          },
          "execution_count": 12
        }
      ]
    },
    {
      "cell_type": "code",
      "metadata": {
        "colab": {
          "base_uri": "https://localhost:8080/",
          "height": 227
        },
        "id": "ON7qJhaNE11U",
        "outputId": "e30617dc-3569-403c-d35b-b92cd044dc95"
      },
      "source": [
        "duplicateRowsDF[duplicateRowsDF['Short description'] == 'call for ecwtrjnq jpecxuty']"
      ],
      "execution_count": 13,
      "outputs": [
        {
          "output_type": "execute_result",
          "data": {
            "text/html": [
              "<div>\n",
              "<style scoped>\n",
              "    .dataframe tbody tr th:only-of-type {\n",
              "        vertical-align: middle;\n",
              "    }\n",
              "\n",
              "    .dataframe tbody tr th {\n",
              "        vertical-align: top;\n",
              "    }\n",
              "\n",
              "    .dataframe thead th {\n",
              "        text-align: right;\n",
              "    }\n",
              "</style>\n",
              "<table border=\"1\" class=\"dataframe\">\n",
              "  <thead>\n",
              "    <tr style=\"text-align: right;\">\n",
              "      <th></th>\n",
              "      <th>Short description</th>\n",
              "      <th>Description</th>\n",
              "      <th>Assignment group</th>\n",
              "    </tr>\n",
              "  </thead>\n",
              "  <tbody>\n",
              "    <tr>\n",
              "      <th>51</th>\n",
              "      <td>call for ecwtrjnq jpecxuty</td>\n",
              "      <td>call for ecwtrjnq jpecxuty</td>\n",
              "      <td>GRP_0</td>\n",
              "    </tr>\n",
              "    <tr>\n",
              "      <th>229</th>\n",
              "      <td>call for ecwtrjnq jpecxuty</td>\n",
              "      <td>call for ecwtrjnq jpecxuty</td>\n",
              "      <td>GRP_0</td>\n",
              "    </tr>\n",
              "    <tr>\n",
              "      <th>2714</th>\n",
              "      <td>call for ecwtrjnq jpecxuty</td>\n",
              "      <td>call for ecwtrjnq jpecxuty</td>\n",
              "      <td>GRP_0</td>\n",
              "    </tr>\n",
              "    <tr>\n",
              "      <th>3085</th>\n",
              "      <td>call for ecwtrjnq jpecxuty</td>\n",
              "      <td>call for ecwtrjnq jpecxuty</td>\n",
              "      <td>GRP_0</td>\n",
              "    </tr>\n",
              "    <tr>\n",
              "      <th>3219</th>\n",
              "      <td>call for ecwtrjnq jpecxuty</td>\n",
              "      <td>call for ecwtrjnq jpecxuty</td>\n",
              "      <td>GRP_0</td>\n",
              "    </tr>\n",
              "    <tr>\n",
              "      <th>4303</th>\n",
              "      <td>call for ecwtrjnq jpecxuty</td>\n",
              "      <td>call for ecwtrjnq jpecxuty</td>\n",
              "      <td>GRP_0</td>\n",
              "    </tr>\n",
              "  </tbody>\n",
              "</table>\n",
              "</div>"
            ],
            "text/plain": [
              "               Short description                 Description Assignment group\n",
              "51    call for ecwtrjnq jpecxuty  call for ecwtrjnq jpecxuty            GRP_0\n",
              "229   call for ecwtrjnq jpecxuty  call for ecwtrjnq jpecxuty            GRP_0\n",
              "2714  call for ecwtrjnq jpecxuty  call for ecwtrjnq jpecxuty            GRP_0\n",
              "3085  call for ecwtrjnq jpecxuty  call for ecwtrjnq jpecxuty            GRP_0\n",
              "3219  call for ecwtrjnq jpecxuty  call for ecwtrjnq jpecxuty            GRP_0\n",
              "4303  call for ecwtrjnq jpecxuty  call for ecwtrjnq jpecxuty            GRP_0"
            ]
          },
          "metadata": {
            "tags": []
          },
          "execution_count": 13
        }
      ]
    },
    {
      "cell_type": "code",
      "metadata": {
        "colab": {
          "base_uri": "https://localhost:8080/"
        },
        "id": "UInO85WaE11U",
        "outputId": "e29e3979-df6c-4e5d-f48d-4e5dcbf87381"
      },
      "source": [
        "duplicateRowsDF['Short description'].value_counts()"
      ],
      "execution_count": 14,
      "outputs": [
        {
          "output_type": "execute_result",
          "data": {
            "text/plain": [
              "windows password reset                                                                  28\n",
              "password reset                                                                          25\n",
              "account locked in ad                                                                    22\n",
              "windows account locked                                                                  22\n",
              "erp SID_34 account unlock                                                               17\n",
              "                                                                                        ..\n",
              "reset passwords for ezrsdgfc hofgvwel using password_management_tool password reset.     1\n",
              "job Job_549 failed in job_scheduler at: 10/07/2016 23:05:00                              1\n",
              "unable to connect to outlook                                                             1\n",
              "unable to log in to collaboration_platform                                               1\n",
              "unable to log in to windows                                                              1\n",
              "Name: Short description, Length: 166, dtype: int64"
            ]
          },
          "metadata": {
            "tags": []
          },
          "execution_count": 14
        }
      ]
    },
    {
      "cell_type": "code",
      "metadata": {
        "colab": {
          "base_uri": "https://localhost:8080/",
          "height": 107
        },
        "id": "GP5DquwwE11U",
        "outputId": "eb4c65d3-d3cc-44e8-e3aa-2e3f526a19ee"
      },
      "source": [
        "duplicateRowsDF[duplicateRowsDF['Short description'] == 'outlook not working']"
      ],
      "execution_count": 15,
      "outputs": [
        {
          "output_type": "execute_result",
          "data": {
            "text/html": [
              "<div>\n",
              "<style scoped>\n",
              "    .dataframe tbody tr th:only-of-type {\n",
              "        vertical-align: middle;\n",
              "    }\n",
              "\n",
              "    .dataframe tbody tr th {\n",
              "        vertical-align: top;\n",
              "    }\n",
              "\n",
              "    .dataframe thead th {\n",
              "        text-align: right;\n",
              "    }\n",
              "</style>\n",
              "<table border=\"1\" class=\"dataframe\">\n",
              "  <thead>\n",
              "    <tr style=\"text-align: right;\">\n",
              "      <th></th>\n",
              "      <th>Short description</th>\n",
              "      <th>Description</th>\n",
              "      <th>Assignment group</th>\n",
              "    </tr>\n",
              "  </thead>\n",
              "  <tbody>\n",
              "    <tr>\n",
              "      <th>1019</th>\n",
              "      <td>outlook not working</td>\n",
              "      <td>outlook not working</td>\n",
              "      <td>GRP_0</td>\n",
              "    </tr>\n",
              "    <tr>\n",
              "      <th>5941</th>\n",
              "      <td>outlook not working</td>\n",
              "      <td>outlook not working</td>\n",
              "      <td>GRP_0</td>\n",
              "    </tr>\n",
              "  </tbody>\n",
              "</table>\n",
              "</div>"
            ],
            "text/plain": [
              "        Short description          Description Assignment group\n",
              "1019  outlook not working  outlook not working            GRP_0\n",
              "5941  outlook not working  outlook not working            GRP_0"
            ]
          },
          "metadata": {
            "tags": []
          },
          "execution_count": 15
        }
      ]
    },
    {
      "cell_type": "code",
      "metadata": {
        "id": "GZ7W_WquE11V"
      },
      "source": [
        "# Drop duplicated by the following code.\n",
        "df.drop_duplicates(inplace=True)"
      ],
      "execution_count": 16,
      "outputs": []
    },
    {
      "cell_type": "code",
      "metadata": {
        "colab": {
          "base_uri": "https://localhost:8080/",
          "height": 47
        },
        "id": "8EkQg_A1E11V",
        "outputId": "dc6e977f-0c08-4706-aae5-ec71d21db94a"
      },
      "source": [
        "# Check to confirm if duplicate rows except first occurrence based on all columns are removed\n",
        "df[df.duplicated()]"
      ],
      "execution_count": 17,
      "outputs": [
        {
          "output_type": "execute_result",
          "data": {
            "text/html": [
              "<div>\n",
              "<style scoped>\n",
              "    .dataframe tbody tr th:only-of-type {\n",
              "        vertical-align: middle;\n",
              "    }\n",
              "\n",
              "    .dataframe tbody tr th {\n",
              "        vertical-align: top;\n",
              "    }\n",
              "\n",
              "    .dataframe thead th {\n",
              "        text-align: right;\n",
              "    }\n",
              "</style>\n",
              "<table border=\"1\" class=\"dataframe\">\n",
              "  <thead>\n",
              "    <tr style=\"text-align: right;\">\n",
              "      <th></th>\n",
              "      <th>Short description</th>\n",
              "      <th>Description</th>\n",
              "      <th>Assignment group</th>\n",
              "    </tr>\n",
              "  </thead>\n",
              "  <tbody>\n",
              "  </tbody>\n",
              "</table>\n",
              "</div>"
            ],
            "text/plain": [
              "Empty DataFrame\n",
              "Columns: [Short description, Description, Assignment group]\n",
              "Index: []"
            ]
          },
          "metadata": {
            "tags": []
          },
          "execution_count": 17
        }
      ]
    },
    {
      "cell_type": "code",
      "metadata": {
        "colab": {
          "base_uri": "https://localhost:8080/"
        },
        "id": "w-l7HVvGE11V",
        "outputId": "69899c69-9a78-4f30-f324-2b38d43cf1d6"
      },
      "source": [
        "df.info()  #info about the data"
      ],
      "execution_count": 18,
      "outputs": [
        {
          "output_type": "stream",
          "text": [
            "<class 'pandas.core.frame.DataFrame'>\n",
            "Int64Index: 7909 entries, 0 to 8499\n",
            "Data columns (total 3 columns):\n",
            " #   Column             Non-Null Count  Dtype \n",
            "---  ------             --------------  ----- \n",
            " 0   Short description  7904 non-null   object\n",
            " 1   Description        7908 non-null   object\n",
            " 2   Assignment group   7909 non-null   object\n",
            "dtypes: object(3)\n",
            "memory usage: 247.2+ KB\n"
          ],
          "name": "stdout"
        }
      ]
    },
    {
      "cell_type": "markdown",
      "metadata": {
        "id": "jvIK3WN9E11V"
      },
      "source": [
        "### Handling Missing Values"
      ]
    },
    {
      "cell_type": "code",
      "metadata": {
        "colab": {
          "base_uri": "https://localhost:8080/",
          "height": 107
        },
        "id": "raD84wbJE11W",
        "outputId": "dd2a6991-614f-4b28-b0a3-ff46ddc2245e"
      },
      "source": [
        "df.isna().apply(pd.value_counts)   #null value check "
      ],
      "execution_count": 19,
      "outputs": [
        {
          "output_type": "execute_result",
          "data": {
            "text/html": [
              "<div>\n",
              "<style scoped>\n",
              "    .dataframe tbody tr th:only-of-type {\n",
              "        vertical-align: middle;\n",
              "    }\n",
              "\n",
              "    .dataframe tbody tr th {\n",
              "        vertical-align: top;\n",
              "    }\n",
              "\n",
              "    .dataframe thead th {\n",
              "        text-align: right;\n",
              "    }\n",
              "</style>\n",
              "<table border=\"1\" class=\"dataframe\">\n",
              "  <thead>\n",
              "    <tr style=\"text-align: right;\">\n",
              "      <th></th>\n",
              "      <th>Short description</th>\n",
              "      <th>Description</th>\n",
              "      <th>Assignment group</th>\n",
              "    </tr>\n",
              "  </thead>\n",
              "  <tbody>\n",
              "    <tr>\n",
              "      <th>False</th>\n",
              "      <td>7904</td>\n",
              "      <td>7908</td>\n",
              "      <td>7909.0</td>\n",
              "    </tr>\n",
              "    <tr>\n",
              "      <th>True</th>\n",
              "      <td>5</td>\n",
              "      <td>1</td>\n",
              "      <td>NaN</td>\n",
              "    </tr>\n",
              "  </tbody>\n",
              "</table>\n",
              "</div>"
            ],
            "text/plain": [
              "       Short description  Description  Assignment group\n",
              "False               7904         7908            7909.0\n",
              "True                   5            1               NaN"
            ]
          },
          "metadata": {
            "tags": []
          },
          "execution_count": 19
        }
      ]
    },
    {
      "cell_type": "code",
      "metadata": {
        "colab": {
          "base_uri": "https://localhost:8080/",
          "height": 197
        },
        "id": "tGk5BjOfE11W",
        "outputId": "f2e1032f-138b-46dc-9f5a-8832bcb78df0"
      },
      "source": [
        "df[df['Short description'].isnull()]"
      ],
      "execution_count": 20,
      "outputs": [
        {
          "output_type": "execute_result",
          "data": {
            "text/html": [
              "<div>\n",
              "<style scoped>\n",
              "    .dataframe tbody tr th:only-of-type {\n",
              "        vertical-align: middle;\n",
              "    }\n",
              "\n",
              "    .dataframe tbody tr th {\n",
              "        vertical-align: top;\n",
              "    }\n",
              "\n",
              "    .dataframe thead th {\n",
              "        text-align: right;\n",
              "    }\n",
              "</style>\n",
              "<table border=\"1\" class=\"dataframe\">\n",
              "  <thead>\n",
              "    <tr style=\"text-align: right;\">\n",
              "      <th></th>\n",
              "      <th>Short description</th>\n",
              "      <th>Description</th>\n",
              "      <th>Assignment group</th>\n",
              "    </tr>\n",
              "  </thead>\n",
              "  <tbody>\n",
              "    <tr>\n",
              "      <th>2604</th>\n",
              "      <td>NaN</td>\n",
              "      <td>\\r\\n\\r\\nreceived from: ohdrnswl.rezuibdt@gmail...</td>\n",
              "      <td>GRP_34</td>\n",
              "    </tr>\n",
              "    <tr>\n",
              "      <th>3383</th>\n",
              "      <td>NaN</td>\n",
              "      <td>\\r\\n-connected to the user system using teamvi...</td>\n",
              "      <td>GRP_0</td>\n",
              "    </tr>\n",
              "    <tr>\n",
              "      <th>3906</th>\n",
              "      <td>NaN</td>\n",
              "      <td>-user unable  tologin to vpn.\\r\\n-connected to...</td>\n",
              "      <td>GRP_0</td>\n",
              "    </tr>\n",
              "    <tr>\n",
              "      <th>3924</th>\n",
              "      <td>NaN</td>\n",
              "      <td>name:wvqgbdhm fwchqjor\\nlanguage:\\nbrowser:mic...</td>\n",
              "      <td>GRP_0</td>\n",
              "    </tr>\n",
              "    <tr>\n",
              "      <th>4341</th>\n",
              "      <td>NaN</td>\n",
              "      <td>\\r\\n\\r\\nreceived from: eqmuniov.ehxkcbgj@gmail...</td>\n",
              "      <td>GRP_0</td>\n",
              "    </tr>\n",
              "  </tbody>\n",
              "</table>\n",
              "</div>"
            ],
            "text/plain": [
              "     Short description  ... Assignment group\n",
              "2604               NaN  ...           GRP_34\n",
              "3383               NaN  ...            GRP_0\n",
              "3906               NaN  ...            GRP_0\n",
              "3924               NaN  ...            GRP_0\n",
              "4341               NaN  ...            GRP_0\n",
              "\n",
              "[5 rows x 3 columns]"
            ]
          },
          "metadata": {
            "tags": []
          },
          "execution_count": 20
        }
      ]
    },
    {
      "cell_type": "code",
      "metadata": {
        "colab": {
          "base_uri": "https://localhost:8080/",
          "height": 77
        },
        "id": "LGsM3hHXE11X",
        "outputId": "72540013-2c9b-4d51-869f-e77d98aea8a8"
      },
      "source": [
        "df[df['Description'].isnull()]"
      ],
      "execution_count": 21,
      "outputs": [
        {
          "output_type": "execute_result",
          "data": {
            "text/html": [
              "<div>\n",
              "<style scoped>\n",
              "    .dataframe tbody tr th:only-of-type {\n",
              "        vertical-align: middle;\n",
              "    }\n",
              "\n",
              "    .dataframe tbody tr th {\n",
              "        vertical-align: top;\n",
              "    }\n",
              "\n",
              "    .dataframe thead th {\n",
              "        text-align: right;\n",
              "    }\n",
              "</style>\n",
              "<table border=\"1\" class=\"dataframe\">\n",
              "  <thead>\n",
              "    <tr style=\"text-align: right;\">\n",
              "      <th></th>\n",
              "      <th>Short description</th>\n",
              "      <th>Description</th>\n",
              "      <th>Assignment group</th>\n",
              "    </tr>\n",
              "  </thead>\n",
              "  <tbody>\n",
              "    <tr>\n",
              "      <th>4395</th>\n",
              "      <td>i am locked out of skype</td>\n",
              "      <td>NaN</td>\n",
              "      <td>GRP_0</td>\n",
              "    </tr>\n",
              "  </tbody>\n",
              "</table>\n",
              "</div>"
            ],
            "text/plain": [
              "             Short description Description Assignment group\n",
              "4395  i am locked out of skype         NaN            GRP_0"
            ]
          },
          "metadata": {
            "tags": []
          },
          "execution_count": 21
        }
      ]
    },
    {
      "cell_type": "code",
      "metadata": {
        "colab": {
          "base_uri": "https://localhost:8080/"
        },
        "id": "t1qvMelkE11X",
        "outputId": "1daa309f-cba5-4da9-915f-2cc469b87e0a"
      },
      "source": [
        "print(list(df[df['Short description'].isna()].index))\n",
        "print(list(df[df['Description'].isna()].index))"
      ],
      "execution_count": 22,
      "outputs": [
        {
          "output_type": "stream",
          "text": [
            "[2604, 3383, 3906, 3924, 4341]\n",
            "[4395]\n"
          ],
          "name": "stdout"
        }
      ]
    },
    {
      "cell_type": "code",
      "metadata": {
        "id": "7o7wVsA9E11X"
      },
      "source": [
        "df['Short description'].fillna(value=' ', inplace=True)\n",
        "df['Description'].fillna(value=' ', inplace=True)"
      ],
      "execution_count": 23,
      "outputs": []
    },
    {
      "cell_type": "code",
      "metadata": {
        "colab": {
          "base_uri": "https://localhost:8080/"
        },
        "id": "VgRg254QE11Y",
        "outputId": "477021df-6217-45ed-8dab-2c4b67059a0d"
      },
      "source": [
        "print(list(df[df['Short description'].isna()].index))\n",
        "print(list(df[df['Description'].isna()].index))"
      ],
      "execution_count": 24,
      "outputs": [
        {
          "output_type": "stream",
          "text": [
            "[]\n",
            "[]\n"
          ],
          "name": "stdout"
        }
      ]
    },
    {
      "cell_type": "code",
      "metadata": {
        "colab": {
          "base_uri": "https://localhost:8080/",
          "height": 167
        },
        "id": "HKwTVYxEE11Y",
        "outputId": "429a62e3-626e-45ab-e3b5-4a9f329eea39"
      },
      "source": [
        "df[df['Short description'].str.contains('skype error')]"
      ],
      "execution_count": 25,
      "outputs": [
        {
          "output_type": "execute_result",
          "data": {
            "text/html": [
              "<div>\n",
              "<style scoped>\n",
              "    .dataframe tbody tr th:only-of-type {\n",
              "        vertical-align: middle;\n",
              "    }\n",
              "\n",
              "    .dataframe tbody tr th {\n",
              "        vertical-align: top;\n",
              "    }\n",
              "\n",
              "    .dataframe thead th {\n",
              "        text-align: right;\n",
              "    }\n",
              "</style>\n",
              "<table border=\"1\" class=\"dataframe\">\n",
              "  <thead>\n",
              "    <tr style=\"text-align: right;\">\n",
              "      <th></th>\n",
              "      <th>Short description</th>\n",
              "      <th>Description</th>\n",
              "      <th>Assignment group</th>\n",
              "    </tr>\n",
              "  </thead>\n",
              "  <tbody>\n",
              "    <tr>\n",
              "      <th>4</th>\n",
              "      <td>skype error</td>\n",
              "      <td>skype error</td>\n",
              "      <td>GRP_0</td>\n",
              "    </tr>\n",
              "    <tr>\n",
              "      <th>285</th>\n",
              "      <td>skype error while logging in</td>\n",
              "      <td>skype error while logging in</td>\n",
              "      <td>GRP_0</td>\n",
              "    </tr>\n",
              "    <tr>\n",
              "      <th>3392</th>\n",
              "      <td>skype error : getting skype certificate error</td>\n",
              "      <td>skype error : getting skype certificate error</td>\n",
              "      <td>GRP_0</td>\n",
              "    </tr>\n",
              "    <tr>\n",
              "      <th>4813</th>\n",
              "      <td>skype error</td>\n",
              "      <td>skype error</td>\n",
              "      <td>GRP_0</td>\n",
              "    </tr>\n",
              "  </tbody>\n",
              "</table>\n",
              "</div>"
            ],
            "text/plain": [
              "                                  Short description  ... Assignment group\n",
              "4                                      skype error   ...            GRP_0\n",
              "285                   skype error while logging in   ...            GRP_0\n",
              "3392  skype error : getting skype certificate error  ...            GRP_0\n",
              "4813                                    skype error  ...            GRP_0\n",
              "\n",
              "[4 rows x 3 columns]"
            ]
          },
          "metadata": {
            "tags": []
          },
          "execution_count": 25
        }
      ]
    },
    {
      "cell_type": "code",
      "metadata": {
        "colab": {
          "base_uri": "https://localhost:8080/",
          "height": 197
        },
        "id": "7EuWJ-o1E11Y",
        "outputId": "a0281e9c-cd22-4d2d-9d45-7065a47e897c"
      },
      "source": [
        "df.head()"
      ],
      "execution_count": 26,
      "outputs": [
        {
          "output_type": "execute_result",
          "data": {
            "text/html": [
              "<div>\n",
              "<style scoped>\n",
              "    .dataframe tbody tr th:only-of-type {\n",
              "        vertical-align: middle;\n",
              "    }\n",
              "\n",
              "    .dataframe tbody tr th {\n",
              "        vertical-align: top;\n",
              "    }\n",
              "\n",
              "    .dataframe thead th {\n",
              "        text-align: right;\n",
              "    }\n",
              "</style>\n",
              "<table border=\"1\" class=\"dataframe\">\n",
              "  <thead>\n",
              "    <tr style=\"text-align: right;\">\n",
              "      <th></th>\n",
              "      <th>Short description</th>\n",
              "      <th>Description</th>\n",
              "      <th>Assignment group</th>\n",
              "    </tr>\n",
              "  </thead>\n",
              "  <tbody>\n",
              "    <tr>\n",
              "      <th>0</th>\n",
              "      <td>login issue</td>\n",
              "      <td>-verified user details.(employee# &amp; manager na...</td>\n",
              "      <td>GRP_0</td>\n",
              "    </tr>\n",
              "    <tr>\n",
              "      <th>1</th>\n",
              "      <td>outlook</td>\n",
              "      <td>\\r\\n\\r\\nreceived from: hmjdrvpb.komuaywn@gmail...</td>\n",
              "      <td>GRP_0</td>\n",
              "    </tr>\n",
              "    <tr>\n",
              "      <th>2</th>\n",
              "      <td>cant log in to vpn</td>\n",
              "      <td>\\r\\n\\r\\nreceived from: eylqgodm.ybqkwiam@gmail...</td>\n",
              "      <td>GRP_0</td>\n",
              "    </tr>\n",
              "    <tr>\n",
              "      <th>3</th>\n",
              "      <td>unable to access hr_tool page</td>\n",
              "      <td>unable to access hr_tool page</td>\n",
              "      <td>GRP_0</td>\n",
              "    </tr>\n",
              "    <tr>\n",
              "      <th>4</th>\n",
              "      <td>skype error</td>\n",
              "      <td>skype error</td>\n",
              "      <td>GRP_0</td>\n",
              "    </tr>\n",
              "  </tbody>\n",
              "</table>\n",
              "</div>"
            ],
            "text/plain": [
              "               Short description  ... Assignment group\n",
              "0                    login issue  ...            GRP_0\n",
              "1                        outlook  ...            GRP_0\n",
              "2             cant log in to vpn  ...            GRP_0\n",
              "3  unable to access hr_tool page  ...            GRP_0\n",
              "4                   skype error   ...            GRP_0\n",
              "\n",
              "[5 rows x 3 columns]"
            ]
          },
          "metadata": {
            "tags": []
          },
          "execution_count": 26
        }
      ]
    },
    {
      "cell_type": "code",
      "metadata": {
        "colab": {
          "base_uri": "https://localhost:8080/",
          "height": 77
        },
        "id": "hJ-Zl46yE11Y",
        "outputId": "0fdd316d-bf05-4f08-a456-39ee1f40a09e"
      },
      "source": [
        "df.iloc[[1]]"
      ],
      "execution_count": 27,
      "outputs": [
        {
          "output_type": "execute_result",
          "data": {
            "text/html": [
              "<div>\n",
              "<style scoped>\n",
              "    .dataframe tbody tr th:only-of-type {\n",
              "        vertical-align: middle;\n",
              "    }\n",
              "\n",
              "    .dataframe tbody tr th {\n",
              "        vertical-align: top;\n",
              "    }\n",
              "\n",
              "    .dataframe thead th {\n",
              "        text-align: right;\n",
              "    }\n",
              "</style>\n",
              "<table border=\"1\" class=\"dataframe\">\n",
              "  <thead>\n",
              "    <tr style=\"text-align: right;\">\n",
              "      <th></th>\n",
              "      <th>Short description</th>\n",
              "      <th>Description</th>\n",
              "      <th>Assignment group</th>\n",
              "    </tr>\n",
              "  </thead>\n",
              "  <tbody>\n",
              "    <tr>\n",
              "      <th>1</th>\n",
              "      <td>outlook</td>\n",
              "      <td>\\r\\n\\r\\nreceived from: hmjdrvpb.komuaywn@gmail...</td>\n",
              "      <td>GRP_0</td>\n",
              "    </tr>\n",
              "  </tbody>\n",
              "</table>\n",
              "</div>"
            ],
            "text/plain": [
              "  Short description  ... Assignment group\n",
              "1           outlook  ...            GRP_0\n",
              "\n",
              "[1 rows x 3 columns]"
            ]
          },
          "metadata": {
            "tags": []
          },
          "execution_count": 27
        }
      ]
    },
    {
      "cell_type": "code",
      "metadata": {
        "colab": {
          "base_uri": "https://localhost:8080/",
          "height": 53
        },
        "id": "v3-L_Cb9E11Z",
        "outputId": "84dd73a2-96bc-44d4-9e78-7dd420dcee16"
      },
      "source": [
        "df['Description'][1]"
      ],
      "execution_count": 28,
      "outputs": [
        {
          "output_type": "execute_result",
          "data": {
            "application/vnd.google.colaboratory.intrinsic+json": {
              "type": "string"
            },
            "text/plain": [
              "'\\r\\n\\r\\nreceived from: hmjdrvpb.komuaywn@gmail.com\\r\\n\\r\\nhello team,\\r\\n\\r\\nmy meetings/skype meetings etc are not appearing in my outlook calendar, can somebody please advise how to correct this?\\r\\n\\r\\nkind '"
            ]
          },
          "metadata": {
            "tags": []
          },
          "execution_count": 28
        }
      ]
    },
    {
      "cell_type": "code",
      "metadata": {
        "id": "2MYqlcijE11Z"
      },
      "source": [
        "df.replace({r'\\r\\n': ' '}, regex=True, inplace=True)"
      ],
      "execution_count": 29,
      "outputs": []
    },
    {
      "cell_type": "code",
      "metadata": {
        "colab": {
          "base_uri": "https://localhost:8080/",
          "height": 53
        },
        "id": "yETkMzg8E11Z",
        "outputId": "0af67fc0-8b85-4a49-8071-a73dcc69736d"
      },
      "source": [
        "df['Description'][1]"
      ],
      "execution_count": 30,
      "outputs": [
        {
          "output_type": "execute_result",
          "data": {
            "application/vnd.google.colaboratory.intrinsic+json": {
              "type": "string"
            },
            "text/plain": [
              "'  received from: hmjdrvpb.komuaywn@gmail.com  hello team,  my meetings/skype meetings etc are not appearing in my outlook calendar, can somebody please advise how to correct this?  kind '"
            ]
          },
          "metadata": {
            "tags": []
          },
          "execution_count": 30
        }
      ]
    },
    {
      "cell_type": "code",
      "metadata": {
        "id": "7dAxBnrkE11Z"
      },
      "source": [
        "df.to_excel(\"input_data_clean_1.xlsx\",\n",
        "             sheet_name='Sheet1')  "
      ],
      "execution_count": 31,
      "outputs": []
    },
    {
      "cell_type": "code",
      "metadata": {
        "colab": {
          "base_uri": "https://localhost:8080/",
          "height": 35
        },
        "id": "M_AaIjIlE11a",
        "outputId": "270bf772-b316-4d56-f9c3-d0a85dda488e"
      },
      "source": [
        "df['Short description'][3903]"
      ],
      "execution_count": 32,
      "outputs": [
        {
          "output_type": "execute_result",
          "data": {
            "application/vnd.google.colaboratory.intrinsic+json": {
              "type": "string"
            },
            "text/plain": [
              "'ç”µè„‘æ—\\xa0æ³•è¿žæŽ¥å…¬å…±ç›˜ï¼Œè¯·å¸®æˆ‘è½¬ç»™å°\\x8fè´º'"
            ]
          },
          "metadata": {
            "tags": []
          },
          "execution_count": 32
        }
      ]
    },
    {
      "cell_type": "code",
      "metadata": {
        "id": "RRfs24PyE11a"
      },
      "source": [
        "df['Short description'] = df['Short description'].str.encode('ascii', 'ignore').str.decode('ascii')"
      ],
      "execution_count": 33,
      "outputs": []
    },
    {
      "cell_type": "code",
      "metadata": {
        "colab": {
          "base_uri": "https://localhost:8080/"
        },
        "id": "QS56GLIVE11a",
        "outputId": "52928959-aceb-4fd8-c70a-c46171513b68"
      },
      "source": [
        "df.shape"
      ],
      "execution_count": 34,
      "outputs": [
        {
          "output_type": "execute_result",
          "data": {
            "text/plain": [
              "(7909, 3)"
            ]
          },
          "metadata": {
            "tags": []
          },
          "execution_count": 34
        }
      ]
    },
    {
      "cell_type": "code",
      "metadata": {
        "colab": {
          "base_uri": "https://localhost:8080/",
          "height": 317
        },
        "id": "UwR9J9ptE11a",
        "outputId": "4f82d8a5-73b1-4f19-a605-9c188ed42c42"
      },
      "source": [
        "df.iloc[3680:3689,:]"
      ],
      "execution_count": 35,
      "outputs": [
        {
          "output_type": "execute_result",
          "data": {
            "text/html": [
              "<div>\n",
              "<style scoped>\n",
              "    .dataframe tbody tr th:only-of-type {\n",
              "        vertical-align: middle;\n",
              "    }\n",
              "\n",
              "    .dataframe tbody tr th {\n",
              "        vertical-align: top;\n",
              "    }\n",
              "\n",
              "    .dataframe thead th {\n",
              "        text-align: right;\n",
              "    }\n",
              "</style>\n",
              "<table border=\"1\" class=\"dataframe\">\n",
              "  <thead>\n",
              "    <tr style=\"text-align: right;\">\n",
              "      <th></th>\n",
              "      <th>Short description</th>\n",
              "      <th>Description</th>\n",
              "      <th>Assignment group</th>\n",
              "    </tr>\n",
              "  </thead>\n",
              "  <tbody>\n",
              "    <tr>\n",
              "      <th>3900</th>\n",
              "      <td>problems with ap vpn</td>\n",
              "      <td>received from: elixsfvu.pxwbjofl@gmail.com  ...</td>\n",
              "      <td>GRP_0</td>\n",
              "    </tr>\n",
              "    <tr>\n",
              "      <th>3901</th>\n",
              "      <td>kis documents will not generate because the st...</td>\n",
              "      <td>kis documents will not generate because the st...</td>\n",
              "      <td>GRP_18</td>\n",
              "    </tr>\n",
              "    <tr>\n",
              "      <th>3902</th>\n",
              "      <td>wrong unit price on inwarehouse_tool</td>\n",
              "      <td>received from: ovhtgsxd.dcqhnrmy@gmail.com  ...</td>\n",
              "      <td>GRP_13</td>\n",
              "    </tr>\n",
              "    <tr>\n",
              "      <th>3903</th>\n",
              "      <td></td>\n",
              "      <td>ç”µè„‘æ— æ³•è¿žæŽ¥å…¬å…±ç›˜ï¼Œè¯·å¸®æˆ‘è½¬ç»™å...</td>\n",
              "      <td>GRP_30</td>\n",
              "    </tr>\n",
              "    <tr>\n",
              "      <th>3904</th>\n",
              "      <td>usa pc companyst-apc-01 in the pvd area cannot...</td>\n",
              "      <td>usa pc companyst-apc-01 in the pvd area needs ...</td>\n",
              "      <td>GRP_3</td>\n",
              "    </tr>\n",
              "    <tr>\n",
              "      <th>3906</th>\n",
              "      <td></td>\n",
              "      <td>-user unable  tologin to vpn. -connected to th...</td>\n",
              "      <td>GRP_0</td>\n",
              "    </tr>\n",
              "    <tr>\n",
              "      <th>3907</th>\n",
              "      <td>i am not able to log into my vpn. when i am tr...</td>\n",
              "      <td>name:mehrugshy\\nlanguage:\\nbrowser:microsoft i...</td>\n",
              "      <td>GRP_0</td>\n",
              "    </tr>\n",
              "    <tr>\n",
              "      <th>3911</th>\n",
              "      <td>vpn connectivity</td>\n",
              "      <td>received from: gmrxwqlf.vzacdmbj@gmail.com  ...</td>\n",
              "      <td>GRP_0</td>\n",
              "    </tr>\n",
              "    <tr>\n",
              "      <th>3912</th>\n",
              "      <td>referencing ticket ticket_no1499477. customer ...</td>\n",
              "      <td>please revisit ticket ticket_no1499477 and rev...</td>\n",
              "      <td>GRP_20</td>\n",
              "    </tr>\n",
              "  </tbody>\n",
              "</table>\n",
              "</div>"
            ],
            "text/plain": [
              "                                      Short description  ... Assignment group\n",
              "3900                               problems with ap vpn  ...            GRP_0\n",
              "3901  kis documents will not generate because the st...  ...           GRP_18\n",
              "3902              wrong unit price on inwarehouse_tool   ...           GRP_13\n",
              "3903                                                     ...           GRP_30\n",
              "3904  usa pc companyst-apc-01 in the pvd area cannot...  ...            GRP_3\n",
              "3906                                                     ...            GRP_0\n",
              "3907  i am not able to log into my vpn. when i am tr...  ...            GRP_0\n",
              "3911                                   vpn connectivity  ...            GRP_0\n",
              "3912  referencing ticket ticket_no1499477. customer ...  ...           GRP_20\n",
              "\n",
              "[9 rows x 3 columns]"
            ]
          },
          "metadata": {
            "tags": []
          },
          "execution_count": 35
        }
      ]
    },
    {
      "cell_type": "code",
      "metadata": {
        "colab": {
          "base_uri": "https://localhost:8080/",
          "height": 35
        },
        "id": "P_seBQcEE11b",
        "outputId": "4d72125e-d659-44ba-9083-131eee28be38"
      },
      "source": [
        "df['Description'][3903]"
      ],
      "execution_count": 36,
      "outputs": [
        {
          "output_type": "execute_result",
          "data": {
            "application/vnd.google.colaboratory.intrinsic+json": {
              "type": "string"
            },
            "text/plain": [
              "'ç”µè„‘æ—\\xa0æ³•è¿žæŽ¥å…¬å…±ç›˜ï¼Œè¯·å¸®æˆ‘è½¬ç»™å°\\x8fè´º'"
            ]
          },
          "metadata": {
            "tags": []
          },
          "execution_count": 36
        }
      ]
    },
    {
      "cell_type": "code",
      "metadata": {
        "id": "S2_XWvIvE11b"
      },
      "source": [
        "df['Description'] = df['Description'].str.encode('ascii', 'ignore').str.decode('ascii')"
      ],
      "execution_count": 37,
      "outputs": []
    },
    {
      "cell_type": "code",
      "metadata": {
        "colab": {
          "base_uri": "https://localhost:8080/",
          "height": 35
        },
        "id": "puBlLNINE11b",
        "outputId": "e827e898-bff8-4c17-ca28-cfa0f7961e30"
      },
      "source": [
        "df['Description'][3903]"
      ],
      "execution_count": 38,
      "outputs": [
        {
          "output_type": "execute_result",
          "data": {
            "application/vnd.google.colaboratory.intrinsic+json": {
              "type": "string"
            },
            "text/plain": [
              "''"
            ]
          },
          "metadata": {
            "tags": []
          },
          "execution_count": 38
        }
      ]
    },
    {
      "cell_type": "code",
      "metadata": {
        "colab": {
          "base_uri": "https://localhost:8080/",
          "height": 317
        },
        "id": "hekeL-5DE11c",
        "outputId": "6898cf2c-dd1e-4bd3-81c1-ccd2c527f0f8"
      },
      "source": [
        "df.iloc[3680:3689,:]"
      ],
      "execution_count": 39,
      "outputs": [
        {
          "output_type": "execute_result",
          "data": {
            "text/html": [
              "<div>\n",
              "<style scoped>\n",
              "    .dataframe tbody tr th:only-of-type {\n",
              "        vertical-align: middle;\n",
              "    }\n",
              "\n",
              "    .dataframe tbody tr th {\n",
              "        vertical-align: top;\n",
              "    }\n",
              "\n",
              "    .dataframe thead th {\n",
              "        text-align: right;\n",
              "    }\n",
              "</style>\n",
              "<table border=\"1\" class=\"dataframe\">\n",
              "  <thead>\n",
              "    <tr style=\"text-align: right;\">\n",
              "      <th></th>\n",
              "      <th>Short description</th>\n",
              "      <th>Description</th>\n",
              "      <th>Assignment group</th>\n",
              "    </tr>\n",
              "  </thead>\n",
              "  <tbody>\n",
              "    <tr>\n",
              "      <th>3900</th>\n",
              "      <td>problems with ap vpn</td>\n",
              "      <td>received from: elixsfvu.pxwbjofl@gmail.com  ...</td>\n",
              "      <td>GRP_0</td>\n",
              "    </tr>\n",
              "    <tr>\n",
              "      <th>3901</th>\n",
              "      <td>kis documents will not generate because the st...</td>\n",
              "      <td>kis documents will not generate because the st...</td>\n",
              "      <td>GRP_18</td>\n",
              "    </tr>\n",
              "    <tr>\n",
              "      <th>3902</th>\n",
              "      <td>wrong unit price on inwarehouse_tool</td>\n",
              "      <td>received from: ovhtgsxd.dcqhnrmy@gmail.com  ...</td>\n",
              "      <td>GRP_13</td>\n",
              "    </tr>\n",
              "    <tr>\n",
              "      <th>3903</th>\n",
              "      <td></td>\n",
              "      <td></td>\n",
              "      <td>GRP_30</td>\n",
              "    </tr>\n",
              "    <tr>\n",
              "      <th>3904</th>\n",
              "      <td>usa pc companyst-apc-01 in the pvd area cannot...</td>\n",
              "      <td>usa pc companyst-apc-01 in the pvd area needs ...</td>\n",
              "      <td>GRP_3</td>\n",
              "    </tr>\n",
              "    <tr>\n",
              "      <th>3906</th>\n",
              "      <td></td>\n",
              "      <td>-user unable  tologin to vpn. -connected to th...</td>\n",
              "      <td>GRP_0</td>\n",
              "    </tr>\n",
              "    <tr>\n",
              "      <th>3907</th>\n",
              "      <td>i am not able to log into my vpn. when i am tr...</td>\n",
              "      <td>name:mehrugshy\\nlanguage:\\nbrowser:microsoft i...</td>\n",
              "      <td>GRP_0</td>\n",
              "    </tr>\n",
              "    <tr>\n",
              "      <th>3911</th>\n",
              "      <td>vpn connectivity</td>\n",
              "      <td>received from: gmrxwqlf.vzacdmbj@gmail.com  ...</td>\n",
              "      <td>GRP_0</td>\n",
              "    </tr>\n",
              "    <tr>\n",
              "      <th>3912</th>\n",
              "      <td>referencing ticket ticket_no1499477. customer ...</td>\n",
              "      <td>please revisit ticket ticket_no1499477 and rev...</td>\n",
              "      <td>GRP_20</td>\n",
              "    </tr>\n",
              "  </tbody>\n",
              "</table>\n",
              "</div>"
            ],
            "text/plain": [
              "                                      Short description  ... Assignment group\n",
              "3900                               problems with ap vpn  ...            GRP_0\n",
              "3901  kis documents will not generate because the st...  ...           GRP_18\n",
              "3902              wrong unit price on inwarehouse_tool   ...           GRP_13\n",
              "3903                                                     ...           GRP_30\n",
              "3904  usa pc companyst-apc-01 in the pvd area cannot...  ...            GRP_3\n",
              "3906                                                     ...            GRP_0\n",
              "3907  i am not able to log into my vpn. when i am tr...  ...            GRP_0\n",
              "3911                                   vpn connectivity  ...            GRP_0\n",
              "3912  referencing ticket ticket_no1499477. customer ...  ...           GRP_20\n",
              "\n",
              "[9 rows x 3 columns]"
            ]
          },
          "metadata": {
            "tags": []
          },
          "execution_count": 39
        }
      ]
    },
    {
      "cell_type": "code",
      "metadata": {
        "colab": {
          "base_uri": "https://localhost:8080/",
          "height": 77
        },
        "id": "3Za6mFA1E11c",
        "outputId": "e531652f-6842-4db2-def6-d61966717f17"
      },
      "source": [
        "df.isna().apply(pd.value_counts)   #null value check "
      ],
      "execution_count": 40,
      "outputs": [
        {
          "output_type": "execute_result",
          "data": {
            "text/html": [
              "<div>\n",
              "<style scoped>\n",
              "    .dataframe tbody tr th:only-of-type {\n",
              "        vertical-align: middle;\n",
              "    }\n",
              "\n",
              "    .dataframe tbody tr th {\n",
              "        vertical-align: top;\n",
              "    }\n",
              "\n",
              "    .dataframe thead th {\n",
              "        text-align: right;\n",
              "    }\n",
              "</style>\n",
              "<table border=\"1\" class=\"dataframe\">\n",
              "  <thead>\n",
              "    <tr style=\"text-align: right;\">\n",
              "      <th></th>\n",
              "      <th>Short description</th>\n",
              "      <th>Description</th>\n",
              "      <th>Assignment group</th>\n",
              "    </tr>\n",
              "  </thead>\n",
              "  <tbody>\n",
              "    <tr>\n",
              "      <th>False</th>\n",
              "      <td>7909</td>\n",
              "      <td>7909</td>\n",
              "      <td>7909</td>\n",
              "    </tr>\n",
              "  </tbody>\n",
              "</table>\n",
              "</div>"
            ],
            "text/plain": [
              "       Short description  Description  Assignment group\n",
              "False               7909         7909              7909"
            ]
          },
          "metadata": {
            "tags": []
          },
          "execution_count": 40
        }
      ]
    },
    {
      "cell_type": "code",
      "metadata": {
        "id": "HiAMKm-uE11g"
      },
      "source": [
        "def dup_col (row):\n",
        "  #print(\"row=\", i, row)\n",
        "  if row['Short description'] == row['Description'] :\n",
        "    return row['Description']\n",
        "  else :\n",
        "    return row['Short description'] + ' ' + row['Description']\n",
        "\n",
        "df['Clean_Desc'] = df.apply (lambda row: dup_col(row), axis=1)"
      ],
      "execution_count": 41,
      "outputs": []
    },
    {
      "cell_type": "code",
      "metadata": {
        "id": "47x1kEpyE11c"
      },
      "source": [
        "df.to_excel(\"input_data_clean_2.xlsx\", sheet_name='Sheet1')  "
      ],
      "execution_count": 42,
      "outputs": []
    },
    {
      "cell_type": "code",
      "metadata": {
        "colab": {
          "base_uri": "https://localhost:8080/",
          "height": 406
        },
        "id": "1K4Ea1CLPsFh",
        "outputId": "fe73d527-4f6a-4b9f-9e1b-99c7e274dc6a"
      },
      "source": [
        "df"
      ],
      "execution_count": 43,
      "outputs": [
        {
          "output_type": "execute_result",
          "data": {
            "text/html": [
              "<div>\n",
              "<style scoped>\n",
              "    .dataframe tbody tr th:only-of-type {\n",
              "        vertical-align: middle;\n",
              "    }\n",
              "\n",
              "    .dataframe tbody tr th {\n",
              "        vertical-align: top;\n",
              "    }\n",
              "\n",
              "    .dataframe thead th {\n",
              "        text-align: right;\n",
              "    }\n",
              "</style>\n",
              "<table border=\"1\" class=\"dataframe\">\n",
              "  <thead>\n",
              "    <tr style=\"text-align: right;\">\n",
              "      <th></th>\n",
              "      <th>Short description</th>\n",
              "      <th>Description</th>\n",
              "      <th>Assignment group</th>\n",
              "      <th>Clean_Desc</th>\n",
              "    </tr>\n",
              "  </thead>\n",
              "  <tbody>\n",
              "    <tr>\n",
              "      <th>0</th>\n",
              "      <td>login issue</td>\n",
              "      <td>-verified user details.(employee# &amp; manager na...</td>\n",
              "      <td>GRP_0</td>\n",
              "      <td>login issue -verified user details.(employee# ...</td>\n",
              "    </tr>\n",
              "    <tr>\n",
              "      <th>1</th>\n",
              "      <td>outlook</td>\n",
              "      <td>received from: hmjdrvpb.komuaywn@gmail.com  ...</td>\n",
              "      <td>GRP_0</td>\n",
              "      <td>outlook   received from: hmjdrvpb.komuaywn@gma...</td>\n",
              "    </tr>\n",
              "    <tr>\n",
              "      <th>2</th>\n",
              "      <td>cant log in to vpn</td>\n",
              "      <td>received from: eylqgodm.ybqkwiam@gmail.com  ...</td>\n",
              "      <td>GRP_0</td>\n",
              "      <td>cant log in to vpn   received from: eylqgodm.y...</td>\n",
              "    </tr>\n",
              "    <tr>\n",
              "      <th>3</th>\n",
              "      <td>unable to access hr_tool page</td>\n",
              "      <td>unable to access hr_tool page</td>\n",
              "      <td>GRP_0</td>\n",
              "      <td>unable to access hr_tool page</td>\n",
              "    </tr>\n",
              "    <tr>\n",
              "      <th>4</th>\n",
              "      <td>skype error</td>\n",
              "      <td>skype error</td>\n",
              "      <td>GRP_0</td>\n",
              "      <td>skype error</td>\n",
              "    </tr>\n",
              "    <tr>\n",
              "      <th>...</th>\n",
              "      <td>...</td>\n",
              "      <td>...</td>\n",
              "      <td>...</td>\n",
              "      <td>...</td>\n",
              "    </tr>\n",
              "    <tr>\n",
              "      <th>8495</th>\n",
              "      <td>emails not coming in from zz mail</td>\n",
              "      <td>received from: avglmrts.vhqmtiua@gmail.com  ...</td>\n",
              "      <td>GRP_29</td>\n",
              "      <td>emails not coming in from zz mail   received f...</td>\n",
              "    </tr>\n",
              "    <tr>\n",
              "      <th>8496</th>\n",
              "      <td>telephony_software issue</td>\n",
              "      <td>telephony_software issue</td>\n",
              "      <td>GRP_0</td>\n",
              "      <td>telephony_software issue</td>\n",
              "    </tr>\n",
              "    <tr>\n",
              "      <th>8497</th>\n",
              "      <td>vip2: windows password reset for tifpdchb pedx...</td>\n",
              "      <td>vip2: windows password reset for tifpdchb pedx...</td>\n",
              "      <td>GRP_0</td>\n",
              "      <td>vip2: windows password reset for tifpdchb pedx...</td>\n",
              "    </tr>\n",
              "    <tr>\n",
              "      <th>8498</th>\n",
              "      <td>machine no est funcionando</td>\n",
              "      <td>i am unable to access the machine utilities to...</td>\n",
              "      <td>GRP_62</td>\n",
              "      <td>machine no est funcionando i am unable to acce...</td>\n",
              "    </tr>\n",
              "    <tr>\n",
              "      <th>8499</th>\n",
              "      <td>an mehreren pc`s lassen sich verschiedene prgr...</td>\n",
              "      <td>an mehreren pc`s lassen sich verschiedene prgr...</td>\n",
              "      <td>GRP_49</td>\n",
              "      <td>an mehreren pc`s lassen sich verschiedene prgr...</td>\n",
              "    </tr>\n",
              "  </tbody>\n",
              "</table>\n",
              "<p>7909 rows × 4 columns</p>\n",
              "</div>"
            ],
            "text/plain": [
              "                                      Short description  ...                                         Clean_Desc\n",
              "0                                           login issue  ...  login issue -verified user details.(employee# ...\n",
              "1                                               outlook  ...  outlook   received from: hmjdrvpb.komuaywn@gma...\n",
              "2                                    cant log in to vpn  ...  cant log in to vpn   received from: eylqgodm.y...\n",
              "3                         unable to access hr_tool page  ...                      unable to access hr_tool page\n",
              "4                                          skype error   ...                                       skype error \n",
              "...                                                 ...  ...                                                ...\n",
              "8495                  emails not coming in from zz mail  ...  emails not coming in from zz mail   received f...\n",
              "8496                           telephony_software issue  ...                           telephony_software issue\n",
              "8497  vip2: windows password reset for tifpdchb pedx...  ...  vip2: windows password reset for tifpdchb pedx...\n",
              "8498                         machine no est funcionando  ...  machine no est funcionando i am unable to acce...\n",
              "8499  an mehreren pc`s lassen sich verschiedene prgr...  ...  an mehreren pc`s lassen sich verschiedene prgr...\n",
              "\n",
              "[7909 rows x 4 columns]"
            ]
          },
          "metadata": {
            "tags": []
          },
          "execution_count": 43
        }
      ]
    },
    {
      "cell_type": "markdown",
      "metadata": {
        "id": "NMebDFOjE11d"
      },
      "source": [
        "### Tokenizer\n",
        "Regular expression based tokenizers to consider only alphabetical sequences and ignore numerical sequences."
      ]
    },
    {
      "cell_type": "code",
      "metadata": {
        "id": "C5CycgWqE11d"
      },
      "source": [
        "def Desc_to_words(desc):    \n",
        "    words = RegexpTokenizer('\\w+').tokenize(desc)\n",
        "    words = [re.sub(r'([xx]+)|([XX]+)|(\\d+)', '', w).lower() for w in words]\n",
        "    words = list(filter(lambda a: a != '', words))    \n",
        "    return words"
      ],
      "execution_count": 44,
      "outputs": []
    },
    {
      "cell_type": "markdown",
      "metadata": {
        "id": "FcX2O9lxE11d"
      },
      "source": [
        "### Vocabulary\n",
        "Extracing all the unique words from the dataset"
      ]
    },
    {
      "cell_type": "code",
      "metadata": {
        "id": "KyXLNuhmE11d"
      },
      "source": [
        "all_words = list()\n",
        "for desc in df['Clean_Desc']:\n",
        "    for w in Desc_to_words(desc):\n",
        "        all_words.append(w)"
      ],
      "execution_count": 45,
      "outputs": []
    },
    {
      "cell_type": "code",
      "metadata": {
        "colab": {
          "base_uri": "https://localhost:8080/"
        },
        "id": "5MqAVXSoE11e",
        "outputId": "16e135bc-303b-4555-8e10-6655ae3b69d7"
      },
      "source": [
        "print('Size of vocabulary: {}'.format(len(set(all_words))))\n",
        "print('Description\\n', df['Clean_Desc'][10], '\\n')\n",
        "print('Tokens\\n', Desc_to_words(df['Clean_Desc'][10]))"
      ],
      "execution_count": 46,
      "outputs": [
        {
          "output_type": "stream",
          "text": [
            "Size of vocabulary: 15785\n",
            "Description\n",
            " engineering tool says not connected and unable to submit reports \n",
            "\n",
            "Tokens\n",
            " ['engineering', 'tool', 'says', 'not', 'connected', 'and', 'unable', 'to', 'submit', 'reports']\n"
          ],
          "name": "stdout"
        }
      ]
    },
    {
      "cell_type": "markdown",
      "metadata": {
        "id": "F-anNk5eQD1h"
      },
      "source": [
        "### Indexing\r\n",
        "Indexing each unique word in the dataset by assigning it a unique number."
      ]
    },
    {
      "cell_type": "code",
      "metadata": {
        "id": "uOR48pW8E11e"
      },
      "source": [
        "index_dict = dict()\r\n",
        "count = 1\r\n",
        "index_dict['<unk>'] = 0\r\n",
        "for word in set(all_words):\r\n",
        "    index_dict[word] = count\r\n",
        "    count += 1"
      ],
      "execution_count": 47,
      "outputs": []
    },
    {
      "cell_type": "markdown",
      "metadata": {
        "id": "3Hw2w2_8QKWT"
      },
      "source": [
        "### Dataset\r\n",
        "Utilizing indexed words to replace words by index. This makes the dataset numerical and keras readable."
      ]
    },
    {
      "cell_type": "code",
      "metadata": {
        "id": "Y-EBF3USE11f"
      },
      "source": [
        "embeddings_index = {}\r\n",
        "f = open('/content/drive/My Drive/AIML/11_NaturalLanguageProcessing/Week2_WordEmbedding/Mentor Material - Week 2/glove.6B.300d.txt')\r\n",
        "for line in f:\r\n",
        "    values = line.split()\r\n",
        "    word = values[0]\r\n",
        "    coefs = np.asarray(values[1:], dtype='float32')\r\n",
        "    embeddings_index[word] = coefs\r\n",
        "f.close()"
      ],
      "execution_count": 48,
      "outputs": []
    },
    {
      "cell_type": "markdown",
      "metadata": {
        "id": "Y0sV8AJ2QWKz"
      },
      "source": [
        "#### Taking average of all word embeddings in a sentence to generate the sentence representation."
      ]
    },
    {
      "cell_type": "code",
      "metadata": {
        "id": "6h6hDIVtE11f"
      },
      "source": [
        "data_list = list()\r\n",
        "for desc in df['Clean_Desc']:\r\n",
        "    sentence = np.zeros(300)\r\n",
        "    count = 0\r\n",
        "    for w in Desc_to_words(desc):\r\n",
        "        try:\r\n",
        "            sentence += embeddings_index[w]\r\n",
        "            count += 1\r\n",
        "        except KeyError:\r\n",
        "            continue\r\n",
        "    data_list.append(sentence / count)"
      ],
      "execution_count": 49,
      "outputs": []
    },
    {
      "cell_type": "markdown",
      "metadata": {
        "id": "fCds_0TOQr7J"
      },
      "source": [
        "#### Converting categrical labels to numerical format and further one hot encoding on the numerical labels."
      ]
    },
    {
      "cell_type": "code",
      "metadata": {
        "colab": {
          "base_uri": "https://localhost:8080/",
          "height": 197
        },
        "id": "tkN_VcaOE11f",
        "outputId": "daef3fd4-f099-48ab-b3d4-b8df64de37c9"
      },
      "source": [
        "from sklearn import preprocessing\r\n",
        "le = preprocessing.LabelEncoder()\r\n",
        "le.fit(df['Assignment group'])\r\n",
        "df['Target'] = le.transform(df['Assignment group'])\r\n",
        "df.head()"
      ],
      "execution_count": 50,
      "outputs": [
        {
          "output_type": "execute_result",
          "data": {
            "text/html": [
              "<div>\n",
              "<style scoped>\n",
              "    .dataframe tbody tr th:only-of-type {\n",
              "        vertical-align: middle;\n",
              "    }\n",
              "\n",
              "    .dataframe tbody tr th {\n",
              "        vertical-align: top;\n",
              "    }\n",
              "\n",
              "    .dataframe thead th {\n",
              "        text-align: right;\n",
              "    }\n",
              "</style>\n",
              "<table border=\"1\" class=\"dataframe\">\n",
              "  <thead>\n",
              "    <tr style=\"text-align: right;\">\n",
              "      <th></th>\n",
              "      <th>Short description</th>\n",
              "      <th>Description</th>\n",
              "      <th>Assignment group</th>\n",
              "      <th>Clean_Desc</th>\n",
              "      <th>Target</th>\n",
              "    </tr>\n",
              "  </thead>\n",
              "  <tbody>\n",
              "    <tr>\n",
              "      <th>0</th>\n",
              "      <td>login issue</td>\n",
              "      <td>-verified user details.(employee# &amp; manager na...</td>\n",
              "      <td>GRP_0</td>\n",
              "      <td>login issue -verified user details.(employee# ...</td>\n",
              "      <td>0</td>\n",
              "    </tr>\n",
              "    <tr>\n",
              "      <th>1</th>\n",
              "      <td>outlook</td>\n",
              "      <td>received from: hmjdrvpb.komuaywn@gmail.com  ...</td>\n",
              "      <td>GRP_0</td>\n",
              "      <td>outlook   received from: hmjdrvpb.komuaywn@gma...</td>\n",
              "      <td>0</td>\n",
              "    </tr>\n",
              "    <tr>\n",
              "      <th>2</th>\n",
              "      <td>cant log in to vpn</td>\n",
              "      <td>received from: eylqgodm.ybqkwiam@gmail.com  ...</td>\n",
              "      <td>GRP_0</td>\n",
              "      <td>cant log in to vpn   received from: eylqgodm.y...</td>\n",
              "      <td>0</td>\n",
              "    </tr>\n",
              "    <tr>\n",
              "      <th>3</th>\n",
              "      <td>unable to access hr_tool page</td>\n",
              "      <td>unable to access hr_tool page</td>\n",
              "      <td>GRP_0</td>\n",
              "      <td>unable to access hr_tool page</td>\n",
              "      <td>0</td>\n",
              "    </tr>\n",
              "    <tr>\n",
              "      <th>4</th>\n",
              "      <td>skype error</td>\n",
              "      <td>skype error</td>\n",
              "      <td>GRP_0</td>\n",
              "      <td>skype error</td>\n",
              "      <td>0</td>\n",
              "    </tr>\n",
              "  </tbody>\n",
              "</table>\n",
              "</div>"
            ],
            "text/plain": [
              "               Short description  ... Target\n",
              "0                    login issue  ...      0\n",
              "1                        outlook  ...      0\n",
              "2             cant log in to vpn  ...      0\n",
              "3  unable to access hr_tool page  ...      0\n",
              "4                   skype error   ...      0\n",
              "\n",
              "[5 rows x 5 columns]"
            ]
          },
          "metadata": {
            "tags": []
          },
          "execution_count": 50
        }
      ]
    },
    {
      "cell_type": "markdown",
      "metadata": {
        "id": "AjC1j7DEQ6Oi"
      },
      "source": [
        "### One hot Encoding"
      ]
    },
    {
      "cell_type": "code",
      "metadata": {
        "colab": {
          "base_uri": "https://localhost:8080/"
        },
        "id": "JfA9IuNpRkeQ",
        "outputId": "88206cd2-c7df-4a3d-c5b7-ad51a610f3ee"
      },
      "source": [
        "np.array(data_list)"
      ],
      "execution_count": 51,
      "outputs": [
        {
          "output_type": "execute_result",
          "data": {
            "text/plain": [
              "array([[-0.17510451,  0.1941614 , -0.019432  , ..., -0.05165571,\n",
              "        -0.15891811,  0.01151319],\n",
              "       [-0.20180574, -0.0501844 , -0.1169173 , ..., -0.13440585,\n",
              "        -0.01636232,  0.00236614],\n",
              "       [-0.219786  ,  0.03106118, -0.22590529, ..., -0.06619683,\n",
              "         0.014843  ,  0.0499007 ],\n",
              "       ...,\n",
              "       [-0.250205  ,  0.12759781,  0.0298854 , ...,  0.16857821,\n",
              "        -0.22893   ,  0.1205251 ],\n",
              "       [-0.1092463 ,  0.11192604, -0.03287869, ..., -0.18469939,\n",
              "        -0.0517648 ,  0.11906922],\n",
              "       [ 0.02294691,  0.02800554, -0.01523123, ...,  0.0810663 ,\n",
              "         0.16094308,  0.27886   ]])"
            ]
          },
          "metadata": {
            "tags": []
          },
          "execution_count": 51
        }
      ]
    },
    {
      "cell_type": "code",
      "metadata": {
        "colab": {
          "base_uri": "https://localhost:8080/"
        },
        "id": "9tQo2IirRpFD",
        "outputId": "5d7cbf41-9054-44bf-dad4-a8bb77a96eed"
      },
      "source": [
        "df.Target.values"
      ],
      "execution_count": 52,
      "outputs": [
        {
          "output_type": "execute_result",
          "data": {
            "text/plain": [
              "array([ 0,  0,  0, ...,  0, 59, 44])"
            ]
          },
          "metadata": {
            "tags": []
          },
          "execution_count": 52
        }
      ]
    },
    {
      "cell_type": "code",
      "metadata": {
        "id": "ozVPqqOQE11f"
      },
      "source": [
        "from sklearn.model_selection import train_test_split\r\n",
        "X_train, X_test, y_train, y_test = train_test_split(np.array(data_list), df.Target.values, test_size=0.15, random_state=0)"
      ],
      "execution_count": 53,
      "outputs": []
    },
    {
      "cell_type": "code",
      "metadata": {
        "colab": {
          "base_uri": "https://localhost:8080/"
        },
        "id": "EX9r4rsQE11g",
        "outputId": "a70ea2e3-3168-4084-8b4d-694d5649b4cd"
      },
      "source": [
        "print(X_train.shape)\r\n",
        "print(y_train.shape)\r\n",
        "print(X_test.shape)\r\n",
        "print(y_test.shape)"
      ],
      "execution_count": 58,
      "outputs": [
        {
          "output_type": "stream",
          "text": [
            "(6722, 300)\n",
            "(6722,)\n",
            "(1187, 300)\n",
            "(1187,)\n"
          ],
          "name": "stdout"
        }
      ]
    },
    {
      "cell_type": "code",
      "metadata": {
        "id": "6QL-oL4MMfSM"
      },
      "source": [
        "X_train = X_train[:800]\r\n",
        "y_train = y_train[:800]\r\n",
        "X_test = X_test[:200]\r\n",
        "y_test = y_test[:200]"
      ],
      "execution_count": 60,
      "outputs": []
    },
    {
      "cell_type": "code",
      "metadata": {
        "colab": {
          "base_uri": "https://localhost:8080/"
        },
        "id": "i0X6p6srNB0b",
        "outputId": "07cd687e-e411-4294-bfd0-1b67279ccb99"
      },
      "source": [
        "print(X_train.shape)\r\n",
        "print(y_train.shape)\r\n",
        "print(X_test.shape)\r\n",
        "print(y_test.shape)"
      ],
      "execution_count": 63,
      "outputs": [
        {
          "output_type": "stream",
          "text": [
            "(800, 300)\n",
            "(800,)\n",
            "(200, 300)\n",
            "(200,)\n"
          ],
          "name": "stdout"
        }
      ]
    },
    {
      "cell_type": "code",
      "metadata": {
        "colab": {
          "base_uri": "https://localhost:8080/"
        },
        "id": "DuUSnDKWNKhg",
        "outputId": "bdeb3573-0658-4f80-bb8f-1a6876fc76ea"
      },
      "source": [
        "X_train[0]"
      ],
      "execution_count": 64,
      "outputs": [
        {
          "output_type": "execute_result",
          "data": {
            "text/plain": [
              "array([-0.10401875,  0.25111988,  0.04213745, -0.04899287, -0.059037  ,\n",
              "       -0.1317755 ,  0.2192235 , -0.01171787,  0.020197  , -0.59295876,\n",
              "        0.16813237,  0.08359187,  0.16733266, -0.161739  , -0.03220563,\n",
              "        0.04745151,  0.170906  , -0.09737017, -0.03025575, -0.132216  ,\n",
              "        0.14542083, -0.1015875 ,  0.05818917, -0.02354188, -0.05926375,\n",
              "       -0.1234435 , -0.09205576,  0.23311113, -0.02491975, -0.07179288,\n",
              "        0.0515555 , -0.11438906, -0.09244915,  0.04265425, -0.11239937,\n",
              "       -0.1777459 , -0.33023075,  0.0285175 , -0.1842135 ,  0.05831262,\n",
              "        0.14859825,  0.16322588, -0.057699  ,  0.01038558,  0.0240335 ,\n",
              "        0.14714125,  0.11978382,  0.00746251, -0.38865212,  0.0631255 ,\n",
              "        0.29362413, -0.10149663,  0.00183213, -0.07878375, -0.11179213,\n",
              "        0.12001575, -0.22737875,  0.22137612,  0.11527717,  0.08686825,\n",
              "       -0.07260675,  0.08073087, -0.00350475, -0.110088  , -0.0900415 ,\n",
              "        0.05149313,  0.17096912,  0.1044555 ,  0.02451888,  0.16356962,\n",
              "        0.16114156,  0.22832525,  0.00746125, -0.03224463, -0.11297475,\n",
              "        0.16201125,  0.117705  , -0.14117987,  0.12631162, -0.19225325,\n",
              "       -0.10850249, -0.13185225, -0.01716357, -0.09342162,  0.19095764,\n",
              "       -0.01950905, -0.29049587,  0.06289988,  0.06095075,  0.13143001,\n",
              "       -0.1662375 ,  0.10068362,  0.030346  , -0.05009237,  0.14989862,\n",
              "        0.08425638, -0.04334124, -0.07232025,  0.08978326, -0.36590375,\n",
              "       -0.11869162,  0.14552488,  0.04342762,  0.15215132,  0.1088019 ,\n",
              "       -0.16019125, -0.05024013,  0.0487525 , -0.140455  , -0.20566675,\n",
              "        0.21251187,  0.04494375, -0.31944625,  0.10286213, -0.24587762,\n",
              "       -0.266845  , -0.02354562,  0.05948375, -0.07105812, -0.15255202,\n",
              "        0.00556732, -0.03706625,  0.06243875, -0.00660225, -0.08259588,\n",
              "       -0.134185  , -0.02507488, -0.09398   , -0.17711525, -0.03920275,\n",
              "        0.08494925,  0.2048275 , -0.14315525,  0.04801775, -0.02859912,\n",
              "       -0.17615601,  0.11450725,  0.09367388,  0.15044862,  0.19534425,\n",
              "       -0.09629712,  0.08129587, -0.16668125, -0.1393187 ,  0.01676751,\n",
              "       -0.16513125, -0.279232  ,  0.10232862,  0.01498575,  0.18446413,\n",
              "       -0.01175   , -0.01315325,  0.03025125,  0.01090976, -0.10779538,\n",
              "       -0.0717625 ,  0.18951624, -0.02168533, -0.1508175 , -0.21992765,\n",
              "       -0.14811725, -0.09553319, -0.03460987, -0.14509575,  0.13652015,\n",
              "        0.05444249, -0.04888375, -0.05374875,  0.0435215 ,  0.013312  ,\n",
              "       -0.09719138, -0.0154325 ,  0.01878498,  0.0511075 ,  0.008361  ,\n",
              "       -0.1028545 ,  0.05758363,  0.12690688, -0.29428587,  0.0917675 ,\n",
              "       -0.23298549, -0.06508538,  0.29276176, -0.09726525, -0.17622425,\n",
              "       -0.04300712,  0.20723925,  0.01439   ,  0.04885575,  0.08775575,\n",
              "        0.0496855 ,  0.2854205 , -0.20567012, -0.09051712,  0.2161865 ,\n",
              "       -0.14803225, -0.02000789,  0.08921475,  0.10062987, -0.03156773,\n",
              "        0.28125999,  0.09737538,  0.27408187,  0.18647144,  0.0295175 ,\n",
              "        0.01324946, -0.2869175 ,  0.09876588, -0.16016923,  0.12260095,\n",
              "        0.00830263,  0.02102288, -0.07336114, -0.17242788,  0.09510376,\n",
              "        0.14798463, -0.139315  ,  0.20392987, -0.00490975,  0.37189394,\n",
              "       -0.39384625,  0.05408069, -0.098731  ,  0.02887163,  0.02443743,\n",
              "       -0.09502524, -0.16619375,  0.12883175,  0.03646062, -0.1285385 ,\n",
              "        0.03186475, -0.00143986,  0.03584625, -0.03622338,  0.01369899,\n",
              "        0.01536663, -0.01986838,  0.22104888,  0.19453374,  0.2836635 ,\n",
              "       -0.153049  ,  0.09877925,  0.07860987, -0.0813305 , -0.3352275 ,\n",
              "        0.23067412,  0.13091675,  0.0255165 ,  0.22284875, -0.216358  ,\n",
              "       -0.03185475,  0.04152713, -0.32008016,  0.05517624, -0.20072787,\n",
              "       -0.00665112, -0.29113987,  0.146878  ,  0.18995013, -0.00311862,\n",
              "       -0.25293751,  0.02332751, -0.07844413,  0.19709476,  0.02560468,\n",
              "        0.14095612,  0.05631475,  0.00198912,  0.2306855 ,  0.04483212,\n",
              "        0.08937563, -0.14989825,  0.0651586 , -0.14138662, -0.03690675,\n",
              "        0.06782487, -0.60027372,  0.140902  ,  0.21307061,  0.20208412,\n",
              "       -0.200123  , -0.13020888, -0.01484387,  0.20706488, -0.10999537,\n",
              "        0.01271638, -0.05692048, -0.111191  ,  0.00743261, -0.05551088,\n",
              "       -0.2155225 , -0.047306  ,  0.00971496, -0.00364975, -0.17334988,\n",
              "       -0.02625113, -0.0037372 , -0.03960598, -0.12222125,  0.01296369])"
            ]
          },
          "metadata": {
            "tags": []
          },
          "execution_count": 64
        }
      ]
    },
    {
      "cell_type": "code",
      "metadata": {
        "collapsed": true,
        "colab": {
          "base_uri": "https://localhost:8080/"
        },
        "id": "ReOuzX_mE11g",
        "outputId": "48c3eab3-b77a-4a3f-994b-ea03aa2f382c"
      },
      "source": [
        "np.array(data_list).shape"
      ],
      "execution_count": 55,
      "outputs": [
        {
          "output_type": "execute_result",
          "data": {
            "text/plain": [
              "(7909, 300)"
            ]
          },
          "metadata": {
            "tags": []
          },
          "execution_count": 55
        }
      ]
    },
    {
      "cell_type": "markdown",
      "metadata": {
        "id": "wxD1EZtaRHsZ"
      },
      "source": [
        "#### Training and testing the classifier"
      ]
    },
    {
      "cell_type": "code",
      "metadata": {
        "colab": {
          "base_uri": "https://localhost:8080/",
          "height": 387
        },
        "id": "w0cQLPqCLq6A",
        "outputId": "c5314f0e-6cec-4d34-8223-099e4bba0311"
      },
      "source": [
        "from sklearn.naive_bayes import BernoulliNB\r\n",
        "from sklearn.metrics import accuracy_score\r\n",
        "clf = BernoulliNB()\r\n",
        "clf.fit(X_train, y_train)\r\n",
        "pred = clf.predict(X_test)\r\n",
        "print(accuracy_score(y_test, pred))"
      ],
      "execution_count": 62,
      "outputs": [
        {
          "output_type": "error",
          "ename": "ValueError",
          "evalue": "ignored",
          "traceback": [
            "\u001b[0;31m---------------------------------------------------------------------------\u001b[0m",
            "\u001b[0;31mValueError\u001b[0m                                Traceback (most recent call last)",
            "\u001b[0;32m<ipython-input-62-6d91488c7d55>\u001b[0m in \u001b[0;36m<module>\u001b[0;34m()\u001b[0m\n\u001b[1;32m      2\u001b[0m \u001b[0;32mfrom\u001b[0m \u001b[0msklearn\u001b[0m\u001b[0;34m.\u001b[0m\u001b[0mmetrics\u001b[0m \u001b[0;32mimport\u001b[0m \u001b[0maccuracy_score\u001b[0m\u001b[0;34m\u001b[0m\u001b[0;34m\u001b[0m\u001b[0m\n\u001b[1;32m      3\u001b[0m \u001b[0mclf\u001b[0m \u001b[0;34m=\u001b[0m \u001b[0mBernoulliNB\u001b[0m\u001b[0;34m(\u001b[0m\u001b[0;34m)\u001b[0m\u001b[0;34m\u001b[0m\u001b[0;34m\u001b[0m\u001b[0m\n\u001b[0;32m----> 4\u001b[0;31m \u001b[0mclf\u001b[0m\u001b[0;34m.\u001b[0m\u001b[0mfit\u001b[0m\u001b[0;34m(\u001b[0m\u001b[0mX_train\u001b[0m\u001b[0;34m,\u001b[0m \u001b[0my_train\u001b[0m\u001b[0;34m)\u001b[0m\u001b[0;34m\u001b[0m\u001b[0;34m\u001b[0m\u001b[0m\n\u001b[0m\u001b[1;32m      5\u001b[0m \u001b[0mpred\u001b[0m \u001b[0;34m=\u001b[0m \u001b[0mclf\u001b[0m\u001b[0;34m.\u001b[0m\u001b[0mpredict\u001b[0m\u001b[0;34m(\u001b[0m\u001b[0mX_test\u001b[0m\u001b[0;34m)\u001b[0m\u001b[0;34m\u001b[0m\u001b[0;34m\u001b[0m\u001b[0m\n\u001b[1;32m      6\u001b[0m \u001b[0mprint\u001b[0m\u001b[0;34m(\u001b[0m\u001b[0maccuracy_score\u001b[0m\u001b[0;34m(\u001b[0m\u001b[0my_test\u001b[0m\u001b[0;34m,\u001b[0m \u001b[0mpred\u001b[0m\u001b[0;34m)\u001b[0m\u001b[0;34m)\u001b[0m\u001b[0;34m\u001b[0m\u001b[0;34m\u001b[0m\u001b[0m\n",
            "\u001b[0;32m/usr/local/lib/python3.6/dist-packages/sklearn/naive_bayes.py\u001b[0m in \u001b[0;36mfit\u001b[0;34m(self, X, y, sample_weight)\u001b[0m\n\u001b[1;32m    607\u001b[0m         \u001b[0mself\u001b[0m \u001b[0;34m:\u001b[0m \u001b[0mobject\u001b[0m\u001b[0;34m\u001b[0m\u001b[0;34m\u001b[0m\u001b[0m\n\u001b[1;32m    608\u001b[0m         \"\"\"\n\u001b[0;32m--> 609\u001b[0;31m         \u001b[0mX\u001b[0m\u001b[0;34m,\u001b[0m \u001b[0my\u001b[0m \u001b[0;34m=\u001b[0m \u001b[0mself\u001b[0m\u001b[0;34m.\u001b[0m\u001b[0m_check_X_y\u001b[0m\u001b[0;34m(\u001b[0m\u001b[0mX\u001b[0m\u001b[0;34m,\u001b[0m \u001b[0my\u001b[0m\u001b[0;34m)\u001b[0m\u001b[0;34m\u001b[0m\u001b[0;34m\u001b[0m\u001b[0m\n\u001b[0m\u001b[1;32m    610\u001b[0m         \u001b[0m_\u001b[0m\u001b[0;34m,\u001b[0m \u001b[0mn_features\u001b[0m \u001b[0;34m=\u001b[0m \u001b[0mX\u001b[0m\u001b[0;34m.\u001b[0m\u001b[0mshape\u001b[0m\u001b[0;34m\u001b[0m\u001b[0;34m\u001b[0m\u001b[0m\n\u001b[1;32m    611\u001b[0m         \u001b[0mself\u001b[0m\u001b[0;34m.\u001b[0m\u001b[0mn_features_\u001b[0m \u001b[0;34m=\u001b[0m \u001b[0mn_features\u001b[0m\u001b[0;34m\u001b[0m\u001b[0;34m\u001b[0m\u001b[0m\n",
            "\u001b[0;32m/usr/local/lib/python3.6/dist-packages/sklearn/naive_bayes.py\u001b[0m in \u001b[0;36m_check_X_y\u001b[0;34m(self, X, y)\u001b[0m\n\u001b[1;32m    975\u001b[0m \u001b[0;34m\u001b[0m\u001b[0m\n\u001b[1;32m    976\u001b[0m     \u001b[0;32mdef\u001b[0m \u001b[0m_check_X_y\u001b[0m\u001b[0;34m(\u001b[0m\u001b[0mself\u001b[0m\u001b[0;34m,\u001b[0m \u001b[0mX\u001b[0m\u001b[0;34m,\u001b[0m \u001b[0my\u001b[0m\u001b[0;34m)\u001b[0m\u001b[0;34m:\u001b[0m\u001b[0;34m\u001b[0m\u001b[0;34m\u001b[0m\u001b[0m\n\u001b[0;32m--> 977\u001b[0;31m         \u001b[0mX\u001b[0m\u001b[0;34m,\u001b[0m \u001b[0my\u001b[0m \u001b[0;34m=\u001b[0m \u001b[0msuper\u001b[0m\u001b[0;34m(\u001b[0m\u001b[0;34m)\u001b[0m\u001b[0;34m.\u001b[0m\u001b[0m_check_X_y\u001b[0m\u001b[0;34m(\u001b[0m\u001b[0mX\u001b[0m\u001b[0;34m,\u001b[0m \u001b[0my\u001b[0m\u001b[0;34m)\u001b[0m\u001b[0;34m\u001b[0m\u001b[0;34m\u001b[0m\u001b[0m\n\u001b[0m\u001b[1;32m    978\u001b[0m         \u001b[0;32mif\u001b[0m \u001b[0mself\u001b[0m\u001b[0;34m.\u001b[0m\u001b[0mbinarize\u001b[0m \u001b[0;32mis\u001b[0m \u001b[0;32mnot\u001b[0m \u001b[0;32mNone\u001b[0m\u001b[0;34m:\u001b[0m\u001b[0;34m\u001b[0m\u001b[0;34m\u001b[0m\u001b[0m\n\u001b[1;32m    979\u001b[0m             \u001b[0mX\u001b[0m \u001b[0;34m=\u001b[0m \u001b[0mbinarize\u001b[0m\u001b[0;34m(\u001b[0m\u001b[0mX\u001b[0m\u001b[0;34m,\u001b[0m \u001b[0mthreshold\u001b[0m\u001b[0;34m=\u001b[0m\u001b[0mself\u001b[0m\u001b[0;34m.\u001b[0m\u001b[0mbinarize\u001b[0m\u001b[0;34m)\u001b[0m\u001b[0;34m\u001b[0m\u001b[0;34m\u001b[0m\u001b[0m\n",
            "\u001b[0;32m/usr/local/lib/python3.6/dist-packages/sklearn/naive_bayes.py\u001b[0m in \u001b[0;36m_check_X_y\u001b[0;34m(self, X, y)\u001b[0m\n\u001b[1;32m    473\u001b[0m \u001b[0;34m\u001b[0m\u001b[0m\n\u001b[1;32m    474\u001b[0m     \u001b[0;32mdef\u001b[0m \u001b[0m_check_X_y\u001b[0m\u001b[0;34m(\u001b[0m\u001b[0mself\u001b[0m\u001b[0;34m,\u001b[0m \u001b[0mX\u001b[0m\u001b[0;34m,\u001b[0m \u001b[0my\u001b[0m\u001b[0;34m)\u001b[0m\u001b[0;34m:\u001b[0m\u001b[0;34m\u001b[0m\u001b[0;34m\u001b[0m\u001b[0m\n\u001b[0;32m--> 475\u001b[0;31m         \u001b[0;32mreturn\u001b[0m \u001b[0mcheck_X_y\u001b[0m\u001b[0;34m(\u001b[0m\u001b[0mX\u001b[0m\u001b[0;34m,\u001b[0m \u001b[0my\u001b[0m\u001b[0;34m,\u001b[0m \u001b[0maccept_sparse\u001b[0m\u001b[0;34m=\u001b[0m\u001b[0;34m'csr'\u001b[0m\u001b[0;34m)\u001b[0m\u001b[0;34m\u001b[0m\u001b[0;34m\u001b[0m\u001b[0m\n\u001b[0m\u001b[1;32m    476\u001b[0m \u001b[0;34m\u001b[0m\u001b[0m\n\u001b[1;32m    477\u001b[0m     \u001b[0;32mdef\u001b[0m \u001b[0m_update_class_log_prior\u001b[0m\u001b[0;34m(\u001b[0m\u001b[0mself\u001b[0m\u001b[0;34m,\u001b[0m \u001b[0mclass_prior\u001b[0m\u001b[0;34m=\u001b[0m\u001b[0;32mNone\u001b[0m\u001b[0;34m)\u001b[0m\u001b[0;34m:\u001b[0m\u001b[0;34m\u001b[0m\u001b[0;34m\u001b[0m\u001b[0m\n",
            "\u001b[0;32m/usr/local/lib/python3.6/dist-packages/sklearn/utils/validation.py\u001b[0m in \u001b[0;36mcheck_X_y\u001b[0;34m(X, y, accept_sparse, accept_large_sparse, dtype, order, copy, force_all_finite, ensure_2d, allow_nd, multi_output, ensure_min_samples, ensure_min_features, y_numeric, warn_on_dtype, estimator)\u001b[0m\n\u001b[1;32m    753\u001b[0m                     \u001b[0mensure_min_features\u001b[0m\u001b[0;34m=\u001b[0m\u001b[0mensure_min_features\u001b[0m\u001b[0;34m,\u001b[0m\u001b[0;34m\u001b[0m\u001b[0;34m\u001b[0m\u001b[0m\n\u001b[1;32m    754\u001b[0m                     \u001b[0mwarn_on_dtype\u001b[0m\u001b[0;34m=\u001b[0m\u001b[0mwarn_on_dtype\u001b[0m\u001b[0;34m,\u001b[0m\u001b[0;34m\u001b[0m\u001b[0;34m\u001b[0m\u001b[0m\n\u001b[0;32m--> 755\u001b[0;31m                     estimator=estimator)\n\u001b[0m\u001b[1;32m    756\u001b[0m     \u001b[0;32mif\u001b[0m \u001b[0mmulti_output\u001b[0m\u001b[0;34m:\u001b[0m\u001b[0;34m\u001b[0m\u001b[0;34m\u001b[0m\u001b[0m\n\u001b[1;32m    757\u001b[0m         y = check_array(y, 'csr', force_all_finite=True, ensure_2d=False,\n",
            "\u001b[0;32m/usr/local/lib/python3.6/dist-packages/sklearn/utils/validation.py\u001b[0m in \u001b[0;36mcheck_array\u001b[0;34m(array, accept_sparse, accept_large_sparse, dtype, order, copy, force_all_finite, ensure_2d, allow_nd, ensure_min_samples, ensure_min_features, warn_on_dtype, estimator)\u001b[0m\n\u001b[1;32m    576\u001b[0m         \u001b[0;32mif\u001b[0m \u001b[0mforce_all_finite\u001b[0m\u001b[0;34m:\u001b[0m\u001b[0;34m\u001b[0m\u001b[0;34m\u001b[0m\u001b[0m\n\u001b[1;32m    577\u001b[0m             _assert_all_finite(array,\n\u001b[0;32m--> 578\u001b[0;31m                                allow_nan=force_all_finite == 'allow-nan')\n\u001b[0m\u001b[1;32m    579\u001b[0m \u001b[0;34m\u001b[0m\u001b[0m\n\u001b[1;32m    580\u001b[0m     \u001b[0;32mif\u001b[0m \u001b[0mensure_min_samples\u001b[0m \u001b[0;34m>\u001b[0m \u001b[0;36m0\u001b[0m\u001b[0;34m:\u001b[0m\u001b[0;34m\u001b[0m\u001b[0;34m\u001b[0m\u001b[0m\n",
            "\u001b[0;32m/usr/local/lib/python3.6/dist-packages/sklearn/utils/validation.py\u001b[0m in \u001b[0;36m_assert_all_finite\u001b[0;34m(X, allow_nan, msg_dtype)\u001b[0m\n\u001b[1;32m     58\u001b[0m                     \u001b[0mmsg_err\u001b[0m\u001b[0;34m.\u001b[0m\u001b[0mformat\u001b[0m\u001b[0;34m\u001b[0m\u001b[0;34m\u001b[0m\u001b[0m\n\u001b[1;32m     59\u001b[0m                     (type_err,\n\u001b[0;32m---> 60\u001b[0;31m                      msg_dtype if msg_dtype is not None else X.dtype)\n\u001b[0m\u001b[1;32m     61\u001b[0m             )\n\u001b[1;32m     62\u001b[0m     \u001b[0;31m# for object dtype data, we only check for NaNs (GH-13254)\u001b[0m\u001b[0;34m\u001b[0m\u001b[0;34m\u001b[0m\u001b[0;34m\u001b[0m\u001b[0m\n",
            "\u001b[0;31mValueError\u001b[0m: Input contains NaN, infinity or a value too large for dtype('float64')."
          ]
        }
      ]
    },
    {
      "cell_type": "code",
      "metadata": {
        "colab": {
          "base_uri": "https://localhost:8080/"
        },
        "id": "HrpR0OiaNAyh",
        "outputId": "cd4dc625-8ef5-4053-d8f4-e682add946bd"
      },
      "source": [
        "X_train"
      ],
      "execution_count": 57,
      "outputs": [
        {
          "output_type": "execute_result",
          "data": {
            "text/plain": [
              "array([[-0.10401875,  0.25111988,  0.04213745, ..., -0.03960598,\n",
              "        -0.12222125,  0.01296369],\n",
              "       [-0.22905499,  0.28033275,  0.23902727, ..., -0.02308249,\n",
              "        -0.035561  , -0.25083675],\n",
              "       [-0.07622183,  0.086603  , -0.33500833, ...,  0.12186667,\n",
              "        -0.15733017, -0.02880683],\n",
              "       ...,\n",
              "       [-0.2738608 , -0.00059899, -0.1437912 , ..., -0.029395  ,\n",
              "        -0.2170958 ,  0.0027705 ],\n",
              "       [-0.1678796 ,  0.08483297,  0.11993981, ..., -0.2295921 ,\n",
              "        -0.01980518, -0.01407855],\n",
              "       [-0.366693  ,  0.17339091, -0.0419679 , ..., -0.0682719 ,\n",
              "        -0.2869566 ,  0.064745  ]])"
            ]
          },
          "metadata": {
            "tags": []
          },
          "execution_count": 57
        }
      ]
    },
    {
      "cell_type": "code",
      "metadata": {
        "id": "9V4uaXdYE11h"
      },
      "source": [
        ""
      ],
      "execution_count": null,
      "outputs": []
    }
  ]
}