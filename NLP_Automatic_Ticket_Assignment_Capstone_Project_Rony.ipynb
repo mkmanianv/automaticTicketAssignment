{
 "cells": [
  {
   "cell_type": "markdown",
   "metadata": {},
   "source": [
    "# Data Description & Context:\n",
    "\n",
    "\n",
    "In the support process, incoming incidents are analyzed and assessed by organization’s support teams to fulfill the request. In many organizations, better allocation and effective usage of the valuable support resources will directly result in substantial cost savings.\n",
    "\n",
    "Currently the incidents are created by various stakeholders (Business Users, IT Users and Monitoring Tools) within IT Service Management Tool and are assigned to Service Desk teams (L1 / L2 teams). This team will review the incidents for right ticket categorization, priorities and then carry out initial diagnosis to see if they can resolve. Around ~54% of the incidents are resolved by L1 / L2 teams. Incase L1 / L2 is unable to resolve, they will then escalate / assign the tickets to Functional teams from Applications and Infrastructure (L3 teams). Some portions of incidents are directly assigned to L3 teams by either Monitoring tools or Callers / Requestors. L3 teams will carry out detailed diagnosis and resolve the incidents. Around ~56% of incidents are resolved by Functional / L3 teams. Incase if vendor support is needed, they will reach out for their support towards incident closure. L1 / L2 needs to spend time reviewing Standard Operating Procedures (SOPs) before assigning to Functional teams (Minimum ~25-30% of incidents needs to be reviewed for SOPs before ticket assignment). 15 min is being spent for SOP review for each incident. Minimum of ~1 FTE effort needed only for incident assignment to L3 teams.\n",
    "\n",
    "During the process of incident assignments by L1 / L2 teams to functional groups, there were multiple instances of incidents getting assigned to wrong functional groups. Around ~25% of Incidents are wrongly assigned to functional teams. Additional effort needed for Functional teams to re-assign to right functional groups. During this process, some of the incidents are in queue and not addressed timely resulting in poor customer service. Guided by powerful AI techniques that can classify incidents to right functional groups can help organizations to reduce the resolving time of the issue and can focus on more productive tasks.\n"
   ]
  },
  {
   "cell_type": "markdown",
   "metadata": {
    "colab_type": "text",
    "id": "Su5ez-LTyt32"
   },
   "source": [
    "# Domain:\n",
    "\n",
    "Information Technology"
   ]
  },
  {
   "cell_type": "markdown",
   "metadata": {},
   "source": [
    "# Project Description\n",
    "\n",
    "In this capstone project, the goal is to build a classifier that can classify the tickets by analyzing text."
   ]
  },
  {
   "cell_type": "markdown",
   "metadata": {},
   "source": [
    "# Project Objectives\n",
    "\n",
    "The objective of the project is,\n",
    "- Learn how to use different classification models.\n",
    "- Use transfer learning to use pre-built models.\n",
    "- Learn to set the optimizers, loss functions, epochs, learning rate, batch size, checkpointing, early stopping etc.\n",
    "- Read different research papers of given domain to obtain the knowledge of advanced models for the given problem."
   ]
  },
  {
   "cell_type": "code",
   "execution_count": 1,
   "metadata": {
    "colab": {},
    "colab_type": "code",
    "id": "DktzuhC_yt39"
   },
   "outputs": [],
   "source": [
    "%matplotlib inline\n",
    "\n",
    "import numpy as np\n",
    "import pandas as pd\n",
    "import seaborn as sns\n",
    "import matplotlib.pyplot as plt\n",
    "\n",
    "import warnings\n",
    "warnings.filterwarnings(\"ignore\")\n",
    "\n",
    "\n",
    "sns.set_style(style='darkgrid')"
   ]
  },
  {
   "cell_type": "code",
   "execution_count": 2,
   "metadata": {},
   "outputs": [
    {
     "name": "stdout",
     "output_type": "stream",
     "text": [
      "C:\\Users\\Rony\\AIML\\13_Capstone Project AIML\\NLP - Project 1\n"
     ]
    }
   ],
   "source": [
    "!cd"
   ]
  },
  {
   "cell_type": "code",
   "execution_count": 3,
   "metadata": {
    "colab": {
     "base_uri": "https://localhost:8080/",
     "height": 217
    },
    "colab_type": "code",
    "executionInfo": {
     "elapsed": 2646,
     "status": "ok",
     "timestamp": 1572427401275,
     "user": {
      "displayName": "Prithviraj Decca",
      "photoUrl": "",
      "userId": "07075188377691057089"
     },
     "user_tz": -330
    },
    "id": "PyKwnn-zyt4G",
    "outputId": "53335609-7a98-4f47-ab8a-2e90eb032b08"
   },
   "outputs": [
    {
     "data": {
      "text/html": [
       "<div>\n",
       "<style scoped>\n",
       "    .dataframe tbody tr th:only-of-type {\n",
       "        vertical-align: middle;\n",
       "    }\n",
       "\n",
       "    .dataframe tbody tr th {\n",
       "        vertical-align: top;\n",
       "    }\n",
       "\n",
       "    .dataframe thead th {\n",
       "        text-align: right;\n",
       "    }\n",
       "</style>\n",
       "<table border=\"1\" class=\"dataframe\">\n",
       "  <thead>\n",
       "    <tr style=\"text-align: right;\">\n",
       "      <th></th>\n",
       "      <th>Short description</th>\n",
       "      <th>Description</th>\n",
       "      <th>Caller</th>\n",
       "      <th>Assignment group</th>\n",
       "    </tr>\n",
       "  </thead>\n",
       "  <tbody>\n",
       "    <tr>\n",
       "      <td>0</td>\n",
       "      <td>login issue</td>\n",
       "      <td>-verified user details.(employee# &amp; manager na...</td>\n",
       "      <td>spxjnwir pjlcoqds</td>\n",
       "      <td>GRP_0</td>\n",
       "    </tr>\n",
       "    <tr>\n",
       "      <td>1</td>\n",
       "      <td>outlook</td>\n",
       "      <td>\\r\\n\\r\\nreceived from: hmjdrvpb.komuaywn@gmail...</td>\n",
       "      <td>hmjdrvpb komuaywn</td>\n",
       "      <td>GRP_0</td>\n",
       "    </tr>\n",
       "    <tr>\n",
       "      <td>2</td>\n",
       "      <td>cant log in to vpn</td>\n",
       "      <td>\\r\\n\\r\\nreceived from: eylqgodm.ybqkwiam@gmail...</td>\n",
       "      <td>eylqgodm ybqkwiam</td>\n",
       "      <td>GRP_0</td>\n",
       "    </tr>\n",
       "    <tr>\n",
       "      <td>3</td>\n",
       "      <td>unable to access hr_tool page</td>\n",
       "      <td>unable to access hr_tool page</td>\n",
       "      <td>xbkucsvz gcpydteq</td>\n",
       "      <td>GRP_0</td>\n",
       "    </tr>\n",
       "    <tr>\n",
       "      <td>4</td>\n",
       "      <td>skype error</td>\n",
       "      <td>skype error</td>\n",
       "      <td>owlgqjme qhcozdfx</td>\n",
       "      <td>GRP_0</td>\n",
       "    </tr>\n",
       "  </tbody>\n",
       "</table>\n",
       "</div>"
      ],
      "text/plain": [
       "               Short description  \\\n",
       "0                    login issue   \n",
       "1                        outlook   \n",
       "2             cant log in to vpn   \n",
       "3  unable to access hr_tool page   \n",
       "4                   skype error    \n",
       "\n",
       "                                         Description             Caller  \\\n",
       "0  -verified user details.(employee# & manager na...  spxjnwir pjlcoqds   \n",
       "1  \\r\\n\\r\\nreceived from: hmjdrvpb.komuaywn@gmail...  hmjdrvpb komuaywn   \n",
       "2  \\r\\n\\r\\nreceived from: eylqgodm.ybqkwiam@gmail...  eylqgodm ybqkwiam   \n",
       "3                      unable to access hr_tool page  xbkucsvz gcpydteq   \n",
       "4                                       skype error   owlgqjme qhcozdfx   \n",
       "\n",
       "  Assignment group  \n",
       "0            GRP_0  \n",
       "1            GRP_0  \n",
       "2            GRP_0  \n",
       "3            GRP_0  \n",
       "4            GRP_0  "
      ]
     },
     "execution_count": 3,
     "metadata": {},
     "output_type": "execute_result"
    }
   ],
   "source": [
    "df = pd.read_excel('input_data.xlsx', sheet_name=0)\n",
    "df.head()"
   ]
  },
  {
   "cell_type": "markdown",
   "metadata": {},
   "source": [
    "# Basic EDA"
   ]
  },
  {
   "cell_type": "code",
   "execution_count": 4,
   "metadata": {
    "colab": {
     "base_uri": "https://localhost:8080/",
     "height": 532
    },
    "colab_type": "code",
    "executionInfo": {
     "elapsed": 2626,
     "status": "ok",
     "timestamp": 1572427401277,
     "user": {
      "displayName": "Prithviraj Decca",
      "photoUrl": "",
      "userId": "07075188377691057089"
     },
     "user_tz": -330
    },
    "id": "jcP5Vozdyt4L",
    "outputId": "daa9772c-7aad-4d1a-85be-01817e198844"
   },
   "outputs": [
    {
     "name": "stdout",
     "output_type": "stream",
     "text": [
      "<class 'pandas.core.frame.DataFrame'>\n",
      "RangeIndex: 8500 entries, 0 to 8499\n",
      "Data columns (total 4 columns):\n",
      "Short description    8492 non-null object\n",
      "Description          8499 non-null object\n",
      "Caller               8500 non-null object\n",
      "Assignment group     8500 non-null object\n",
      "dtypes: object(4)\n",
      "memory usage: 265.8+ KB\n"
     ]
    }
   ],
   "source": [
    "# Find the shape of the data, data type of individual columns\n",
    "df.info()  #info about the data"
   ]
  },
  {
   "cell_type": "code",
   "execution_count": 5,
   "metadata": {},
   "outputs": [
    {
     "data": {
      "text/plain": [
       "True"
      ]
     },
     "execution_count": 5,
     "metadata": {},
     "output_type": "execute_result"
    }
   ],
   "source": [
    "# Checking the presence of missing values\n",
    "df.isnull().values.any()"
   ]
  },
  {
   "cell_type": "code",
   "execution_count": 6,
   "metadata": {},
   "outputs": [
    {
     "data": {
      "text/html": [
       "<div>\n",
       "<style scoped>\n",
       "    .dataframe tbody tr th:only-of-type {\n",
       "        vertical-align: middle;\n",
       "    }\n",
       "\n",
       "    .dataframe tbody tr th {\n",
       "        vertical-align: top;\n",
       "    }\n",
       "\n",
       "    .dataframe thead th {\n",
       "        text-align: right;\n",
       "    }\n",
       "</style>\n",
       "<table border=\"1\" class=\"dataframe\">\n",
       "  <thead>\n",
       "    <tr style=\"text-align: right;\">\n",
       "      <th></th>\n",
       "      <th>Short description</th>\n",
       "      <th>Description</th>\n",
       "      <th>Caller</th>\n",
       "      <th>Assignment group</th>\n",
       "    </tr>\n",
       "  </thead>\n",
       "  <tbody>\n",
       "    <tr>\n",
       "      <td>False</td>\n",
       "      <td>8492</td>\n",
       "      <td>8499</td>\n",
       "      <td>8500.0</td>\n",
       "      <td>8500.0</td>\n",
       "    </tr>\n",
       "    <tr>\n",
       "      <td>True</td>\n",
       "      <td>8</td>\n",
       "      <td>1</td>\n",
       "      <td>NaN</td>\n",
       "      <td>NaN</td>\n",
       "    </tr>\n",
       "  </tbody>\n",
       "</table>\n",
       "</div>"
      ],
      "text/plain": [
       "       Short description  Description  Caller  Assignment group\n",
       "False               8492         8499  8500.0            8500.0\n",
       "True                   8            1     NaN               NaN"
      ]
     },
     "execution_count": 6,
     "metadata": {},
     "output_type": "execute_result"
    }
   ],
   "source": [
    "df.isna().apply(pd.value_counts)   #null value check "
   ]
  },
  {
   "cell_type": "code",
   "execution_count": 7,
   "metadata": {},
   "outputs": [
    {
     "data": {
      "text/plain": [
       "9"
      ]
     },
     "execution_count": 7,
     "metadata": {},
     "output_type": "execute_result"
    }
   ],
   "source": [
    "# Total number of missing values\n",
    "df.isnull().sum().sum()"
   ]
  },
  {
   "cell_type": "markdown",
   "metadata": {
    "colab_type": "text",
    "id": "qh882adCyt4P"
   },
   "source": [
    "- There are 4 columns in total\n",
    "    - One target column - 'Assignment group'\n",
    "    - None of the columns have numeric values\n",
    "    - 3 predictor variables\n",
    "- There are no null values for the columns 'Caller' and 'Assignment group'"
   ]
  },
  {
   "cell_type": "code",
   "execution_count": 8,
   "metadata": {},
   "outputs": [
    {
     "data": {
      "text/html": [
       "<div>\n",
       "<style scoped>\n",
       "    .dataframe tbody tr th:only-of-type {\n",
       "        vertical-align: middle;\n",
       "    }\n",
       "\n",
       "    .dataframe tbody tr th {\n",
       "        vertical-align: top;\n",
       "    }\n",
       "\n",
       "    .dataframe thead th {\n",
       "        text-align: right;\n",
       "    }\n",
       "</style>\n",
       "<table border=\"1\" class=\"dataframe\">\n",
       "  <thead>\n",
       "    <tr style=\"text-align: right;\">\n",
       "      <th></th>\n",
       "      <th>count</th>\n",
       "      <th>unique</th>\n",
       "      <th>top</th>\n",
       "      <th>freq</th>\n",
       "    </tr>\n",
       "  </thead>\n",
       "  <tbody>\n",
       "    <tr>\n",
       "      <td>Short description</td>\n",
       "      <td>8492</td>\n",
       "      <td>7481</td>\n",
       "      <td>password reset</td>\n",
       "      <td>38</td>\n",
       "    </tr>\n",
       "    <tr>\n",
       "      <td>Description</td>\n",
       "      <td>8499</td>\n",
       "      <td>7817</td>\n",
       "      <td>the</td>\n",
       "      <td>56</td>\n",
       "    </tr>\n",
       "    <tr>\n",
       "      <td>Caller</td>\n",
       "      <td>8500</td>\n",
       "      <td>2950</td>\n",
       "      <td>bpctwhsn kzqsbmtp</td>\n",
       "      <td>810</td>\n",
       "    </tr>\n",
       "    <tr>\n",
       "      <td>Assignment group</td>\n",
       "      <td>8500</td>\n",
       "      <td>74</td>\n",
       "      <td>GRP_0</td>\n",
       "      <td>3976</td>\n",
       "    </tr>\n",
       "  </tbody>\n",
       "</table>\n",
       "</div>"
      ],
      "text/plain": [
       "                  count unique                top  freq\n",
       "Short description  8492   7481     password reset    38\n",
       "Description        8499   7817                the    56\n",
       "Caller             8500   2950  bpctwhsn kzqsbmtp   810\n",
       "Assignment group   8500     74              GRP_0  3976"
      ]
     },
     "execution_count": 8,
     "metadata": {},
     "output_type": "execute_result"
    }
   ],
   "source": [
    "# Provides information like total count, unique count, value which occurs most often, maximum frequency of occurance\n",
    "df.describe().T"
   ]
  },
  {
   "cell_type": "code",
   "execution_count": 9,
   "metadata": {},
   "outputs": [],
   "source": [
    "df.drop(['Caller'], axis = 1, inplace=True)"
   ]
  },
  {
   "cell_type": "code",
   "execution_count": 10,
   "metadata": {},
   "outputs": [
    {
     "data": {
      "text/html": [
       "<div>\n",
       "<style scoped>\n",
       "    .dataframe tbody tr th:only-of-type {\n",
       "        vertical-align: middle;\n",
       "    }\n",
       "\n",
       "    .dataframe tbody tr th {\n",
       "        vertical-align: top;\n",
       "    }\n",
       "\n",
       "    .dataframe thead th {\n",
       "        text-align: right;\n",
       "    }\n",
       "</style>\n",
       "<table border=\"1\" class=\"dataframe\">\n",
       "  <thead>\n",
       "    <tr style=\"text-align: right;\">\n",
       "      <th></th>\n",
       "      <th>Short description</th>\n",
       "      <th>Description</th>\n",
       "      <th>Assignment group</th>\n",
       "    </tr>\n",
       "  </thead>\n",
       "  <tbody>\n",
       "    <tr>\n",
       "      <td>0</td>\n",
       "      <td>login issue</td>\n",
       "      <td>-verified user details.(employee# &amp; manager na...</td>\n",
       "      <td>GRP_0</td>\n",
       "    </tr>\n",
       "    <tr>\n",
       "      <td>1</td>\n",
       "      <td>outlook</td>\n",
       "      <td>\\r\\n\\r\\nreceived from: hmjdrvpb.komuaywn@gmail...</td>\n",
       "      <td>GRP_0</td>\n",
       "    </tr>\n",
       "    <tr>\n",
       "      <td>2</td>\n",
       "      <td>cant log in to vpn</td>\n",
       "      <td>\\r\\n\\r\\nreceived from: eylqgodm.ybqkwiam@gmail...</td>\n",
       "      <td>GRP_0</td>\n",
       "    </tr>\n",
       "    <tr>\n",
       "      <td>3</td>\n",
       "      <td>unable to access hr_tool page</td>\n",
       "      <td>unable to access hr_tool page</td>\n",
       "      <td>GRP_0</td>\n",
       "    </tr>\n",
       "    <tr>\n",
       "      <td>4</td>\n",
       "      <td>skype error</td>\n",
       "      <td>skype error</td>\n",
       "      <td>GRP_0</td>\n",
       "    </tr>\n",
       "    <tr>\n",
       "      <td>...</td>\n",
       "      <td>...</td>\n",
       "      <td>...</td>\n",
       "      <td>...</td>\n",
       "    </tr>\n",
       "    <tr>\n",
       "      <td>8495</td>\n",
       "      <td>emails not coming in from zz mail</td>\n",
       "      <td>\\r\\n\\r\\nreceived from: avglmrts.vhqmtiua@gmail...</td>\n",
       "      <td>GRP_29</td>\n",
       "    </tr>\n",
       "    <tr>\n",
       "      <td>8496</td>\n",
       "      <td>telephony_software issue</td>\n",
       "      <td>telephony_software issue</td>\n",
       "      <td>GRP_0</td>\n",
       "    </tr>\n",
       "    <tr>\n",
       "      <td>8497</td>\n",
       "      <td>vip2: windows password reset for tifpdchb pedx...</td>\n",
       "      <td>vip2: windows password reset for tifpdchb pedx...</td>\n",
       "      <td>GRP_0</td>\n",
       "    </tr>\n",
       "    <tr>\n",
       "      <td>8498</td>\n",
       "      <td>machine nÃ£o estÃ¡ funcionando</td>\n",
       "      <td>i am unable to access the machine utilities to...</td>\n",
       "      <td>GRP_62</td>\n",
       "    </tr>\n",
       "    <tr>\n",
       "      <td>8499</td>\n",
       "      <td>an mehreren pc`s lassen sich verschiedene prgr...</td>\n",
       "      <td>an mehreren pc`s lassen sich verschiedene prgr...</td>\n",
       "      <td>GRP_49</td>\n",
       "    </tr>\n",
       "  </tbody>\n",
       "</table>\n",
       "<p>8500 rows × 3 columns</p>\n",
       "</div>"
      ],
      "text/plain": [
       "                                      Short description  \\\n",
       "0                                           login issue   \n",
       "1                                               outlook   \n",
       "2                                    cant log in to vpn   \n",
       "3                         unable to access hr_tool page   \n",
       "4                                          skype error    \n",
       "...                                                 ...   \n",
       "8495                  emails not coming in from zz mail   \n",
       "8496                           telephony_software issue   \n",
       "8497  vip2: windows password reset for tifpdchb pedx...   \n",
       "8498                     machine nÃ£o estÃ¡ funcionando   \n",
       "8499  an mehreren pc`s lassen sich verschiedene prgr...   \n",
       "\n",
       "                                            Description Assignment group  \n",
       "0     -verified user details.(employee# & manager na...            GRP_0  \n",
       "1     \\r\\n\\r\\nreceived from: hmjdrvpb.komuaywn@gmail...            GRP_0  \n",
       "2     \\r\\n\\r\\nreceived from: eylqgodm.ybqkwiam@gmail...            GRP_0  \n",
       "3                         unable to access hr_tool page            GRP_0  \n",
       "4                                          skype error             GRP_0  \n",
       "...                                                 ...              ...  \n",
       "8495  \\r\\n\\r\\nreceived from: avglmrts.vhqmtiua@gmail...           GRP_29  \n",
       "8496                           telephony_software issue            GRP_0  \n",
       "8497  vip2: windows password reset for tifpdchb pedx...            GRP_0  \n",
       "8498  i am unable to access the machine utilities to...           GRP_62  \n",
       "8499  an mehreren pc`s lassen sich verschiedene prgr...           GRP_49  \n",
       "\n",
       "[8500 rows x 3 columns]"
      ]
     },
     "execution_count": 10,
     "metadata": {},
     "output_type": "execute_result"
    }
   ],
   "source": [
    "df"
   ]
  },
  {
   "cell_type": "markdown",
   "metadata": {},
   "source": [
    "### Find and remove exact duplicates"
   ]
  },
  {
   "cell_type": "code",
   "execution_count": 11,
   "metadata": {},
   "outputs": [
    {
     "name": "stdout",
     "output_type": "stream",
     "text": [
      "Duplicate Rows except first occurrence based on all columns are :\n"
     ]
    },
    {
     "data": {
      "text/html": [
       "<div>\n",
       "<style scoped>\n",
       "    .dataframe tbody tr th:only-of-type {\n",
       "        vertical-align: middle;\n",
       "    }\n",
       "\n",
       "    .dataframe tbody tr th {\n",
       "        vertical-align: top;\n",
       "    }\n",
       "\n",
       "    .dataframe thead th {\n",
       "        text-align: right;\n",
       "    }\n",
       "</style>\n",
       "<table border=\"1\" class=\"dataframe\">\n",
       "  <thead>\n",
       "    <tr style=\"text-align: right;\">\n",
       "      <th></th>\n",
       "      <th>Short description</th>\n",
       "      <th>Description</th>\n",
       "      <th>Assignment group</th>\n",
       "    </tr>\n",
       "  </thead>\n",
       "  <tbody>\n",
       "    <tr>\n",
       "      <td>51</td>\n",
       "      <td>call for ecwtrjnq jpecxuty</td>\n",
       "      <td>call for ecwtrjnq jpecxuty</td>\n",
       "      <td>GRP_0</td>\n",
       "    </tr>\n",
       "    <tr>\n",
       "      <td>81</td>\n",
       "      <td>erp SID_34 account locked</td>\n",
       "      <td>erp SID_34 account locked</td>\n",
       "      <td>GRP_0</td>\n",
       "    </tr>\n",
       "    <tr>\n",
       "      <td>123</td>\n",
       "      <td>unable to display expense report</td>\n",
       "      <td>unable to display expense report</td>\n",
       "      <td>GRP_0</td>\n",
       "    </tr>\n",
       "    <tr>\n",
       "      <td>157</td>\n",
       "      <td>ess password reset</td>\n",
       "      <td>ess password reset</td>\n",
       "      <td>GRP_0</td>\n",
       "    </tr>\n",
       "    <tr>\n",
       "      <td>229</td>\n",
       "      <td>call for ecwtrjnq jpecxuty</td>\n",
       "      <td>call for ecwtrjnq jpecxuty</td>\n",
       "      <td>GRP_0</td>\n",
       "    </tr>\n",
       "    <tr>\n",
       "      <td>...</td>\n",
       "      <td>...</td>\n",
       "      <td>...</td>\n",
       "      <td>...</td>\n",
       "    </tr>\n",
       "    <tr>\n",
       "      <td>8424</td>\n",
       "      <td>windows account lockout</td>\n",
       "      <td>windows account lockout</td>\n",
       "      <td>GRP_0</td>\n",
       "    </tr>\n",
       "    <tr>\n",
       "      <td>8450</td>\n",
       "      <td>unable to connect to wifi</td>\n",
       "      <td>unable to connect to wifi</td>\n",
       "      <td>GRP_0</td>\n",
       "    </tr>\n",
       "    <tr>\n",
       "      <td>8451</td>\n",
       "      <td>password reset erp SID_34</td>\n",
       "      <td>password reset erp SID_34</td>\n",
       "      <td>GRP_0</td>\n",
       "    </tr>\n",
       "    <tr>\n",
       "      <td>8458</td>\n",
       "      <td>windows account locked</td>\n",
       "      <td>windows account locked</td>\n",
       "      <td>GRP_0</td>\n",
       "    </tr>\n",
       "    <tr>\n",
       "      <td>8489</td>\n",
       "      <td>account locked</td>\n",
       "      <td>account locked</td>\n",
       "      <td>GRP_0</td>\n",
       "    </tr>\n",
       "  </tbody>\n",
       "</table>\n",
       "<p>591 rows × 3 columns</p>\n",
       "</div>"
      ],
      "text/plain": [
       "                     Short description                       Description  \\\n",
       "51          call for ecwtrjnq jpecxuty        call for ecwtrjnq jpecxuty   \n",
       "81           erp SID_34 account locked         erp SID_34 account locked   \n",
       "123   unable to display expense report  unable to display expense report   \n",
       "157                 ess password reset                ess password reset   \n",
       "229         call for ecwtrjnq jpecxuty        call for ecwtrjnq jpecxuty   \n",
       "...                                ...                               ...   \n",
       "8424           windows account lockout           windows account lockout   \n",
       "8450         unable to connect to wifi         unable to connect to wifi   \n",
       "8451         password reset erp SID_34         password reset erp SID_34   \n",
       "8458            windows account locked            windows account locked   \n",
       "8489                    account locked                    account locked   \n",
       "\n",
       "     Assignment group  \n",
       "51              GRP_0  \n",
       "81              GRP_0  \n",
       "123             GRP_0  \n",
       "157             GRP_0  \n",
       "229             GRP_0  \n",
       "...               ...  \n",
       "8424            GRP_0  \n",
       "8450            GRP_0  \n",
       "8451            GRP_0  \n",
       "8458            GRP_0  \n",
       "8489            GRP_0  \n",
       "\n",
       "[591 rows x 3 columns]"
      ]
     },
     "execution_count": 11,
     "metadata": {},
     "output_type": "execute_result"
    }
   ],
   "source": [
    "# Select duplicate rows except first occurrence based on all columns\n",
    "duplicateRowsDF = df[df.duplicated()]\n",
    "print(\"Duplicate Rows except first occurrence based on all columns are :\")\n",
    "duplicateRowsDF"
   ]
  },
  {
   "cell_type": "code",
   "execution_count": 12,
   "metadata": {},
   "outputs": [
    {
     "data": {
      "text/html": [
       "<div>\n",
       "<style scoped>\n",
       "    .dataframe tbody tr th:only-of-type {\n",
       "        vertical-align: middle;\n",
       "    }\n",
       "\n",
       "    .dataframe tbody tr th {\n",
       "        vertical-align: top;\n",
       "    }\n",
       "\n",
       "    .dataframe thead th {\n",
       "        text-align: right;\n",
       "    }\n",
       "</style>\n",
       "<table border=\"1\" class=\"dataframe\">\n",
       "  <thead>\n",
       "    <tr style=\"text-align: right;\">\n",
       "      <th></th>\n",
       "      <th>Short description</th>\n",
       "      <th>Description</th>\n",
       "      <th>Assignment group</th>\n",
       "    </tr>\n",
       "  </thead>\n",
       "  <tbody>\n",
       "    <tr>\n",
       "      <td>51</td>\n",
       "      <td>call for ecwtrjnq jpecxuty</td>\n",
       "      <td>call for ecwtrjnq jpecxuty</td>\n",
       "      <td>GRP_0</td>\n",
       "    </tr>\n",
       "    <tr>\n",
       "      <td>229</td>\n",
       "      <td>call for ecwtrjnq jpecxuty</td>\n",
       "      <td>call for ecwtrjnq jpecxuty</td>\n",
       "      <td>GRP_0</td>\n",
       "    </tr>\n",
       "    <tr>\n",
       "      <td>2714</td>\n",
       "      <td>call for ecwtrjnq jpecxuty</td>\n",
       "      <td>call for ecwtrjnq jpecxuty</td>\n",
       "      <td>GRP_0</td>\n",
       "    </tr>\n",
       "    <tr>\n",
       "      <td>3085</td>\n",
       "      <td>call for ecwtrjnq jpecxuty</td>\n",
       "      <td>call for ecwtrjnq jpecxuty</td>\n",
       "      <td>GRP_0</td>\n",
       "    </tr>\n",
       "    <tr>\n",
       "      <td>3219</td>\n",
       "      <td>call for ecwtrjnq jpecxuty</td>\n",
       "      <td>call for ecwtrjnq jpecxuty</td>\n",
       "      <td>GRP_0</td>\n",
       "    </tr>\n",
       "    <tr>\n",
       "      <td>4303</td>\n",
       "      <td>call for ecwtrjnq jpecxuty</td>\n",
       "      <td>call for ecwtrjnq jpecxuty</td>\n",
       "      <td>GRP_0</td>\n",
       "    </tr>\n",
       "  </tbody>\n",
       "</table>\n",
       "</div>"
      ],
      "text/plain": [
       "               Short description                 Description Assignment group\n",
       "51    call for ecwtrjnq jpecxuty  call for ecwtrjnq jpecxuty            GRP_0\n",
       "229   call for ecwtrjnq jpecxuty  call for ecwtrjnq jpecxuty            GRP_0\n",
       "2714  call for ecwtrjnq jpecxuty  call for ecwtrjnq jpecxuty            GRP_0\n",
       "3085  call for ecwtrjnq jpecxuty  call for ecwtrjnq jpecxuty            GRP_0\n",
       "3219  call for ecwtrjnq jpecxuty  call for ecwtrjnq jpecxuty            GRP_0\n",
       "4303  call for ecwtrjnq jpecxuty  call for ecwtrjnq jpecxuty            GRP_0"
      ]
     },
     "execution_count": 12,
     "metadata": {},
     "output_type": "execute_result"
    }
   ],
   "source": [
    "duplicateRowsDF[duplicateRowsDF['Short description'] == 'call for ecwtrjnq jpecxuty']"
   ]
  },
  {
   "cell_type": "code",
   "execution_count": 13,
   "metadata": {},
   "outputs": [
    {
     "data": {
      "text/plain": [
       "windows password reset                                              28\n",
       "password reset                                                      25\n",
       "account locked in ad                                                22\n",
       "windows account locked                                              22\n",
       "erp SID_34 account unlock                                           17\n",
       "                                                                    ..\n",
       "unable to login to skype                                             1\n",
       "cisco access point is not working.                                   1\n",
       "blank call // loud noise // gso                                      1\n",
       "job SID_38hotf failed in job_scheduler at: 09/01/2016 22:20:00       1\n",
       "unable to connect to company secure                                  1\n",
       "Name: Short description, Length: 166, dtype: int64"
      ]
     },
     "execution_count": 13,
     "metadata": {},
     "output_type": "execute_result"
    }
   ],
   "source": [
    "duplicateRowsDF['Short description'].value_counts()"
   ]
  },
  {
   "cell_type": "code",
   "execution_count": 14,
   "metadata": {},
   "outputs": [
    {
     "data": {
      "text/html": [
       "<div>\n",
       "<style scoped>\n",
       "    .dataframe tbody tr th:only-of-type {\n",
       "        vertical-align: middle;\n",
       "    }\n",
       "\n",
       "    .dataframe tbody tr th {\n",
       "        vertical-align: top;\n",
       "    }\n",
       "\n",
       "    .dataframe thead th {\n",
       "        text-align: right;\n",
       "    }\n",
       "</style>\n",
       "<table border=\"1\" class=\"dataframe\">\n",
       "  <thead>\n",
       "    <tr style=\"text-align: right;\">\n",
       "      <th></th>\n",
       "      <th>Short description</th>\n",
       "      <th>Description</th>\n",
       "      <th>Assignment group</th>\n",
       "    </tr>\n",
       "  </thead>\n",
       "  <tbody>\n",
       "    <tr>\n",
       "      <td>1019</td>\n",
       "      <td>outlook not working</td>\n",
       "      <td>outlook not working</td>\n",
       "      <td>GRP_0</td>\n",
       "    </tr>\n",
       "    <tr>\n",
       "      <td>5941</td>\n",
       "      <td>outlook not working</td>\n",
       "      <td>outlook not working</td>\n",
       "      <td>GRP_0</td>\n",
       "    </tr>\n",
       "  </tbody>\n",
       "</table>\n",
       "</div>"
      ],
      "text/plain": [
       "        Short description          Description Assignment group\n",
       "1019  outlook not working  outlook not working            GRP_0\n",
       "5941  outlook not working  outlook not working            GRP_0"
      ]
     },
     "execution_count": 14,
     "metadata": {},
     "output_type": "execute_result"
    }
   ],
   "source": [
    "duplicateRowsDF[duplicateRowsDF['Short description'] == 'outlook not working']"
   ]
  },
  {
   "cell_type": "code",
   "execution_count": 15,
   "metadata": {},
   "outputs": [],
   "source": [
    "# Drop duplicated by the following code.\n",
    "df.drop_duplicates(inplace=True)"
   ]
  },
  {
   "cell_type": "code",
   "execution_count": 16,
   "metadata": {},
   "outputs": [
    {
     "data": {
      "text/html": [
       "<div>\n",
       "<style scoped>\n",
       "    .dataframe tbody tr th:only-of-type {\n",
       "        vertical-align: middle;\n",
       "    }\n",
       "\n",
       "    .dataframe tbody tr th {\n",
       "        vertical-align: top;\n",
       "    }\n",
       "\n",
       "    .dataframe thead th {\n",
       "        text-align: right;\n",
       "    }\n",
       "</style>\n",
       "<table border=\"1\" class=\"dataframe\">\n",
       "  <thead>\n",
       "    <tr style=\"text-align: right;\">\n",
       "      <th></th>\n",
       "      <th>Short description</th>\n",
       "      <th>Description</th>\n",
       "      <th>Assignment group</th>\n",
       "    </tr>\n",
       "  </thead>\n",
       "  <tbody>\n",
       "  </tbody>\n",
       "</table>\n",
       "</div>"
      ],
      "text/plain": [
       "Empty DataFrame\n",
       "Columns: [Short description, Description, Assignment group]\n",
       "Index: []"
      ]
     },
     "execution_count": 16,
     "metadata": {},
     "output_type": "execute_result"
    }
   ],
   "source": [
    "# Check to confirm if duplicate rows except first occurrence based on all columns are removed\n",
    "df[df.duplicated()]"
   ]
  },
  {
   "cell_type": "code",
   "execution_count": 17,
   "metadata": {},
   "outputs": [
    {
     "name": "stdout",
     "output_type": "stream",
     "text": [
      "<class 'pandas.core.frame.DataFrame'>\n",
      "Int64Index: 7909 entries, 0 to 8499\n",
      "Data columns (total 3 columns):\n",
      "Short description    7904 non-null object\n",
      "Description          7908 non-null object\n",
      "Assignment group     7909 non-null object\n",
      "dtypes: object(3)\n",
      "memory usage: 247.2+ KB\n"
     ]
    }
   ],
   "source": [
    "df.info()  #info about the data"
   ]
  },
  {
   "cell_type": "markdown",
   "metadata": {},
   "source": [
    "### Handling Missing Values"
   ]
  },
  {
   "cell_type": "code",
   "execution_count": 18,
   "metadata": {},
   "outputs": [
    {
     "data": {
      "text/html": [
       "<div>\n",
       "<style scoped>\n",
       "    .dataframe tbody tr th:only-of-type {\n",
       "        vertical-align: middle;\n",
       "    }\n",
       "\n",
       "    .dataframe tbody tr th {\n",
       "        vertical-align: top;\n",
       "    }\n",
       "\n",
       "    .dataframe thead th {\n",
       "        text-align: right;\n",
       "    }\n",
       "</style>\n",
       "<table border=\"1\" class=\"dataframe\">\n",
       "  <thead>\n",
       "    <tr style=\"text-align: right;\">\n",
       "      <th></th>\n",
       "      <th>Short description</th>\n",
       "      <th>Description</th>\n",
       "      <th>Assignment group</th>\n",
       "    </tr>\n",
       "  </thead>\n",
       "  <tbody>\n",
       "    <tr>\n",
       "      <td>False</td>\n",
       "      <td>7904</td>\n",
       "      <td>7908</td>\n",
       "      <td>7909.0</td>\n",
       "    </tr>\n",
       "    <tr>\n",
       "      <td>True</td>\n",
       "      <td>5</td>\n",
       "      <td>1</td>\n",
       "      <td>NaN</td>\n",
       "    </tr>\n",
       "  </tbody>\n",
       "</table>\n",
       "</div>"
      ],
      "text/plain": [
       "       Short description  Description  Assignment group\n",
       "False               7904         7908            7909.0\n",
       "True                   5            1               NaN"
      ]
     },
     "execution_count": 18,
     "metadata": {},
     "output_type": "execute_result"
    }
   ],
   "source": [
    "df.isna().apply(pd.value_counts)   #null value check "
   ]
  },
  {
   "cell_type": "code",
   "execution_count": 19,
   "metadata": {},
   "outputs": [
    {
     "data": {
      "text/html": [
       "<div>\n",
       "<style scoped>\n",
       "    .dataframe tbody tr th:only-of-type {\n",
       "        vertical-align: middle;\n",
       "    }\n",
       "\n",
       "    .dataframe tbody tr th {\n",
       "        vertical-align: top;\n",
       "    }\n",
       "\n",
       "    .dataframe thead th {\n",
       "        text-align: right;\n",
       "    }\n",
       "</style>\n",
       "<table border=\"1\" class=\"dataframe\">\n",
       "  <thead>\n",
       "    <tr style=\"text-align: right;\">\n",
       "      <th></th>\n",
       "      <th>Short description</th>\n",
       "      <th>Description</th>\n",
       "      <th>Assignment group</th>\n",
       "    </tr>\n",
       "  </thead>\n",
       "  <tbody>\n",
       "    <tr>\n",
       "      <td>2604</td>\n",
       "      <td>NaN</td>\n",
       "      <td>\\r\\n\\r\\nreceived from: ohdrnswl.rezuibdt@gmail...</td>\n",
       "      <td>GRP_34</td>\n",
       "    </tr>\n",
       "    <tr>\n",
       "      <td>3383</td>\n",
       "      <td>NaN</td>\n",
       "      <td>\\r\\n-connected to the user system using teamvi...</td>\n",
       "      <td>GRP_0</td>\n",
       "    </tr>\n",
       "    <tr>\n",
       "      <td>3906</td>\n",
       "      <td>NaN</td>\n",
       "      <td>-user unable  tologin to vpn.\\r\\n-connected to...</td>\n",
       "      <td>GRP_0</td>\n",
       "    </tr>\n",
       "    <tr>\n",
       "      <td>3924</td>\n",
       "      <td>NaN</td>\n",
       "      <td>name:wvqgbdhm fwchqjor\\nlanguage:\\nbrowser:mic...</td>\n",
       "      <td>GRP_0</td>\n",
       "    </tr>\n",
       "    <tr>\n",
       "      <td>4341</td>\n",
       "      <td>NaN</td>\n",
       "      <td>\\r\\n\\r\\nreceived from: eqmuniov.ehxkcbgj@gmail...</td>\n",
       "      <td>GRP_0</td>\n",
       "    </tr>\n",
       "  </tbody>\n",
       "</table>\n",
       "</div>"
      ],
      "text/plain": [
       "     Short description                                        Description  \\\n",
       "2604               NaN  \\r\\n\\r\\nreceived from: ohdrnswl.rezuibdt@gmail...   \n",
       "3383               NaN  \\r\\n-connected to the user system using teamvi...   \n",
       "3906               NaN  -user unable  tologin to vpn.\\r\\n-connected to...   \n",
       "3924               NaN  name:wvqgbdhm fwchqjor\\nlanguage:\\nbrowser:mic...   \n",
       "4341               NaN  \\r\\n\\r\\nreceived from: eqmuniov.ehxkcbgj@gmail...   \n",
       "\n",
       "     Assignment group  \n",
       "2604           GRP_34  \n",
       "3383            GRP_0  \n",
       "3906            GRP_0  \n",
       "3924            GRP_0  \n",
       "4341            GRP_0  "
      ]
     },
     "execution_count": 19,
     "metadata": {},
     "output_type": "execute_result"
    }
   ],
   "source": [
    "df[df['Short description'].isnull()]"
   ]
  },
  {
   "cell_type": "code",
   "execution_count": 20,
   "metadata": {},
   "outputs": [
    {
     "data": {
      "text/html": [
       "<div>\n",
       "<style scoped>\n",
       "    .dataframe tbody tr th:only-of-type {\n",
       "        vertical-align: middle;\n",
       "    }\n",
       "\n",
       "    .dataframe tbody tr th {\n",
       "        vertical-align: top;\n",
       "    }\n",
       "\n",
       "    .dataframe thead th {\n",
       "        text-align: right;\n",
       "    }\n",
       "</style>\n",
       "<table border=\"1\" class=\"dataframe\">\n",
       "  <thead>\n",
       "    <tr style=\"text-align: right;\">\n",
       "      <th></th>\n",
       "      <th>Short description</th>\n",
       "      <th>Description</th>\n",
       "      <th>Assignment group</th>\n",
       "    </tr>\n",
       "  </thead>\n",
       "  <tbody>\n",
       "    <tr>\n",
       "      <td>4395</td>\n",
       "      <td>i am locked out of skype</td>\n",
       "      <td>NaN</td>\n",
       "      <td>GRP_0</td>\n",
       "    </tr>\n",
       "  </tbody>\n",
       "</table>\n",
       "</div>"
      ],
      "text/plain": [
       "             Short description Description Assignment group\n",
       "4395  i am locked out of skype         NaN            GRP_0"
      ]
     },
     "execution_count": 20,
     "metadata": {},
     "output_type": "execute_result"
    }
   ],
   "source": [
    "df[df['Description'].isnull()]"
   ]
  },
  {
   "cell_type": "code",
   "execution_count": 21,
   "metadata": {},
   "outputs": [
    {
     "name": "stdout",
     "output_type": "stream",
     "text": [
      "[2604, 3383, 3906, 3924, 4341]\n",
      "[4395]\n"
     ]
    }
   ],
   "source": [
    "print(list(df[df['Short description'].isna()].index))\n",
    "print(list(df[df['Description'].isna()].index))"
   ]
  },
  {
   "cell_type": "code",
   "execution_count": 23,
   "metadata": {},
   "outputs": [],
   "source": [
    "df['Short description'].fillna(value=' ', inplace=True)\n",
    "df['Description'].fillna(value=' ', inplace=True)"
   ]
  },
  {
   "cell_type": "code",
   "execution_count": 24,
   "metadata": {},
   "outputs": [
    {
     "name": "stdout",
     "output_type": "stream",
     "text": [
      "[]\n",
      "[]\n"
     ]
    }
   ],
   "source": [
    "print(list(df[df['Short description'].isna()].index))\n",
    "print(list(df[df['Description'].isna()].index))"
   ]
  },
  {
   "cell_type": "code",
   "execution_count": 25,
   "metadata": {},
   "outputs": [
    {
     "data": {
      "text/html": [
       "<div>\n",
       "<style scoped>\n",
       "    .dataframe tbody tr th:only-of-type {\n",
       "        vertical-align: middle;\n",
       "    }\n",
       "\n",
       "    .dataframe tbody tr th {\n",
       "        vertical-align: top;\n",
       "    }\n",
       "\n",
       "    .dataframe thead th {\n",
       "        text-align: right;\n",
       "    }\n",
       "</style>\n",
       "<table border=\"1\" class=\"dataframe\">\n",
       "  <thead>\n",
       "    <tr style=\"text-align: right;\">\n",
       "      <th></th>\n",
       "      <th>Short description</th>\n",
       "      <th>Description</th>\n",
       "      <th>Assignment group</th>\n",
       "    </tr>\n",
       "  </thead>\n",
       "  <tbody>\n",
       "    <tr>\n",
       "      <td>4</td>\n",
       "      <td>skype error</td>\n",
       "      <td>skype error</td>\n",
       "      <td>GRP_0</td>\n",
       "    </tr>\n",
       "    <tr>\n",
       "      <td>285</td>\n",
       "      <td>skype error while logging in</td>\n",
       "      <td>skype error while logging in</td>\n",
       "      <td>GRP_0</td>\n",
       "    </tr>\n",
       "    <tr>\n",
       "      <td>3392</td>\n",
       "      <td>skype error : getting skype certificate error</td>\n",
       "      <td>skype error : getting skype certificate error</td>\n",
       "      <td>GRP_0</td>\n",
       "    </tr>\n",
       "    <tr>\n",
       "      <td>4813</td>\n",
       "      <td>skype error</td>\n",
       "      <td>skype error</td>\n",
       "      <td>GRP_0</td>\n",
       "    </tr>\n",
       "  </tbody>\n",
       "</table>\n",
       "</div>"
      ],
      "text/plain": [
       "                                  Short description  \\\n",
       "4                                      skype error    \n",
       "285                   skype error while logging in    \n",
       "3392  skype error : getting skype certificate error   \n",
       "4813                                    skype error   \n",
       "\n",
       "                                        Description Assignment group  \n",
       "4                                      skype error             GRP_0  \n",
       "285                   skype error while logging in             GRP_0  \n",
       "3392  skype error : getting skype certificate error            GRP_0  \n",
       "4813                                    skype error            GRP_0  "
      ]
     },
     "execution_count": 25,
     "metadata": {},
     "output_type": "execute_result"
    }
   ],
   "source": [
    "df[df['Short description'].str.contains('skype error')]"
   ]
  },
  {
   "cell_type": "code",
   "execution_count": 26,
   "metadata": {},
   "outputs": [
    {
     "data": {
      "text/html": [
       "<div>\n",
       "<style scoped>\n",
       "    .dataframe tbody tr th:only-of-type {\n",
       "        vertical-align: middle;\n",
       "    }\n",
       "\n",
       "    .dataframe tbody tr th {\n",
       "        vertical-align: top;\n",
       "    }\n",
       "\n",
       "    .dataframe thead th {\n",
       "        text-align: right;\n",
       "    }\n",
       "</style>\n",
       "<table border=\"1\" class=\"dataframe\">\n",
       "  <thead>\n",
       "    <tr style=\"text-align: right;\">\n",
       "      <th></th>\n",
       "      <th>Short description</th>\n",
       "      <th>Description</th>\n",
       "      <th>Assignment group</th>\n",
       "    </tr>\n",
       "  </thead>\n",
       "  <tbody>\n",
       "    <tr>\n",
       "      <td>0</td>\n",
       "      <td>login issue</td>\n",
       "      <td>-verified user details.(employee# &amp; manager na...</td>\n",
       "      <td>GRP_0</td>\n",
       "    </tr>\n",
       "    <tr>\n",
       "      <td>1</td>\n",
       "      <td>outlook</td>\n",
       "      <td>\\r\\n\\r\\nreceived from: hmjdrvpb.komuaywn@gmail...</td>\n",
       "      <td>GRP_0</td>\n",
       "    </tr>\n",
       "    <tr>\n",
       "      <td>2</td>\n",
       "      <td>cant log in to vpn</td>\n",
       "      <td>\\r\\n\\r\\nreceived from: eylqgodm.ybqkwiam@gmail...</td>\n",
       "      <td>GRP_0</td>\n",
       "    </tr>\n",
       "    <tr>\n",
       "      <td>3</td>\n",
       "      <td>unable to access hr_tool page</td>\n",
       "      <td>unable to access hr_tool page</td>\n",
       "      <td>GRP_0</td>\n",
       "    </tr>\n",
       "    <tr>\n",
       "      <td>4</td>\n",
       "      <td>skype error</td>\n",
       "      <td>skype error</td>\n",
       "      <td>GRP_0</td>\n",
       "    </tr>\n",
       "  </tbody>\n",
       "</table>\n",
       "</div>"
      ],
      "text/plain": [
       "               Short description  \\\n",
       "0                    login issue   \n",
       "1                        outlook   \n",
       "2             cant log in to vpn   \n",
       "3  unable to access hr_tool page   \n",
       "4                   skype error    \n",
       "\n",
       "                                         Description Assignment group  \n",
       "0  -verified user details.(employee# & manager na...            GRP_0  \n",
       "1  \\r\\n\\r\\nreceived from: hmjdrvpb.komuaywn@gmail...            GRP_0  \n",
       "2  \\r\\n\\r\\nreceived from: eylqgodm.ybqkwiam@gmail...            GRP_0  \n",
       "3                      unable to access hr_tool page            GRP_0  \n",
       "4                                       skype error             GRP_0  "
      ]
     },
     "execution_count": 26,
     "metadata": {},
     "output_type": "execute_result"
    }
   ],
   "source": [
    "df.head()"
   ]
  },
  {
   "cell_type": "code",
   "execution_count": 27,
   "metadata": {},
   "outputs": [
    {
     "data": {
      "text/html": [
       "<div>\n",
       "<style scoped>\n",
       "    .dataframe tbody tr th:only-of-type {\n",
       "        vertical-align: middle;\n",
       "    }\n",
       "\n",
       "    .dataframe tbody tr th {\n",
       "        vertical-align: top;\n",
       "    }\n",
       "\n",
       "    .dataframe thead th {\n",
       "        text-align: right;\n",
       "    }\n",
       "</style>\n",
       "<table border=\"1\" class=\"dataframe\">\n",
       "  <thead>\n",
       "    <tr style=\"text-align: right;\">\n",
       "      <th></th>\n",
       "      <th>Short description</th>\n",
       "      <th>Description</th>\n",
       "      <th>Assignment group</th>\n",
       "    </tr>\n",
       "  </thead>\n",
       "  <tbody>\n",
       "    <tr>\n",
       "      <td>1</td>\n",
       "      <td>outlook</td>\n",
       "      <td>\\r\\n\\r\\nreceived from: hmjdrvpb.komuaywn@gmail...</td>\n",
       "      <td>GRP_0</td>\n",
       "    </tr>\n",
       "  </tbody>\n",
       "</table>\n",
       "</div>"
      ],
      "text/plain": [
       "  Short description                                        Description  \\\n",
       "1           outlook  \\r\\n\\r\\nreceived from: hmjdrvpb.komuaywn@gmail...   \n",
       "\n",
       "  Assignment group  \n",
       "1            GRP_0  "
      ]
     },
     "execution_count": 27,
     "metadata": {},
     "output_type": "execute_result"
    }
   ],
   "source": [
    "df.iloc[[1]]"
   ]
  },
  {
   "cell_type": "code",
   "execution_count": 28,
   "metadata": {},
   "outputs": [
    {
     "data": {
      "text/plain": [
       "'\\r\\n\\r\\nreceived from: hmjdrvpb.komuaywn@gmail.com\\r\\n\\r\\nhello team,\\r\\n\\r\\nmy meetings/skype meetings etc are not appearing in my outlook calendar, can somebody please advise how to correct this?\\r\\n\\r\\nkind '"
      ]
     },
     "execution_count": 28,
     "metadata": {},
     "output_type": "execute_result"
    }
   ],
   "source": [
    "df['Description'][1]"
   ]
  },
  {
   "cell_type": "code",
   "execution_count": 29,
   "metadata": {},
   "outputs": [],
   "source": [
    "df.replace({r'\\r\\n': ' '}, regex=True, inplace=True)"
   ]
  },
  {
   "cell_type": "code",
   "execution_count": 30,
   "metadata": {},
   "outputs": [
    {
     "data": {
      "text/plain": [
       "'  received from: hmjdrvpb.komuaywn@gmail.com  hello team,  my meetings/skype meetings etc are not appearing in my outlook calendar, can somebody please advise how to correct this?  kind '"
      ]
     },
     "execution_count": 30,
     "metadata": {},
     "output_type": "execute_result"
    }
   ],
   "source": [
    "df['Description'][1]"
   ]
  },
  {
   "cell_type": "code",
   "execution_count": 32,
   "metadata": {},
   "outputs": [],
   "source": [
    "df.to_excel(\"input_data_clean_1.xlsx\",\n",
    "             sheet_name='Sheet1')  "
   ]
  },
  {
   "cell_type": "code",
   "execution_count": 38,
   "metadata": {},
   "outputs": [
    {
     "data": {
      "text/plain": [
       "'ç”µè„‘æ—\\xa0æ³•è¿žæŽ¥å…¬å…±ç›˜ï¼Œè¯·å¸®æˆ‘è½¬ç»™å°\\x8fè´º'"
      ]
     },
     "execution_count": 38,
     "metadata": {},
     "output_type": "execute_result"
    }
   ],
   "source": [
    "df['Short description'][3903]"
   ]
  },
  {
   "cell_type": "code",
   "execution_count": 39,
   "metadata": {},
   "outputs": [],
   "source": [
    "df['Short description'] = df['Short description'].str.encode('ascii', 'ignore').str.decode('ascii')"
   ]
  },
  {
   "cell_type": "code",
   "execution_count": 56,
   "metadata": {},
   "outputs": [
    {
     "data": {
      "text/plain": [
       "(7909, 3)"
      ]
     },
     "execution_count": 56,
     "metadata": {},
     "output_type": "execute_result"
    }
   ],
   "source": [
    "df.shape"
   ]
  },
  {
   "cell_type": "code",
   "execution_count": 64,
   "metadata": {},
   "outputs": [
    {
     "data": {
      "text/html": [
       "<div>\n",
       "<style scoped>\n",
       "    .dataframe tbody tr th:only-of-type {\n",
       "        vertical-align: middle;\n",
       "    }\n",
       "\n",
       "    .dataframe tbody tr th {\n",
       "        vertical-align: top;\n",
       "    }\n",
       "\n",
       "    .dataframe thead th {\n",
       "        text-align: right;\n",
       "    }\n",
       "</style>\n",
       "<table border=\"1\" class=\"dataframe\">\n",
       "  <thead>\n",
       "    <tr style=\"text-align: right;\">\n",
       "      <th></th>\n",
       "      <th>Short description</th>\n",
       "      <th>Description</th>\n",
       "      <th>Assignment group</th>\n",
       "    </tr>\n",
       "  </thead>\n",
       "  <tbody>\n",
       "    <tr>\n",
       "      <td>3900</td>\n",
       "      <td>problems with ap vpn</td>\n",
       "      <td>received from: elixsfvu.pxwbjofl@gmail.com  ...</td>\n",
       "      <td>GRP_0</td>\n",
       "    </tr>\n",
       "    <tr>\n",
       "      <td>3901</td>\n",
       "      <td>kis documents will not generate because the st...</td>\n",
       "      <td>kis documents will not generate because the st...</td>\n",
       "      <td>GRP_18</td>\n",
       "    </tr>\n",
       "    <tr>\n",
       "      <td>3902</td>\n",
       "      <td>wrong unit price on inwarehouse_tool</td>\n",
       "      <td>received from: ovhtgsxd.dcqhnrmy@gmail.com  ...</td>\n",
       "      <td>GRP_13</td>\n",
       "    </tr>\n",
       "    <tr>\n",
       "      <td>3903</td>\n",
       "      <td></td>\n",
       "      <td>ç”µè„‘æ— æ³•è¿žæŽ¥å…¬å…±ç›˜ï¼Œè¯·å¸®æˆ‘è½¬ç»™å...</td>\n",
       "      <td>GRP_30</td>\n",
       "    </tr>\n",
       "    <tr>\n",
       "      <td>3904</td>\n",
       "      <td>usa pc companyst-apc-01 in the pvd area cannot...</td>\n",
       "      <td>usa pc companyst-apc-01 in the pvd area needs ...</td>\n",
       "      <td>GRP_3</td>\n",
       "    </tr>\n",
       "    <tr>\n",
       "      <td>3906</td>\n",
       "      <td></td>\n",
       "      <td>-user unable  tologin to vpn. -connected to th...</td>\n",
       "      <td>GRP_0</td>\n",
       "    </tr>\n",
       "    <tr>\n",
       "      <td>3907</td>\n",
       "      <td>i am not able to log into my vpn. when i am tr...</td>\n",
       "      <td>name:mehrugshy\\nlanguage:\\nbrowser:microsoft i...</td>\n",
       "      <td>GRP_0</td>\n",
       "    </tr>\n",
       "    <tr>\n",
       "      <td>3911</td>\n",
       "      <td>vpn connectivity</td>\n",
       "      <td>received from: gmrxwqlf.vzacdmbj@gmail.com  ...</td>\n",
       "      <td>GRP_0</td>\n",
       "    </tr>\n",
       "    <tr>\n",
       "      <td>3912</td>\n",
       "      <td>referencing ticket ticket_no1499477. customer ...</td>\n",
       "      <td>please revisit ticket ticket_no1499477 and rev...</td>\n",
       "      <td>GRP_20</td>\n",
       "    </tr>\n",
       "  </tbody>\n",
       "</table>\n",
       "</div>"
      ],
      "text/plain": [
       "                                      Short description  \\\n",
       "3900                               problems with ap vpn   \n",
       "3901  kis documents will not generate because the st...   \n",
       "3902              wrong unit price on inwarehouse_tool    \n",
       "3903                                                      \n",
       "3904  usa pc companyst-apc-01 in the pvd area cannot...   \n",
       "3906                                                      \n",
       "3907  i am not able to log into my vpn. when i am tr...   \n",
       "3911                                   vpn connectivity   \n",
       "3912  referencing ticket ticket_no1499477. customer ...   \n",
       "\n",
       "                                            Description Assignment group  \n",
       "3900    received from: elixsfvu.pxwbjofl@gmail.com  ...            GRP_0  \n",
       "3901  kis documents will not generate because the st...           GRP_18  \n",
       "3902    received from: ovhtgsxd.dcqhnrmy@gmail.com  ...           GRP_13  \n",
       "3903  ç”µè„‘æ— æ³•è¿žæŽ¥å…¬å…±ç›˜ï¼Œè¯·å¸®æˆ‘è½¬ç»™å...           GRP_30  \n",
       "3904  usa pc companyst-apc-01 in the pvd area needs ...            GRP_3  \n",
       "3906  -user unable  tologin to vpn. -connected to th...            GRP_0  \n",
       "3907  name:mehrugshy\\nlanguage:\\nbrowser:microsoft i...            GRP_0  \n",
       "3911    received from: gmrxwqlf.vzacdmbj@gmail.com  ...            GRP_0  \n",
       "3912  please revisit ticket ticket_no1499477 and rev...           GRP_20  "
      ]
     },
     "execution_count": 64,
     "metadata": {},
     "output_type": "execute_result"
    }
   ],
   "source": [
    "df.iloc[3680:3689,:]"
   ]
  },
  {
   "cell_type": "code",
   "execution_count": 67,
   "metadata": {},
   "outputs": [
    {
     "data": {
      "text/plain": [
       "'ç”µè„‘æ—\\xa0æ³•è¿žæŽ¥å…¬å…±ç›˜ï¼Œè¯·å¸®æˆ‘è½¬ç»™å°\\x8fè´º'"
      ]
     },
     "execution_count": 67,
     "metadata": {},
     "output_type": "execute_result"
    }
   ],
   "source": [
    "df['Description'][3903]"
   ]
  },
  {
   "cell_type": "code",
   "execution_count": 68,
   "metadata": {},
   "outputs": [],
   "source": [
    "df['Description'] = df['Description'].str.encode('ascii', 'ignore').str.decode('ascii')"
   ]
  },
  {
   "cell_type": "code",
   "execution_count": 69,
   "metadata": {},
   "outputs": [
    {
     "data": {
      "text/plain": [
       "''"
      ]
     },
     "execution_count": 69,
     "metadata": {},
     "output_type": "execute_result"
    }
   ],
   "source": [
    "df['Description'][3903]"
   ]
  },
  {
   "cell_type": "code",
   "execution_count": 70,
   "metadata": {},
   "outputs": [
    {
     "data": {
      "text/html": [
       "<div>\n",
       "<style scoped>\n",
       "    .dataframe tbody tr th:only-of-type {\n",
       "        vertical-align: middle;\n",
       "    }\n",
       "\n",
       "    .dataframe tbody tr th {\n",
       "        vertical-align: top;\n",
       "    }\n",
       "\n",
       "    .dataframe thead th {\n",
       "        text-align: right;\n",
       "    }\n",
       "</style>\n",
       "<table border=\"1\" class=\"dataframe\">\n",
       "  <thead>\n",
       "    <tr style=\"text-align: right;\">\n",
       "      <th></th>\n",
       "      <th>Short description</th>\n",
       "      <th>Description</th>\n",
       "      <th>Assignment group</th>\n",
       "    </tr>\n",
       "  </thead>\n",
       "  <tbody>\n",
       "    <tr>\n",
       "      <td>3900</td>\n",
       "      <td>problems with ap vpn</td>\n",
       "      <td>received from: elixsfvu.pxwbjofl@gmail.com  ...</td>\n",
       "      <td>GRP_0</td>\n",
       "    </tr>\n",
       "    <tr>\n",
       "      <td>3901</td>\n",
       "      <td>kis documents will not generate because the st...</td>\n",
       "      <td>kis documents will not generate because the st...</td>\n",
       "      <td>GRP_18</td>\n",
       "    </tr>\n",
       "    <tr>\n",
       "      <td>3902</td>\n",
       "      <td>wrong unit price on inwarehouse_tool</td>\n",
       "      <td>received from: ovhtgsxd.dcqhnrmy@gmail.com  ...</td>\n",
       "      <td>GRP_13</td>\n",
       "    </tr>\n",
       "    <tr>\n",
       "      <td>3903</td>\n",
       "      <td></td>\n",
       "      <td></td>\n",
       "      <td>GRP_30</td>\n",
       "    </tr>\n",
       "    <tr>\n",
       "      <td>3904</td>\n",
       "      <td>usa pc companyst-apc-01 in the pvd area cannot...</td>\n",
       "      <td>usa pc companyst-apc-01 in the pvd area needs ...</td>\n",
       "      <td>GRP_3</td>\n",
       "    </tr>\n",
       "    <tr>\n",
       "      <td>3906</td>\n",
       "      <td></td>\n",
       "      <td>-user unable  tologin to vpn. -connected to th...</td>\n",
       "      <td>GRP_0</td>\n",
       "    </tr>\n",
       "    <tr>\n",
       "      <td>3907</td>\n",
       "      <td>i am not able to log into my vpn. when i am tr...</td>\n",
       "      <td>name:mehrugshy\\nlanguage:\\nbrowser:microsoft i...</td>\n",
       "      <td>GRP_0</td>\n",
       "    </tr>\n",
       "    <tr>\n",
       "      <td>3911</td>\n",
       "      <td>vpn connectivity</td>\n",
       "      <td>received from: gmrxwqlf.vzacdmbj@gmail.com  ...</td>\n",
       "      <td>GRP_0</td>\n",
       "    </tr>\n",
       "    <tr>\n",
       "      <td>3912</td>\n",
       "      <td>referencing ticket ticket_no1499477. customer ...</td>\n",
       "      <td>please revisit ticket ticket_no1499477 and rev...</td>\n",
       "      <td>GRP_20</td>\n",
       "    </tr>\n",
       "  </tbody>\n",
       "</table>\n",
       "</div>"
      ],
      "text/plain": [
       "                                      Short description  \\\n",
       "3900                               problems with ap vpn   \n",
       "3901  kis documents will not generate because the st...   \n",
       "3902              wrong unit price on inwarehouse_tool    \n",
       "3903                                                      \n",
       "3904  usa pc companyst-apc-01 in the pvd area cannot...   \n",
       "3906                                                      \n",
       "3907  i am not able to log into my vpn. when i am tr...   \n",
       "3911                                   vpn connectivity   \n",
       "3912  referencing ticket ticket_no1499477. customer ...   \n",
       "\n",
       "                                            Description Assignment group  \n",
       "3900    received from: elixsfvu.pxwbjofl@gmail.com  ...            GRP_0  \n",
       "3901  kis documents will not generate because the st...           GRP_18  \n",
       "3902    received from: ovhtgsxd.dcqhnrmy@gmail.com  ...           GRP_13  \n",
       "3903                                                              GRP_30  \n",
       "3904  usa pc companyst-apc-01 in the pvd area needs ...            GRP_3  \n",
       "3906  -user unable  tologin to vpn. -connected to th...            GRP_0  \n",
       "3907  name:mehrugshy\\nlanguage:\\nbrowser:microsoft i...            GRP_0  \n",
       "3911    received from: gmrxwqlf.vzacdmbj@gmail.com  ...            GRP_0  \n",
       "3912  please revisit ticket ticket_no1499477 and rev...           GRP_20  "
      ]
     },
     "execution_count": 70,
     "metadata": {},
     "output_type": "execute_result"
    }
   ],
   "source": [
    "df.iloc[3680:3689,:]"
   ]
  },
  {
   "cell_type": "code",
   "execution_count": 71,
   "metadata": {},
   "outputs": [
    {
     "data": {
      "text/html": [
       "<div>\n",
       "<style scoped>\n",
       "    .dataframe tbody tr th:only-of-type {\n",
       "        vertical-align: middle;\n",
       "    }\n",
       "\n",
       "    .dataframe tbody tr th {\n",
       "        vertical-align: top;\n",
       "    }\n",
       "\n",
       "    .dataframe thead th {\n",
       "        text-align: right;\n",
       "    }\n",
       "</style>\n",
       "<table border=\"1\" class=\"dataframe\">\n",
       "  <thead>\n",
       "    <tr style=\"text-align: right;\">\n",
       "      <th></th>\n",
       "      <th>Short description</th>\n",
       "      <th>Description</th>\n",
       "      <th>Assignment group</th>\n",
       "    </tr>\n",
       "  </thead>\n",
       "  <tbody>\n",
       "    <tr>\n",
       "      <td>False</td>\n",
       "      <td>7909</td>\n",
       "      <td>7909</td>\n",
       "      <td>7909</td>\n",
       "    </tr>\n",
       "  </tbody>\n",
       "</table>\n",
       "</div>"
      ],
      "text/plain": [
       "       Short description  Description  Assignment group\n",
       "False               7909         7909              7909"
      ]
     },
     "execution_count": 71,
     "metadata": {},
     "output_type": "execute_result"
    }
   ],
   "source": [
    "df.isna().apply(pd.value_counts)   #null value check "
   ]
  },
  {
   "cell_type": "code",
   "execution_count": 72,
   "metadata": {},
   "outputs": [],
   "source": [
    "df.to_excel(\"input_data_clean_2.xlsx\",\n",
    "             sheet_name='Sheet1')  "
   ]
  },
  {
   "cell_type": "code",
   "execution_count": null,
   "metadata": {},
   "outputs": [],
   "source": []
  }
 ],
 "metadata": {
  "colab": {
   "collapsed_sections": [],
   "name": "Exhaustive solution.ipynb",
   "provenance": []
  },
  "kernelspec": {
   "display_name": "Python 3",
   "language": "python",
   "name": "python3"
  },
  "language_info": {
   "codemirror_mode": {
    "name": "ipython",
    "version": 3
   },
   "file_extension": ".py",
   "mimetype": "text/x-python",
   "name": "python",
   "nbconvert_exporter": "python",
   "pygments_lexer": "ipython3",
   "version": "3.7.4"
  }
 },
 "nbformat": 4,
 "nbformat_minor": 1
}
