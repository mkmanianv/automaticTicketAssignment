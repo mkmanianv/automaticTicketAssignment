{
  "nbformat": 4,
  "nbformat_minor": 0,
  "metadata": {
    "colab": {
      "name": "NLP_Automatic_Ticket_Assignment_Capstone_Project.ipynb",
      "provenance": [],
      "collapsed_sections": []
    },
    "kernelspec": {
      "name": "python3",
      "display_name": "Python 3"
    }
  },
  "cells": [
    {
      "cell_type": "code",
      "metadata": {
        "id": "5WyHKS0Jp8pn"
      },
      "source": [
        "import pandas as pd\r\n",
        "import numpy as np\r\n",
        "import sys, os"
      ],
      "execution_count": 1,
      "outputs": []
    },
    {
      "cell_type": "code",
      "metadata": {
        "colab": {
          "base_uri": "https://localhost:8080/"
        },
        "id": "qSsktu8msVcY",
        "outputId": "964ff8b5-4b5b-41ad-9c49-2cad6f42c994"
      },
      "source": [
        "from google.colab import drive\r\n",
        "drive.mount('/content/drive/')\r\n",
        "%cd \"/content/drive/MyDrive/Colab Notebooks/Automatic_Ticket_Assignment_NLP_Project\"\r\n",
        "%ls"
      ],
      "execution_count": 2,
      "outputs": [
        {
          "output_type": "stream",
          "text": [
            "Mounted at /content/drive/\n",
            "/content/drive/MyDrive/Colab Notebooks/Automatic_Ticket_Assignment_NLP_Project\n",
            "input_data.xlsx  NLP_Automatic_Ticket_Assignment_Capstone_Project.ipynb\n"
          ],
          "name": "stdout"
        }
      ]
    },
    {
      "cell_type": "code",
      "metadata": {
        "colab": {
          "base_uri": "https://localhost:8080/",
          "height": 202
        },
        "id": "xNDXMNQRqO2F",
        "outputId": "8c5338a0-d360-4656-d1d5-2e4556dbb1e6"
      },
      "source": [
        "project_path = 'content/drive/MyDrive/Colab Notebooks/Automatic_Ticket_Assignment_NLP_Project/'\r\n",
        "ticket_df = pd.read_excel('input_data.xlsx')  \r\n",
        "ticket_df.head()"
      ],
      "execution_count": 3,
      "outputs": [
        {
          "output_type": "execute_result",
          "data": {
            "text/html": [
              "<div>\n",
              "<style scoped>\n",
              "    .dataframe tbody tr th:only-of-type {\n",
              "        vertical-align: middle;\n",
              "    }\n",
              "\n",
              "    .dataframe tbody tr th {\n",
              "        vertical-align: top;\n",
              "    }\n",
              "\n",
              "    .dataframe thead th {\n",
              "        text-align: right;\n",
              "    }\n",
              "</style>\n",
              "<table border=\"1\" class=\"dataframe\">\n",
              "  <thead>\n",
              "    <tr style=\"text-align: right;\">\n",
              "      <th></th>\n",
              "      <th>Short description</th>\n",
              "      <th>Description</th>\n",
              "      <th>Caller</th>\n",
              "      <th>Assignment group</th>\n",
              "    </tr>\n",
              "  </thead>\n",
              "  <tbody>\n",
              "    <tr>\n",
              "      <th>0</th>\n",
              "      <td>login issue</td>\n",
              "      <td>-verified user details.(employee# &amp; manager na...</td>\n",
              "      <td>spxjnwir pjlcoqds</td>\n",
              "      <td>GRP_0</td>\n",
              "    </tr>\n",
              "    <tr>\n",
              "      <th>1</th>\n",
              "      <td>outlook</td>\n",
              "      <td>\\r\\n\\r\\nreceived from: hmjdrvpb.komuaywn@gmail...</td>\n",
              "      <td>hmjdrvpb komuaywn</td>\n",
              "      <td>GRP_0</td>\n",
              "    </tr>\n",
              "    <tr>\n",
              "      <th>2</th>\n",
              "      <td>cant log in to vpn</td>\n",
              "      <td>\\r\\n\\r\\nreceived from: eylqgodm.ybqkwiam@gmail...</td>\n",
              "      <td>eylqgodm ybqkwiam</td>\n",
              "      <td>GRP_0</td>\n",
              "    </tr>\n",
              "    <tr>\n",
              "      <th>3</th>\n",
              "      <td>unable to access hr_tool page</td>\n",
              "      <td>unable to access hr_tool page</td>\n",
              "      <td>xbkucsvz gcpydteq</td>\n",
              "      <td>GRP_0</td>\n",
              "    </tr>\n",
              "    <tr>\n",
              "      <th>4</th>\n",
              "      <td>skype error</td>\n",
              "      <td>skype error</td>\n",
              "      <td>owlgqjme qhcozdfx</td>\n",
              "      <td>GRP_0</td>\n",
              "    </tr>\n",
              "  </tbody>\n",
              "</table>\n",
              "</div>"
            ],
            "text/plain": [
              "               Short description  ... Assignment group\n",
              "0                    login issue  ...            GRP_0\n",
              "1                        outlook  ...            GRP_0\n",
              "2             cant log in to vpn  ...            GRP_0\n",
              "3  unable to access hr_tool page  ...            GRP_0\n",
              "4                   skype error   ...            GRP_0\n",
              "\n",
              "[5 rows x 4 columns]"
            ]
          },
          "metadata": {
            "tags": []
          },
          "execution_count": 3
        }
      ]
    },
    {
      "cell_type": "code",
      "metadata": {
        "colab": {
          "base_uri": "https://localhost:8080/"
        },
        "id": "spBUN9KzuhGw",
        "outputId": "0de4bdc2-256e-47c1-c8a3-7e858e9e26e0"
      },
      "source": [
        "ticket_df.shape"
      ],
      "execution_count": 4,
      "outputs": [
        {
          "output_type": "execute_result",
          "data": {
            "text/plain": [
              "(8500, 4)"
            ]
          },
          "metadata": {
            "tags": []
          },
          "execution_count": 4
        }
      ]
    },
    {
      "cell_type": "code",
      "metadata": {
        "colab": {
          "base_uri": "https://localhost:8080/",
          "height": 171
        },
        "id": "5JjNpyUwulnL",
        "outputId": "c0fd4f05-2be9-48cb-c85e-c34d659413f8"
      },
      "source": [
        "ticket_df.describe()"
      ],
      "execution_count": 5,
      "outputs": [
        {
          "output_type": "execute_result",
          "data": {
            "text/html": [
              "<div>\n",
              "<style scoped>\n",
              "    .dataframe tbody tr th:only-of-type {\n",
              "        vertical-align: middle;\n",
              "    }\n",
              "\n",
              "    .dataframe tbody tr th {\n",
              "        vertical-align: top;\n",
              "    }\n",
              "\n",
              "    .dataframe thead th {\n",
              "        text-align: right;\n",
              "    }\n",
              "</style>\n",
              "<table border=\"1\" class=\"dataframe\">\n",
              "  <thead>\n",
              "    <tr style=\"text-align: right;\">\n",
              "      <th></th>\n",
              "      <th>Short description</th>\n",
              "      <th>Description</th>\n",
              "      <th>Caller</th>\n",
              "      <th>Assignment group</th>\n",
              "    </tr>\n",
              "  </thead>\n",
              "  <tbody>\n",
              "    <tr>\n",
              "      <th>count</th>\n",
              "      <td>8492</td>\n",
              "      <td>8499</td>\n",
              "      <td>8500</td>\n",
              "      <td>8500</td>\n",
              "    </tr>\n",
              "    <tr>\n",
              "      <th>unique</th>\n",
              "      <td>7481</td>\n",
              "      <td>7817</td>\n",
              "      <td>2950</td>\n",
              "      <td>74</td>\n",
              "    </tr>\n",
              "    <tr>\n",
              "      <th>top</th>\n",
              "      <td>password reset</td>\n",
              "      <td>the</td>\n",
              "      <td>bpctwhsn kzqsbmtp</td>\n",
              "      <td>GRP_0</td>\n",
              "    </tr>\n",
              "    <tr>\n",
              "      <th>freq</th>\n",
              "      <td>38</td>\n",
              "      <td>56</td>\n",
              "      <td>810</td>\n",
              "      <td>3976</td>\n",
              "    </tr>\n",
              "  </tbody>\n",
              "</table>\n",
              "</div>"
            ],
            "text/plain": [
              "       Short description Description             Caller Assignment group\n",
              "count               8492        8499               8500             8500\n",
              "unique              7481        7817               2950               74\n",
              "top       password reset         the  bpctwhsn kzqsbmtp            GRP_0\n",
              "freq                  38          56                810             3976"
            ]
          },
          "metadata": {
            "tags": []
          },
          "execution_count": 5
        }
      ]
    },
    {
      "cell_type": "code",
      "metadata": {
        "colab": {
          "base_uri": "https://localhost:8080/"
        },
        "id": "sASsUnyFu2ms",
        "outputId": "974722bc-68b6-4e86-b95a-9a5c708dd7bd"
      },
      "source": [
        "ticket_df.isnull().sum()"
      ],
      "execution_count": 6,
      "outputs": [
        {
          "output_type": "execute_result",
          "data": {
            "text/plain": [
              "Short description    8\n",
              "Description          1\n",
              "Caller               0\n",
              "Assignment group     0\n",
              "dtype: int64"
            ]
          },
          "metadata": {
            "tags": []
          },
          "execution_count": 6
        }
      ]
    },
    {
      "cell_type": "code",
      "metadata": {
        "colab": {
          "base_uri": "https://localhost:8080/"
        },
        "id": "SBYbMqcmvnKt",
        "outputId": "092d3065-1b37-48c9-a9ea-7bf0eec2ff14"
      },
      "source": [
        "targetClassCnt=ticket_df['Assignment group'].value_counts()\r\n",
        "targetClassCnt.describe()"
      ],
      "execution_count": 7,
      "outputs": [
        {
          "output_type": "execute_result",
          "data": {
            "text/plain": [
              "count      74.000000\n",
              "mean      114.864865\n",
              "std       465.747516\n",
              "min         1.000000\n",
              "25%         5.250000\n",
              "50%        26.000000\n",
              "75%        84.000000\n",
              "max      3976.000000\n",
              "Name: Assignment group, dtype: float64"
            ]
          },
          "metadata": {
            "tags": []
          },
          "execution_count": 7
        }
      ]
    },
    {
      "cell_type": "code",
      "metadata": {
        "colab": {
          "base_uri": "https://localhost:8080/",
          "height": 276
        },
        "id": "6sLkMiYwwmO6",
        "outputId": "d152e7e1-21cd-49f5-8844-1a463c661a37"
      },
      "source": [
        "import seaborn as sns\r\n",
        "import matplotlib.pyplot as plt\r\n",
        "%matplotlib inline  \r\n",
        "\r\n",
        "DescOrder = ticket_df['Assignment group'].value_counts().sort_values(ascending=False).index\r\n",
        "plt.subplots(figsize=(22,5))\r\n",
        "\r\n",
        "ax = sns.countplot(x='Assignment group', data=ticket_df, order=DescOrder, color='lightgreen')\r\n",
        "ax.set_xticklabels(ax.get_xticklabels(), rotation=45, ha=\"right\")\r\n",
        "plt.tight_layout()\r\n",
        "plt.show()"
      ],
      "execution_count": 9,
      "outputs": [
        {
          "output_type": "display_data",
          "data": {
            "image/png": "[encoded data removed]",
            "text/plain": [
              "<Figure size 1584x360 with 1 Axes>"
            ]
          },
          "metadata": {
            "tags": [],
            "needs_background": "light"
          }
        }
      ]
    },
    {
      "cell_type": "code",
      "metadata": {
        "colab": {
          "base_uri": "https://localhost:8080/",
          "height": 306
        },
        "id": "Frua6nt-Ktai",
        "outputId": "23069bc7-63e0-4ebe-c561-65062154ea9e"
      },
      "source": [
        "ticket_df['sd_len'] = ticket_df['Short description'].astype(str).apply(len)\r\n",
        "ticket_df['sd_word_count'] = ticket_df['Short description'].apply(lambda x: len(str(x).split()))\r\n",
        "ticket_df['ld_len'] = ticket_df['Description'].astype(str).apply(len)\r\n",
        "ticket_df['ld_word_count'] = ticket_df['Description'].apply(lambda x: len(str(x).split()))\r\n",
        "ticket_df.head()"
      ],
      "execution_count": 21,
      "outputs": [
        {
          "output_type": "execute_result",
          "data": {
            "text/html": [
              "<div>\n",
              "<style scoped>\n",
              "    .dataframe tbody tr th:only-of-type {\n",
              "        vertical-align: middle;\n",
              "    }\n",
              "\n",
              "    .dataframe tbody tr th {\n",
              "        vertical-align: top;\n",
              "    }\n",
              "\n",
              "    .dataframe thead th {\n",
              "        text-align: right;\n",
              "    }\n",
              "</style>\n",
              "<table border=\"1\" class=\"dataframe\">\n",
              "  <thead>\n",
              "    <tr style=\"text-align: right;\">\n",
              "      <th></th>\n",
              "      <th>Short description</th>\n",
              "      <th>Description</th>\n",
              "      <th>Caller</th>\n",
              "      <th>Assignment group</th>\n",
              "      <th>ShortDescLen</th>\n",
              "      <th>sd_len</th>\n",
              "      <th>sd_word_count</th>\n",
              "      <th>ld_len</th>\n",
              "      <th>ld_word_count</th>\n",
              "    </tr>\n",
              "  </thead>\n",
              "  <tbody>\n",
              "    <tr>\n",
              "      <th>0</th>\n",
              "      <td>login issue</td>\n",
              "      <td>-verified user details.(employee# &amp; manager na...</td>\n",
              "      <td>spxjnwir pjlcoqds</td>\n",
              "      <td>GRP_0</td>\n",
              "      <td>11</td>\n",
              "      <td>11</td>\n",
              "      <td>2</td>\n",
              "      <td>206</td>\n",
              "      <td>33</td>\n",
              "    </tr>\n",
              "    <tr>\n",
              "      <th>1</th>\n",
              "      <td>outlook</td>\n",
              "      <td>\\r\\n\\r\\nreceived from: hmjdrvpb.komuaywn@gmail...</td>\n",
              "      <td>hmjdrvpb komuaywn</td>\n",
              "      <td>GRP_0</td>\n",
              "      <td>7</td>\n",
              "      <td>7</td>\n",
              "      <td>1</td>\n",
              "      <td>194</td>\n",
              "      <td>25</td>\n",
              "    </tr>\n",
              "    <tr>\n",
              "      <th>2</th>\n",
              "      <td>cant log in to vpn</td>\n",
              "      <td>\\r\\n\\r\\nreceived from: eylqgodm.ybqkwiam@gmail...</td>\n",
              "      <td>eylqgodm ybqkwiam</td>\n",
              "      <td>GRP_0</td>\n",
              "      <td>18</td>\n",
              "      <td>18</td>\n",
              "      <td>5</td>\n",
              "      <td>87</td>\n",
              "      <td>11</td>\n",
              "    </tr>\n",
              "    <tr>\n",
              "      <th>3</th>\n",
              "      <td>unable to access hr_tool page</td>\n",
              "      <td>unable to access hr_tool page</td>\n",
              "      <td>xbkucsvz gcpydteq</td>\n",
              "      <td>GRP_0</td>\n",
              "      <td>29</td>\n",
              "      <td>29</td>\n",
              "      <td>5</td>\n",
              "      <td>29</td>\n",
              "      <td>5</td>\n",
              "    </tr>\n",
              "    <tr>\n",
              "      <th>4</th>\n",
              "      <td>skype error</td>\n",
              "      <td>skype error</td>\n",
              "      <td>owlgqjme qhcozdfx</td>\n",
              "      <td>GRP_0</td>\n",
              "      <td>12</td>\n",
              "      <td>12</td>\n",
              "      <td>2</td>\n",
              "      <td>12</td>\n",
              "      <td>2</td>\n",
              "    </tr>\n",
              "  </tbody>\n",
              "</table>\n",
              "</div>"
            ],
            "text/plain": [
              "               Short description  ... ld_word_count\n",
              "0                    login issue  ...            33\n",
              "1                        outlook  ...            25\n",
              "2             cant log in to vpn  ...            11\n",
              "3  unable to access hr_tool page  ...             5\n",
              "4                   skype error   ...             2\n",
              "\n",
              "[5 rows x 9 columns]"
            ]
          },
          "metadata": {
            "tags": []
          },
          "execution_count": 21
        }
      ]
    },
    {
      "cell_type": "code",
      "metadata": {
        "colab": {
          "base_uri": "https://localhost:8080/",
          "height": 276
        },
        "id": "iDeazL_IM0Gt",
        "outputId": "057e06f6-1fc4-4b19-9c2c-e74499d1c3f3"
      },
      "source": [
        "\r\n",
        "sdDescOrder = ticket_df['sd_len'].value_counts().sort_values(ascending=False).index\r\n",
        "plt.subplots(figsize=(22,5))\r\n",
        "\r\n",
        "ax = sns.countplot(x='sd_len', data=ticket_df, order=sdDescOrder, color='lightgreen', )\r\n",
        "ax.set_xticklabels(ax.get_xticklabels(), rotation=55, ha=\"right\")\r\n",
        "plt.tight_layout()\r\n",
        "plt.show()\r\n"
      ],
      "execution_count": 25,
      "outputs": [
        {
          "output_type": "display_data",
          "data": {
            "image/png": "[encoded data removed]",
            "text/plain": [
              "<Figure size 1584x360 with 1 Axes>"
            ]
          },
          "metadata": {
            "tags": [],
            "needs_background": "light"
          }
        }
      ]
    },
    {
      "cell_type": "code",
      "metadata": {
        "colab": {
          "base_uri": "https://localhost:8080/",
          "height": 353
        },
        "id": "2yzbgjtl8G07",
        "outputId": "92cc54ec-186d-4be4-c53a-72b6f7772e4b"
      },
      "source": [
        "ticket_df_GRP0 = ticket_df.copy()\r\n",
        "\r\n",
        "ticket_df_GRP0['Assignment group']=ticket_df_GRP0['Assignment group'].apply(lambda x : 'other' if x != 'GRP_0' else x)\r\n",
        "\r\n",
        "DescOrderGrp = ticket_df_GRP0['Assignment group'].value_counts().sort_values(ascending=False).index\r\n",
        "\r\n",
        "plt.subplots(figsize=(5,5))\r\n",
        "sns.countplot(x='Assignment group', data=ticket_df_GRP0, order = DescOrderGrp, color='lightgreen')\r\n"
      ],
      "execution_count": 10,
      "outputs": [
        {
          "output_type": "execute_result",
          "data": {
            "text/plain": [
              "<matplotlib.axes._subplots.AxesSubplot at 0x7fa4ba0cda90>"
            ]
          },
          "metadata": {
            "tags": []
          },
          "execution_count": 10
        },
        {
          "output_type": "display_data",
          "data": {
            "image/png": "[encoded data removed]",
            "text/plain": [
              "<Figure size 360x360 with 1 Axes>"
            ]
          },
          "metadata": {
            "tags": [],
            "needs_background": "light"
          }
        }
      ]
    },
    {
      "cell_type": "code",
      "metadata": {
        "colab": {
          "base_uri": "https://localhost:8080/",
          "height": 276
        },
        "id": "eWrrYo7SEO0M",
        "outputId": "f4452eb3-742a-4d52-b9bf-bde7a06ba0fd"
      },
      "source": [
        "TicketOthersDF = ticket_df[ticket_df['Assignment group'] != 'GRP_0']\r\n",
        "\r\n",
        "descending_order = TicketOthersDF['Assignment group'].value_counts().sort_values(ascending=False).index\r\n",
        "plt.subplots(figsize=(22,5))\r\n",
        "#add code to rotate the labels\r\n",
        "ax=sns.countplot(x='Assignment group', data=TicketOthersDF, color='lightgreen',order=descending_order)\r\n",
        "ax.set_xticklabels(ax.get_xticklabels(), rotation=45, ha=\"right\")\r\n",
        "plt.tight_layout()\r\n",
        "plt.show()"
      ],
      "execution_count": 11,
      "outputs": [
        {
          "output_type": "display_data",
          "data": {
            "image/png": "[encoded data removed]",
            "text/plain": [
              "<Figure size 1584x360 with 1 Axes>"
            ]
          },
          "metadata": {
            "tags": [],
            "needs_background": "light"
          }
        }
      ]
    },
    {
      "cell_type": "code",
      "metadata": {
        "colab": {
          "base_uri": "https://localhost:8080/",
          "height": 235
        },
        "id": "gcCcpqLAMqpD",
        "outputId": "85c1085a-30ee-43b4-a865-ea9fdb05cd86"
      },
      "source": [
        "from wordcloud import WordCloud, STOPWORDS\r\n",
        "\r\n",
        "STOP_WORDS = STOPWORDS.union({'yes','na','hi',\r\n",
        "                              'receive','hello',\r\n",
        "                              'regards','thanks',\r\n",
        "                              'from','greeting',\r\n",
        "                              'forward','reply',\r\n",
        "                              'will','please',\r\n",
        "                              'see','help','able'})\r\n",
        "\r\n",
        "wordcloud = WordCloud(width=400, height=400, \r\n",
        "                      stopwords=STOP_WORDS, min_font_size=10).generate(corpus)\r\n",
        "plt.figure(figsize=(10,10), facecolor=None)\r\n",
        "plt.imshow(wordcloud)\r\n",
        "plt.axis(off)\r\n",
        "plt.tight_layout(pad=0)\r\n",
        "plt.show"
      ],
      "execution_count": 27,
      "outputs": [
        {
          "output_type": "error",
          "ename": "NameError",
          "evalue": "ignored",
          "traceback": [
            "\u001b[0;31m---------------------------------------------------------------------------\u001b[0m",
            "\u001b[0;31mNameError\u001b[0m                                 Traceback (most recent call last)",
            "\u001b[0;32m<ipython-input-27-392a25217a6a>\u001b[0m in \u001b[0;36m<module>\u001b[0;34m()\u001b[0m\n\u001b[1;32m     10\u001b[0m \u001b[0;34m\u001b[0m\u001b[0m\n\u001b[1;32m     11\u001b[0m wordcloud = WordCloud(width=400, height=400, \n\u001b[0;32m---> 12\u001b[0;31m                       stopwords=STOP_WORDS, min_font_size=10).generate(corpus)\n\u001b[0m\u001b[1;32m     13\u001b[0m \u001b[0mplt\u001b[0m\u001b[0;34m.\u001b[0m\u001b[0mfigure\u001b[0m\u001b[0;34m(\u001b[0m\u001b[0mfigsize\u001b[0m\u001b[0;34m=\u001b[0m\u001b[0;34m(\u001b[0m\u001b[0;36m10\u001b[0m\u001b[0;34m,\u001b[0m\u001b[0;36m10\u001b[0m\u001b[0;34m)\u001b[0m\u001b[0;34m,\u001b[0m \u001b[0mfacecolor\u001b[0m\u001b[0;34m=\u001b[0m\u001b[0;32mNone\u001b[0m\u001b[0;34m)\u001b[0m\u001b[0;34m\u001b[0m\u001b[0;34m\u001b[0m\u001b[0m\n\u001b[1;32m     14\u001b[0m \u001b[0mplt\u001b[0m\u001b[0;34m.\u001b[0m\u001b[0mimshow\u001b[0m\u001b[0;34m(\u001b[0m\u001b[0mwordcloud\u001b[0m\u001b[0;34m)\u001b[0m\u001b[0;34m\u001b[0m\u001b[0;34m\u001b[0m\u001b[0m\n",
            "\u001b[0;31mNameError\u001b[0m: name 'corpus' is not defined"
          ]
        }
      ]
    },
    {
      "cell_type": "code",
      "metadata": {
        "colab": {
          "base_uri": "https://localhost:8080/"
        },
        "id": "I5VJkO43fXr9",
        "outputId": "bc1915fa-b803-4ad6-dcd9-fa688ae3257b"
      },
      "source": [
        "maxOthers = TicketOthersDF['Assignment group'].value_counts().max()\r\n",
        "maxOthers"
      ],
      "execution_count": 28,
      "outputs": [
        {
          "output_type": "execute_result",
          "data": {
            "text/plain": [
              "661"
            ]
          },
          "metadata": {
            "tags": []
          },
          "execution_count": 28
        }
      ]
    },
    {
      "cell_type": "code",
      "metadata": {
        "colab": {
          "base_uri": "https://localhost:8080/"
        },
        "id": "EP0WJuP1QRgR",
        "outputId": "c214cf56-ea1c-4eab-e37b-793a60a0803f"
      },
      "source": [
        "# Sampling\r\n",
        "from sklearn.utils import resample\r\n",
        "\r\n",
        "TicketOthersDF_resample = TicketOthersDF[0:0]\r\n",
        "\r\n",
        "for grp in TicketOthersDF['Assignment group'].unique():\r\n",
        "  print(grp)\r\n"
      ],
      "execution_count": 13,
      "outputs": [
        {
          "output_type": "stream",
          "text": [
            "GRP_1\n",
            "GRP_3\n",
            "GRP_4\n",
            "GRP_5\n",
            "GRP_6\n",
            "GRP_7\n",
            "GRP_8\n",
            "GRP_9\n",
            "GRP_10\n",
            "GRP_11\n",
            "GRP_12\n",
            "GRP_13\n",
            "GRP_14\n",
            "GRP_15\n",
            "GRP_16\n",
            "GRP_17\n",
            "GRP_18\n",
            "GRP_19\n",
            "GRP_2\n",
            "GRP_20\n",
            "GRP_21\n",
            "GRP_22\n",
            "GRP_23\n",
            "GRP_24\n",
            "GRP_25\n",
            "GRP_26\n",
            "GRP_27\n",
            "GRP_28\n",
            "GRP_29\n",
            "GRP_30\n",
            "GRP_31\n",
            "GRP_33\n",
            "GRP_34\n",
            "GRP_35\n",
            "GRP_36\n",
            "GRP_37\n",
            "GRP_38\n",
            "GRP_39\n",
            "GRP_40\n",
            "GRP_41\n",
            "GRP_42\n",
            "GRP_43\n",
            "GRP_44\n",
            "GRP_45\n",
            "GRP_46\n",
            "GRP_47\n",
            "GRP_48\n",
            "GRP_49\n",
            "GRP_50\n",
            "GRP_51\n",
            "GRP_52\n",
            "GRP_53\n",
            "GRP_54\n",
            "GRP_55\n",
            "GRP_56\n",
            "GRP_57\n",
            "GRP_58\n",
            "GRP_59\n",
            "GRP_60\n",
            "GRP_61\n",
            "GRP_32\n",
            "GRP_62\n",
            "GRP_63\n",
            "GRP_64\n",
            "GRP_65\n",
            "GRP_66\n",
            "GRP_67\n",
            "GRP_68\n",
            "GRP_69\n",
            "GRP_70\n",
            "GRP_71\n",
            "GRP_72\n",
            "GRP_73\n"
          ],
          "name": "stdout"
        }
      ]
    }
  ]
}