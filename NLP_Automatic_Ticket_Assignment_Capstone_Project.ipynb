{
  "nbformat": 4,
  "nbformat_minor": 0,
  "metadata": {
    "colab": {
      "name": "NLP_Automatic_Ticket_Assignment_Capstone_Project_Muthu.ipynb",
      "provenance": [],
      "collapsed_sections": []
    },
    "kernelspec": {
      "display_name": "Python 3",
      "language": "python",
      "name": "python3"
    },
    "language_info": {
      "codemirror_mode": {
        "name": "ipython",
        "version": 3
      },
      "file_extension": ".py",
      "mimetype": "text/x-python",
      "name": "python",
      "nbconvert_exporter": "python",
      "pygments_lexer": "ipython3",
      "version": "3.8.3"
    }
  },
  "cells": [
    {
      "cell_type": "code",
      "metadata": {
        "id": "5WyHKS0Jp8pn",
        "colab": {
          "base_uri": "https://localhost:8080/"
        },
        "outputId": "49b211ae-f649-4357-bfa0-f6edbc647655"
      },
      "source": [
        "import pandas as pd\n",
        "import numpy as np\n",
        "import sys, os\n",
        "import nltk\n",
        "import re\n",
        "from nltk.tokenize import RegexpTokenizer\n",
        "from nltk.stem import WordNetLemmatizer,LancasterStemmer\n",
        "from sklearn.feature_extraction.text import CountVectorizer\n",
        "from sklearn.feature_extraction.text import TfidfVectorizer\n",
        "from google.colab import files\n",
        "from sklearn.linear_model import LogisticRegression\n",
        "from sklearn.metrics import roc_auc_score\n",
        "from sklearn.metrics import precision_recall_fscore_support\n",
        "from sklearn.preprocessing import LabelEncoder\n",
        "from nltk.corpus import stopwords\n",
        "from textblob import TextBlob\n",
        "from google.colab import drive\n",
        "from pathlib import Path\n",
        "import matplotlib.pyplot as plt\n",
        "plt.style.use('seaborn')\n",
        "import seaborn as sns\n",
        "import warnings\n",
        "import logging\n",
        "import string\n",
        "nltk.download('reuters') # Downloading corpus\n",
        "nltk.download('stopwords') # Downloading stopwords\n",
        "nltk.download('punkt') # Downloading tokenizer\n",
        "nltk.download('wordnet')\n",
        "import warnings\n",
        "warnings.filterwarnings('ignore')"
      ],
      "execution_count": 111,
      "outputs": [
        {
          "output_type": "stream",
          "text": [
            "[nltk_data] Downloading package reuters to /root/nltk_data...\n",
            "[nltk_data]   Package reuters is already up-to-date!\n",
            "[nltk_data] Downloading package stopwords to /root/nltk_data...\n",
            "[nltk_data]   Package stopwords is already up-to-date!\n",
            "[nltk_data] Downloading package punkt to /root/nltk_data...\n",
            "[nltk_data]   Package punkt is already up-to-date!\n",
            "[nltk_data] Downloading package wordnet to /root/nltk_data...\n",
            "[nltk_data]   Package wordnet is already up-to-date!\n"
          ],
          "name": "stdout"
        }
      ]
    },
    {
      "cell_type": "code",
      "metadata": {
        "colab": {
          "resources": {
            "http://localhost:8080/nbextensions/google.colab/files.js": {
              "data": "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",
              "ok": true,
              "headers": [
                [
                  "content-type",
                  "application/javascript"
                ]
              ],
              "status": 200,
              "status_text": ""
            }
          },
          "base_uri": "https://localhost:8080/",
          "height": 72
        },
        "id": "hAFunumGcdFt",
        "outputId": "26bebf0d-903b-4aa0-8255-4ad3d3dc6e2c"
      },
      "source": [
        "uploaded = files.upload()"
      ],
      "execution_count": 112,
      "outputs": [
        {
          "output_type": "display_data",
          "data": {
            "text/html": [
              "\n",
              "     <input type=\"file\" id=\"files-20123860-3068-4d24-bc90-5830a8602c9f\" name=\"files[]\" multiple disabled\n",
              "        style=\"border:none\" />\n",
              "     <output id=\"result-20123860-3068-4d24-bc90-5830a8602c9f\">\n",
              "      Upload widget is only available when the cell has been executed in the\n",
              "      current browser session. Please rerun this cell to enable.\n",
              "      </output>\n",
              "      <script src=\"/nbextensions/google.colab/files.js\"></script> "
            ],
            "text/plain": [
              "<IPython.core.display.HTML object>"
            ]
          },
          "metadata": {
            "tags": []
          }
        },
        {
          "output_type": "stream",
          "text": [
            "Saving input_data.xlsx to input_data (2).xlsx\n"
          ],
          "name": "stdout"
        }
      ]
    },
    {
      "cell_type": "code",
      "metadata": {
        "id": "FNOdQD2GbeTv"
      },
      "source": [
        "logging.basicConfig(filename='app.log', filemode='w', format='%(asctime)s - %(name)s - %(levelname)s - %(message)s', level=logging.INFO)\n",
        "pd.set_option('display.max_colwidth', 0)\n",
        "#print(Path('app.log').read_text())"
      ],
      "execution_count": 137,
      "outputs": []
    },
    {
      "cell_type": "markdown",
      "metadata": {
        "id": "TjoA7MPMfP-V"
      },
      "source": [
        "## Read ticket data file as data frame"
      ]
    },
    {
      "cell_type": "code",
      "metadata": {
        "id": "xNDXMNQRqO2F"
      },
      "source": [
        "ticket_df = pd.read_excel('input_data.xlsx')"
      ],
      "execution_count": 171,
      "outputs": []
    },
    {
      "cell_type": "markdown",
      "metadata": {
        "id": "ySOinOJQfYsV"
      },
      "source": [
        "# Show head of the data"
      ]
    },
    {
      "cell_type": "code",
      "metadata": {
        "colab": {
          "base_uri": "https://localhost:8080/",
          "height": 306
        },
        "id": "PkpMk5eifVI5",
        "outputId": "7cf9cfbc-89cd-4cee-f88a-d72ac36416b2"
      },
      "source": [
        "ticket_df.head()"
      ],
      "execution_count": 172,
      "outputs": [
        {
          "output_type": "execute_result",
          "data": {
            "text/html": [
              "<div>\n",
              "<style scoped>\n",
              "    .dataframe tbody tr th:only-of-type {\n",
              "        vertical-align: middle;\n",
              "    }\n",
              "\n",
              "    .dataframe tbody tr th {\n",
              "        vertical-align: top;\n",
              "    }\n",
              "\n",
              "    .dataframe thead th {\n",
              "        text-align: right;\n",
              "    }\n",
              "</style>\n",
              "<table border=\"1\" class=\"dataframe\">\n",
              "  <thead>\n",
              "    <tr style=\"text-align: right;\">\n",
              "      <th></th>\n",
              "      <th>Short description</th>\n",
              "      <th>Description</th>\n",
              "      <th>Caller</th>\n",
              "      <th>Assignment group</th>\n",
              "    </tr>\n",
              "  </thead>\n",
              "  <tbody>\n",
              "    <tr>\n",
              "      <th>0</th>\n",
              "      <td>login issue</td>\n",
              "      <td>-verified user details.(employee# &amp; manager name)\\r\\n-checked the user name in ad and reset the password.\\r\\n-advised the user to login and check.\\r\\n-caller confirmed that he was able to login.\\r\\n-issue resolved.</td>\n",
              "      <td>spxjnwir pjlcoqds</td>\n",
              "      <td>GRP_0</td>\n",
              "    </tr>\n",
              "    <tr>\n",
              "      <th>1</th>\n",
              "      <td>outlook</td>\n",
              "      <td>\\r\\n\\r\\nreceived from: hmjdrvpb.komuaywn@gmail.com\\r\\n\\r\\nhello team,\\r\\n\\r\\nmy meetings/skype meetings etc are not appearing in my outlook calendar, can somebody please advise how to correct this?\\r\\n\\r\\nkind</td>\n",
              "      <td>hmjdrvpb komuaywn</td>\n",
              "      <td>GRP_0</td>\n",
              "    </tr>\n",
              "    <tr>\n",
              "      <th>2</th>\n",
              "      <td>cant log in to vpn</td>\n",
              "      <td>\\r\\n\\r\\nreceived from: eylqgodm.ybqkwiam@gmail.com\\r\\n\\r\\nhi\\r\\n\\r\\ni cannot log on to vpn\\r\\n\\r\\nbest</td>\n",
              "      <td>eylqgodm ybqkwiam</td>\n",
              "      <td>GRP_0</td>\n",
              "    </tr>\n",
              "    <tr>\n",
              "      <th>3</th>\n",
              "      <td>unable to access hr_tool page</td>\n",
              "      <td>unable to access hr_tool page</td>\n",
              "      <td>xbkucsvz gcpydteq</td>\n",
              "      <td>GRP_0</td>\n",
              "    </tr>\n",
              "    <tr>\n",
              "      <th>4</th>\n",
              "      <td>skype error</td>\n",
              "      <td>skype error</td>\n",
              "      <td>owlgqjme qhcozdfx</td>\n",
              "      <td>GRP_0</td>\n",
              "    </tr>\n",
              "  </tbody>\n",
              "</table>\n",
              "</div>"
            ],
            "text/plain": [
              "               Short description  ... Assignment group\n",
              "0  login issue                    ...  GRP_0          \n",
              "1  outlook                        ...  GRP_0          \n",
              "2  cant log in to vpn             ...  GRP_0          \n",
              "3  unable to access hr_tool page  ...  GRP_0          \n",
              "4  skype error                    ...  GRP_0          \n",
              "\n",
              "[5 rows x 4 columns]"
            ]
          },
          "metadata": {
            "tags": []
          },
          "execution_count": 172
        }
      ]
    },
    {
      "cell_type": "markdown",
      "metadata": {
        "id": "VpgHJ0LOferA"
      },
      "source": [
        "# Shape of the data"
      ]
    },
    {
      "cell_type": "code",
      "metadata": {
        "colab": {
          "base_uri": "https://localhost:8080/"
        },
        "id": "spBUN9KzuhGw",
        "outputId": "c5a47830-e558-4d69-f8f2-37e3314bfa5c"
      },
      "source": [
        "ticket_df.shape"
      ],
      "execution_count": 173,
      "outputs": [
        {
          "output_type": "execute_result",
          "data": {
            "text/plain": [
              "(8500, 4)"
            ]
          },
          "metadata": {
            "tags": []
          },
          "execution_count": 173
        }
      ]
    },
    {
      "cell_type": "markdown",
      "metadata": {
        "id": "TNie2LOhflPq"
      },
      "source": [
        "## Describe data"
      ]
    },
    {
      "cell_type": "code",
      "metadata": {
        "colab": {
          "base_uri": "https://localhost:8080/",
          "height": 173
        },
        "id": "5JjNpyUwulnL",
        "outputId": "78ffaaa2-4326-4957-8492-888bb96a540b"
      },
      "source": [
        "ticket_df.describe()"
      ],
      "execution_count": 174,
      "outputs": [
        {
          "output_type": "execute_result",
          "data": {
            "text/html": [
              "<div>\n",
              "<style scoped>\n",
              "    .dataframe tbody tr th:only-of-type {\n",
              "        vertical-align: middle;\n",
              "    }\n",
              "\n",
              "    .dataframe tbody tr th {\n",
              "        vertical-align: top;\n",
              "    }\n",
              "\n",
              "    .dataframe thead th {\n",
              "        text-align: right;\n",
              "    }\n",
              "</style>\n",
              "<table border=\"1\" class=\"dataframe\">\n",
              "  <thead>\n",
              "    <tr style=\"text-align: right;\">\n",
              "      <th></th>\n",
              "      <th>Short description</th>\n",
              "      <th>Description</th>\n",
              "      <th>Caller</th>\n",
              "      <th>Assignment group</th>\n",
              "    </tr>\n",
              "  </thead>\n",
              "  <tbody>\n",
              "    <tr>\n",
              "      <th>count</th>\n",
              "      <td>8492</td>\n",
              "      <td>8499</td>\n",
              "      <td>8500</td>\n",
              "      <td>8500</td>\n",
              "    </tr>\n",
              "    <tr>\n",
              "      <th>unique</th>\n",
              "      <td>7481</td>\n",
              "      <td>7817</td>\n",
              "      <td>2950</td>\n",
              "      <td>74</td>\n",
              "    </tr>\n",
              "    <tr>\n",
              "      <th>top</th>\n",
              "      <td>password reset</td>\n",
              "      <td>the</td>\n",
              "      <td>bpctwhsn kzqsbmtp</td>\n",
              "      <td>GRP_0</td>\n",
              "    </tr>\n",
              "    <tr>\n",
              "      <th>freq</th>\n",
              "      <td>38</td>\n",
              "      <td>56</td>\n",
              "      <td>810</td>\n",
              "      <td>3976</td>\n",
              "    </tr>\n",
              "  </tbody>\n",
              "</table>\n",
              "</div>"
            ],
            "text/plain": [
              "       Short description Description             Caller Assignment group\n",
              "count   8492              8499        8500               8500           \n",
              "unique  7481              7817        2950               74             \n",
              "top     password reset    the         bpctwhsn kzqsbmtp  GRP_0          \n",
              "freq    38                56          810                3976           "
            ]
          },
          "metadata": {
            "tags": []
          },
          "execution_count": 174
        }
      ]
    },
    {
      "cell_type": "markdown",
      "metadata": {
        "id": "H-3HX3RzfttF"
      },
      "source": [
        "# Find any Null values in the data "
      ]
    },
    {
      "cell_type": "code",
      "metadata": {
        "colab": {
          "base_uri": "https://localhost:8080/"
        },
        "id": "sASsUnyFu2ms",
        "outputId": "dcfea64a-28e5-48bd-d369-329e9f329565"
      },
      "source": [
        "ticket_df.isnull().sum()"
      ],
      "execution_count": 175,
      "outputs": [
        {
          "output_type": "execute_result",
          "data": {
            "text/plain": [
              "Short description    8\n",
              "Description          1\n",
              "Caller               0\n",
              "Assignment group     0\n",
              "dtype: int64"
            ]
          },
          "metadata": {
            "tags": []
          },
          "execution_count": 175
        }
      ]
    },
    {
      "cell_type": "code",
      "metadata": {
        "id": "euE-rapQQySf"
      },
      "source": [
        "ticket_df = ticket_df.fillna(\"\")"
      ],
      "execution_count": 176,
      "outputs": []
    },
    {
      "cell_type": "code",
      "metadata": {
        "colab": {
          "base_uri": "https://localhost:8080/"
        },
        "id": "IiqXJ0PVRIUZ",
        "outputId": "f2bc3360-3674-4b07-9753-0e7fa692f9a4"
      },
      "source": [
        "ticket_df.isnull().sum()"
      ],
      "execution_count": 177,
      "outputs": [
        {
          "output_type": "execute_result",
          "data": {
            "text/plain": [
              "Short description    0\n",
              "Description          0\n",
              "Caller               0\n",
              "Assignment group     0\n",
              "dtype: int64"
            ]
          },
          "metadata": {
            "tags": []
          },
          "execution_count": 177
        }
      ]
    },
    {
      "cell_type": "markdown",
      "metadata": {
        "id": "a5VvdGbjsZ-x"
      },
      "source": [
        "## Find any duplicate rows in the dataframe"
      ]
    },
    {
      "cell_type": "code",
      "metadata": {
        "colab": {
          "base_uri": "https://localhost:8080/"
        },
        "id": "_J2V6tQ6rEsk",
        "outputId": "f9174f51-7991-4ee2-dcde-17a7fc025c1b"
      },
      "source": [
        "duplicate = ticket_df[ticket_df.duplicated()]\n",
        "duplicate.shape"
      ],
      "execution_count": 178,
      "outputs": [
        {
          "output_type": "execute_result",
          "data": {
            "text/plain": [
              "(83, 4)"
            ]
          },
          "metadata": {
            "tags": []
          },
          "execution_count": 178
        }
      ]
    },
    {
      "cell_type": "code",
      "metadata": {
        "colab": {
          "base_uri": "https://localhost:8080/"
        },
        "id": "45GUGNXwsATu",
        "outputId": "cf90b5ed-9d92-4e61-f994-daaa92178fea"
      },
      "source": [
        "ticket_df.drop_duplicates(inplace=True)\n",
        "ticket_df.shape"
      ],
      "execution_count": 179,
      "outputs": [
        {
          "output_type": "execute_result",
          "data": {
            "text/plain": [
              "(8417, 4)"
            ]
          },
          "metadata": {
            "tags": []
          },
          "execution_count": 179
        }
      ]
    },
    {
      "cell_type": "markdown",
      "metadata": {
        "id": "4bjgc-Ffjdu2"
      },
      "source": [
        "## Analyze the distribution of Assignment Group"
      ]
    },
    {
      "cell_type": "code",
      "metadata": {
        "colab": {
          "base_uri": "https://localhost:8080/"
        },
        "id": "SBYbMqcmvnKt",
        "outputId": "32e046ed-ea8d-49c4-cf18-91acf05bf178"
      },
      "source": [
        "targetClassCnt=ticket_df['Assignment group'].value_counts()\n",
        "targetClassCnt.head()"
      ],
      "execution_count": 180,
      "outputs": [
        {
          "output_type": "execute_result",
          "data": {
            "text/plain": [
              "GRP_0     3934\n",
              "GRP_8     645 \n",
              "GRP_24    285 \n",
              "GRP_12    257 \n",
              "GRP_9     252 \n",
              "Name: Assignment group, dtype: int64"
            ]
          },
          "metadata": {
            "tags": []
          },
          "execution_count": 180
        }
      ]
    },
    {
      "cell_type": "code",
      "metadata": {
        "colab": {
          "base_uri": "https://localhost:8080/"
        },
        "id": "KV6NwP_qkyTj",
        "outputId": "0add7060-9640-4af6-a59c-501e7223e8aa"
      },
      "source": [
        "targetClassCnt.describe()"
      ],
      "execution_count": 181,
      "outputs": [
        {
          "output_type": "execute_result",
          "data": {
            "text/plain": [
              "count    74.000000  \n",
              "mean     113.743243 \n",
              "std      460.731077 \n",
              "min      1.000000   \n",
              "25%      5.250000   \n",
              "50%      26.000000  \n",
              "75%      81.000000  \n",
              "max      3934.000000\n",
              "Name: Assignment group, dtype: float64"
            ]
          },
          "metadata": {
            "tags": []
          },
          "execution_count": 181
        }
      ]
    },
    {
      "cell_type": "code",
      "metadata": {
        "colab": {
          "base_uri": "https://localhost:8080/",
          "height": 347
        },
        "id": "rpHALAZXk3AG",
        "outputId": "2579b4fc-b7aa-4aec-ab6e-128cbebb5579"
      },
      "source": [
        "descending_order = ticket_df['Assignment group'].value_counts().sort_values(ascending=False).index\n",
        "plt.subplots(figsize=(22,5))\n",
        "ax=sns.countplot(x='Assignment group', data=ticket_df,order=descending_order)\n",
        "ax.set_xticklabels(ax.get_xticklabels(), rotation=45, ha=\"right\")\n",
        "plt.tight_layout()\n",
        "plt.show()"
      ],
      "execution_count": 182,
      "outputs": [
        {
          "output_type": "display_data",
          "data": {
            "image/png": "[encoded data removed]",
            "text/plain": [
              "<Figure size 1584x360 with 1 Axes>"
            ]
          },
          "metadata": {
            "tags": []
          }
        }
      ]
    },
    {
      "cell_type": "markdown",
      "metadata": {
        "id": "qeczsRJ9md8F"
      },
      "source": [
        "The above plot shows the distribution of all assignment groups"
      ]
    },
    {
      "cell_type": "code",
      "metadata": {
        "colab": {
          "base_uri": "https://localhost:8080/",
          "height": 347
        },
        "id": "w0suaYYXmezr",
        "outputId": "38bb4d62-0b37-42f0-dfd5-20ec230d0ea3"
      },
      "source": [
        "descending_order = ticket_df['Assignment group'].value_counts().sort_values(ascending=False).index\n",
        "plt.subplots(figsize=(22,5))\n",
        "ax=sns.countplot(x='Assignment group', data=ticket_df,order=descending_order[5:])\n",
        "ax.set_xticklabels(ax.get_xticklabels(), rotation=45, ha=\"right\")\n",
        "plt.tight_layout()\n",
        "plt.show()"
      ],
      "execution_count": 183,
      "outputs": [
        {
          "output_type": "display_data",
          "data": {
            "image/png": "[encoded data removed]",
            "text/plain": [
              "<Figure size 1584x360 with 1 Axes>"
            ]
          },
          "metadata": {
            "tags": []
          }
        }
      ]
    },
    {
      "cell_type": "markdown",
      "metadata": {
        "id": "1KnATU2ymrxw"
      },
      "source": [
        "The above plot shows the distribution of all assignment groups excluding top 5"
      ]
    },
    {
      "cell_type": "code",
      "metadata": {
        "colab": {
          "base_uri": "https://localhost:8080/",
          "height": 347
        },
        "id": "roV09VWImv9m",
        "outputId": "8a931681-64c2-4b91-9666-25bbadd7189f"
      },
      "source": [
        "descending_order = ticket_df['Assignment group'].value_counts().sort_values(ascending=False).index\n",
        "plt.subplots(figsize=(22,5))\n",
        "ax=sns.countplot(x='Assignment group', data=ticket_df,order=descending_order[-20:])\n",
        "ax.set_xticklabels(ax.get_xticklabels(), rotation=45, ha=\"right\")\n",
        "plt.tight_layout()\n",
        "plt.show()"
      ],
      "execution_count": 184,
      "outputs": [
        {
          "output_type": "display_data",
          "data": {
            "image/png": "[encoded data removed]",
            "text/plain": [
              "<Figure size 1584x360 with 1 Axes>"
            ]
          },
          "metadata": {
            "tags": []
          }
        }
      ]
    },
    {
      "cell_type": "markdown",
      "metadata": {
        "id": "YNot-IhzpYrN"
      },
      "source": [
        "The above plot shows the distribution of bottom most 20 assignment groups .\n",
        "\n",
        "As there are groups with just one ticket, we can club together all groups with less than 3 records into one group and analyze the data"
      ]
    },
    {
      "cell_type": "code",
      "metadata": {
        "colab": {
          "base_uri": "https://localhost:8080/"
        },
        "id": "RNL1L8PfpplX",
        "outputId": "b8705c9c-7c59-46f5-b528-cfcaefee2f77"
      },
      "source": [
        "asnGroupBy = ticket_df.groupby(['Assignment group'])\n",
        "others=[]\n",
        "for grp in ticket_df['Assignment group'].unique():\n",
        "  if(asnGroupBy.get_group(grp).shape[0]<5):\n",
        "    others.append(grp)\n",
        "print('Found {} groups which have under 5 samples'.format(len(others)))\n",
        "ticket_df['Assignment group']=ticket_df['Assignment group'].apply(lambda x : 'OTHERS' if x in others  else x)\n",
        "\n",
        "ticket_df['Assignment group'].unique()"
      ],
      "execution_count": 185,
      "outputs": [
        {
          "output_type": "stream",
          "text": [
            "Found 16 groups which have under 3 samples\n"
          ],
          "name": "stdout"
        },
        {
          "output_type": "execute_result",
          "data": {
            "text/plain": [
              "array(['GRP_0', 'GRP_1', 'GRP_3', 'GRP_4', 'GRP_5', 'GRP_6', 'GRP_7',\n",
              "       'GRP_8', 'GRP_9', 'GRP_10', 'GRP_11', 'GRP_12', 'GRP_13', 'GRP_14',\n",
              "       'GRP_15', 'GRP_16', 'GRP_17', 'GRP_18', 'GRP_19', 'GRP_2',\n",
              "       'GRP_20', 'GRP_21', 'GRP_22', 'GRP_23', 'GRP_24', 'GRP_25',\n",
              "       'GRP_26', 'GRP_27', 'GRP_28', 'GRP_29', 'GRP_30', 'GRP_31',\n",
              "       'GRP_33', 'GRP_34', 'OTHERS', 'GRP_36', 'GRP_37', 'GRP_39',\n",
              "       'GRP_40', 'GRP_41', 'GRP_42', 'GRP_43', 'GRP_44', 'GRP_45',\n",
              "       'GRP_46', 'GRP_47', 'GRP_48', 'GRP_49', 'GRP_50', 'GRP_51',\n",
              "       'GRP_52', 'GRP_53', 'GRP_55', 'GRP_59', 'GRP_60', 'GRP_32',\n",
              "       'GRP_62', 'GRP_65', 'GRP_66'], dtype=object)"
            ]
          },
          "metadata": {
            "tags": []
          },
          "execution_count": 185
        }
      ]
    },
    {
      "cell_type": "markdown",
      "metadata": {
        "id": "7CK0RWtCso1x"
      },
      "source": [
        "## Analyse the distribution of Callers"
      ]
    },
    {
      "cell_type": "code",
      "metadata": {
        "colab": {
          "base_uri": "https://localhost:8080/"
        },
        "id": "_8oEN5nssqjH",
        "outputId": "4dcd45b9-aa6e-4bea-a187-15a3471c0031"
      },
      "source": [
        "callers = ticket_df['Caller'].unique() \n",
        "callers.shape"
      ],
      "execution_count": 186,
      "outputs": [
        {
          "output_type": "execute_result",
          "data": {
            "text/plain": [
              "(2950,)"
            ]
          },
          "metadata": {
            "tags": []
          },
          "execution_count": 186
        }
      ]
    },
    {
      "cell_type": "code",
      "metadata": {
        "colab": {
          "base_uri": "https://localhost:8080/"
        },
        "id": "5mDZHoR3st9z",
        "outputId": "855ab0e9-ddfa-49e5-f8c9-767e56eebb56"
      },
      "source": [
        "callersCntDF = ticket_df['Caller'].value_counts()\n",
        "print(callersCntDF.describe())\n",
        "callersCntDF.head()"
      ],
      "execution_count": 187,
      "outputs": [
        {
          "output_type": "stream",
          "text": [
            "count    2950.000000\n",
            "mean     2.853220   \n",
            "std      15.416578  \n",
            "min      1.000000   \n",
            "25%      1.000000   \n",
            "50%      2.000000   \n",
            "75%      3.000000   \n",
            "max      788.000000 \n",
            "Name: Caller, dtype: float64\n"
          ],
          "name": "stdout"
        },
        {
          "output_type": "execute_result",
          "data": {
            "text/plain": [
              "bpctwhsn kzqsbmtp    788\n",
              "ZkBogxib QsEJzdZO    151\n",
              "fumkcsji sarmtlhy    128\n",
              "rbozivdq gmlhrtvp    72 \n",
              "rkupnshb gsmzfojw    71 \n",
              "Name: Caller, dtype: int64"
            ]
          },
          "metadata": {
            "tags": []
          },
          "execution_count": 187
        }
      ]
    },
    {
      "cell_type": "code",
      "metadata": {
        "colab": {
          "base_uri": "https://localhost:8080/",
          "height": 364
        },
        "id": "Gn8kKCJKs0z4",
        "outputId": "33351ffc-a6f9-443e-da54-2ab047b106df"
      },
      "source": [
        "callersCntDF.hist(bins=100,range=(0,50))"
      ],
      "execution_count": 212,
      "outputs": [
        {
          "output_type": "execute_result",
          "data": {
            "text/plain": [
              "<matplotlib.axes._subplots.AxesSubplot at 0x7f7f3b069ba8>"
            ]
          },
          "metadata": {
            "tags": []
          },
          "execution_count": 212
        },
        {
          "output_type": "display_data",
          "data": {
            "image/png": "[encoded data removed]",
            "text/plain": [
              "<Figure size 576x396 with 1 Axes>"
            ]
          },
          "metadata": {
            "tags": []
          }
        }
      ]
    },
    {
      "cell_type": "markdown",
      "metadata": {
        "id": "5uNr6ekhs85A"
      },
      "source": [
        "Observation: The number of callers who reported more than 10 tickets is very less. And most of the callers have reported 1-2 tickets"
      ]
    },
    {
      "cell_type": "code",
      "metadata": {
        "colab": {
          "base_uri": "https://localhost:8080/",
          "height": 1000
        },
        "id": "h9UKICXCs_Y6",
        "outputId": "99fe795e-30f2-417d-9449-01011bf93e80"
      },
      "source": [
        "# look at distribution of Assignment Group for 10 most frequent callers\n",
        "top_10_callers = callersCntDF.index[:10]\n",
        "for caller in top_10_callers:\n",
        "  assignment_groups = ticket_df[ticket_df['Caller']==caller]['Assignment group']\n",
        "  plt.figure(figsize=(22,5))\n",
        "  assignment_groups.hist()\n",
        "  ax.set_xticklabels(ax.get_xticklabels(), rotation=45, ha=\"right\")\n",
        "  plt.tight_layout()\n",
        "  plt.show()"
      ],
      "execution_count": 189,
      "outputs": [
        {
          "output_type": "display_data",
          "data": {
            "image/png": "[encoded data removed]",
            "text/plain": [
              "<Figure size 1584x360 with 1 Axes>"
            ]
          },
          "metadata": {
            "tags": []
          }
        },
        {
          "output_type": "display_data",
          "data": {
            "image/png": "[encoded data removed]",
            "text/plain": [
              "<Figure size 1584x360 with 1 Axes>"
            ]
          },
          "metadata": {
            "tags": []
          }
        },
        {
          "output_type": "display_data",
          "data": {
            "image/png": "[encoded data removed]",
            "text/plain": [
              "<Figure size 1584x360 with 1 Axes>"
            ]
          },
          "metadata": {
            "tags": []
          }
        },
        {
          "output_type": "display_data",
          "data": {
            "image/png": "[encoded data removed]",
            "text/plain": [
              "<Figure size 1584x360 with 1 Axes>"
            ]
          },
          "metadata": {
            "tags": []
          }
        },
        {
          "output_type": "display_data",
          "data": {
            "image/png": "[encoded data removed]",
            "text/plain": [
              "<Figure size 1584x360 with 1 Axes>"
            ]
          },
          "metadata": {
            "tags": []
          }
        },
        {
          "output_type": "display_data",
          "data": {
            "image/png": "[encoded data removed]",
            "text/plain": [
              "<Figure size 1584x360 with 1 Axes>"
            ]
          },
          "metadata": {
            "tags": []
          }
        },
        {
          "output_type": "display_data",
          "data": {
            "image/png": "[encoded data removed]",
            "text/plain": [
              "<Figure size 1584x360 with 1 Axes>"
            ]
          },
          "metadata": {
            "tags": []
          }
        },
        {
          "output_type": "display_data",
          "data": {
            "image/png": "[encoded data removed]",
            "text/plain": [
              "<Figure size 1584x360 with 1 Axes>"
            ]
          },
          "metadata": {
            "tags": []
          }
        },
        {
          "output_type": "display_data",
          "data": {
            "image/png": "[encoded data removed]",
            "text/plain": [
              "<Figure size 1584x360 with 1 Axes>"
            ]
          },
          "metadata": {
            "tags": []
          }
        },
        {
          "output_type": "display_data",
          "data": {
            "image/png": "[encoded data removed]",
            "text/plain": [
              "<Figure size 1584x360 with 1 Axes>"
            ]
          },
          "metadata": {
            "tags": []
          }
        }
      ]
    },
    {
      "cell_type": "markdown",
      "metadata": {
        "id": "Cqb0r9oM0DzA"
      },
      "source": [
        "Observation: The most frequent caller has raised tickets for a variety of Assignment groups. Therefore, we will consider caller name in our models"
      ]
    },
    {
      "cell_type": "code",
      "metadata": {
        "colab": {
          "base_uri": "https://localhost:8080/",
          "height": 351
        },
        "id": "TURcss3S0x78",
        "outputId": "e73fa722-c22c-44d6-9b90-2989f848ed40"
      },
      "source": [
        "ticket_df_grp0 = ticket_df.copy()\n",
        "ticket_df_grp0['Assignment group']=ticket_df_grp0['Assignment group'].apply(lambda x : 'other' if x != 'GRP_0'  else x)\n",
        "\n",
        "descending_order = ticket_df_grp0['Assignment group'].value_counts().sort_values(ascending=False).index\n",
        "plt.subplots(figsize=(5,5))\n",
        "sns.countplot(x='Assignment group', data=ticket_df_grp0, color='royalblue',order=descending_order)"
      ],
      "execution_count": 190,
      "outputs": [
        {
          "output_type": "execute_result",
          "data": {
            "text/plain": [
              "<matplotlib.axes._subplots.AxesSubplot at 0x7f7f3f440a58>"
            ]
          },
          "metadata": {
            "tags": []
          },
          "execution_count": 190
        },
        {
          "output_type": "display_data",
          "data": {
            "image/png": "[encoded data removed]",
            "text/plain": [
              "<Figure size 360x360 with 1 Axes>"
            ]
          },
          "metadata": {
            "tags": []
          }
        }
      ]
    },
    {
      "cell_type": "markdown",
      "metadata": {
        "id": "kleR_jUo0_4z"
      },
      "source": [
        "Observation: The above plot shows the distribution of samples of GRP_0 vs all other groups combined. We need to fix the imbalance in the data using data augmentation techniques"
      ]
    },
    {
      "cell_type": "code",
      "metadata": {
        "colab": {
          "base_uri": "https://localhost:8080/"
        },
        "id": "QqHiQ4p164B3",
        "outputId": "b716ded0-c2fc-45c5-899a-25b4e9e45602"
      },
      "source": [
        "sd_lengths = ticket_df['Short description'].map(len)\n",
        "sd_lengths.describe()"
      ],
      "execution_count": 191,
      "outputs": [
        {
          "output_type": "execute_result",
          "data": {
            "text/plain": [
              "count    8417.000000\n",
              "mean     47.253059  \n",
              "std      27.068818  \n",
              "min      0.000000   \n",
              "25%      26.000000  \n",
              "50%      41.000000  \n",
              "75%      62.000000  \n",
              "max      159.000000 \n",
              "Name: Short description, dtype: float64"
            ]
          },
          "metadata": {
            "tags": []
          },
          "execution_count": 191
        }
      ]
    },
    {
      "cell_type": "code",
      "metadata": {
        "colab": {
          "base_uri": "https://localhost:8080/",
          "height": 364
        },
        "id": "LyXD92VtAB_n",
        "outputId": "6c46907c-22e5-47b7-ae8a-c58ae93e28c0"
      },
      "source": [
        "sd_lengths.hist()"
      ],
      "execution_count": 192,
      "outputs": [
        {
          "output_type": "execute_result",
          "data": {
            "text/plain": [
              "<matplotlib.axes._subplots.AxesSubplot at 0x7f7f3f4c2048>"
            ]
          },
          "metadata": {
            "tags": []
          },
          "execution_count": 192
        },
        {
          "output_type": "display_data",
          "data": {
            "image/png": "[encoded data removed]",
            "text/plain": [
              "<Figure size 576x396 with 1 Axes>"
            ]
          },
          "metadata": {
            "tags": []
          }
        }
      ]
    },
    {
      "cell_type": "code",
      "metadata": {
        "colab": {
          "base_uri": "https://localhost:8080/"
        },
        "id": "uIfDjg2qAGBP",
        "outputId": "b289bc7e-305f-45f3-8fb2-b3cdcd3739fd"
      },
      "source": [
        "sd_lengths.value_counts()[-20:]"
      ],
      "execution_count": 193,
      "outputs": [
        {
          "output_type": "execute_result",
          "data": {
            "text/plain": [
              "131    3\n",
              "127    3\n",
              "133    3\n",
              "125    3\n",
              "145    2\n",
              "141    2\n",
              "137    2\n",
              "144    2\n",
              "135    2\n",
              "159    2\n",
              "138    1\n",
              "2      1\n",
              "151    1\n",
              "140    1\n",
              "1      1\n",
              "136    1\n",
              "149    1\n",
              "134    1\n",
              "142    1\n",
              "150    1\n",
              "Name: Short description, dtype: int64"
            ]
          },
          "metadata": {
            "tags": []
          },
          "execution_count": 193
        }
      ]
    },
    {
      "cell_type": "markdown",
      "metadata": {
        "id": "14SxHGrhAopV"
      },
      "source": [
        "Description: There are some single character short descriptions as well. However majority of the short description is not beyound 62 characters"
      ]
    },
    {
      "cell_type": "code",
      "metadata": {
        "colab": {
          "base_uri": "https://localhost:8080/"
        },
        "id": "2yYaAiTHA9-s",
        "outputId": "22e63567-4711-4504-8306-2ec0628c0a30"
      },
      "source": [
        "ld_lengths = ticket_df['Description'].map(len)\n",
        "ld_lengths.describe()"
      ],
      "execution_count": 194,
      "outputs": [
        {
          "output_type": "execute_result",
          "data": {
            "text/plain": [
              "count    8417.000000 \n",
              "mean     205.498753  \n",
              "std      521.952353  \n",
              "min      0.000000    \n",
              "25%      42.000000   \n",
              "50%      106.000000  \n",
              "75%      203.000000  \n",
              "max      13001.000000\n",
              "Name: Description, dtype: float64"
            ]
          },
          "metadata": {
            "tags": []
          },
          "execution_count": 194
        }
      ]
    },
    {
      "cell_type": "code",
      "metadata": {
        "colab": {
          "base_uri": "https://localhost:8080/",
          "height": 364
        },
        "id": "Q-oXCaarBEmB",
        "outputId": "2d23fd2a-5aa5-4c1c-8a51-62b2ce297b16"
      },
      "source": [
        "ld_lengths.hist(bins=100,range=(0,2000))"
      ],
      "execution_count": 214,
      "outputs": [
        {
          "output_type": "execute_result",
          "data": {
            "text/plain": [
              "<matplotlib.axes._subplots.AxesSubplot at 0x7f7f3f5aca20>"
            ]
          },
          "metadata": {
            "tags": []
          },
          "execution_count": 214
        },
        {
          "output_type": "display_data",
          "data": {
            "image/png": "[encoded data removed]",
            "text/plain": [
              "<Figure size 576x396 with 1 Axes>"
            ]
          },
          "metadata": {
            "tags": []
          }
        }
      ]
    },
    {
      "cell_type": "code",
      "metadata": {
        "colab": {
          "base_uri": "https://localhost:8080/"
        },
        "id": "NY9kuCdbBSrG",
        "outputId": "5e29894b-e720-45b3-b982-d55b65c66290"
      },
      "source": [
        "ld_lengths.value_counts()[-20:]"
      ],
      "execution_count": 196,
      "outputs": [
        {
          "output_type": "execute_result",
          "data": {
            "text/plain": [
              "1347    1\n",
              "1379    1\n",
              "1387    1\n",
              "1515    1\n",
              "1659    1\n",
              "1795    1\n",
              "644     1\n",
              "1839    1\n",
              "4286    1\n",
              "2293    1\n",
              "388     1\n",
              "468     1\n",
              "516     1\n",
              "532     1\n",
              "564     1\n",
              "588     1\n",
              "596     1\n",
              "612     1\n",
              "628     1\n",
              "0       1\n",
              "Name: Description, dtype: int64"
            ]
          },
          "metadata": {
            "tags": []
          },
          "execution_count": 196
        }
      ]
    },
    {
      "cell_type": "markdown",
      "metadata": {
        "id": "-WFkNlNEBmHT"
      },
      "source": [
        "Description: There are some single character descriptions as well. However majority of the short description is not beyound 201 characters"
      ]
    },
    {
      "cell_type": "code",
      "metadata": {
        "colab": {
          "base_uri": "https://localhost:8080/",
          "height": 297
        },
        "id": "qF-hc6U2CRFY",
        "outputId": "0bb74bb1-d4d1-405b-c83a-6e54539ccbe0"
      },
      "source": [
        "ticket_df_temp =  ticket_df.copy()\n",
        "ticket_df_temp['num_words'] = ticket_df['Description'].apply(lambda x : len(x.split()))\n",
        "ticket_df_temp.describe()"
      ],
      "execution_count": 197,
      "outputs": [
        {
          "output_type": "execute_result",
          "data": {
            "text/html": [
              "<div>\n",
              "<style scoped>\n",
              "    .dataframe tbody tr th:only-of-type {\n",
              "        vertical-align: middle;\n",
              "    }\n",
              "\n",
              "    .dataframe tbody tr th {\n",
              "        vertical-align: top;\n",
              "    }\n",
              "\n",
              "    .dataframe thead th {\n",
              "        text-align: right;\n",
              "    }\n",
              "</style>\n",
              "<table border=\"1\" class=\"dataframe\">\n",
              "  <thead>\n",
              "    <tr style=\"text-align: right;\">\n",
              "      <th></th>\n",
              "      <th>num_words</th>\n",
              "    </tr>\n",
              "  </thead>\n",
              "  <tbody>\n",
              "    <tr>\n",
              "      <th>count</th>\n",
              "      <td>8417.000000</td>\n",
              "    </tr>\n",
              "    <tr>\n",
              "      <th>mean</th>\n",
              "      <td>27.471902</td>\n",
              "    </tr>\n",
              "    <tr>\n",
              "      <th>std</th>\n",
              "      <td>65.319593</td>\n",
              "    </tr>\n",
              "    <tr>\n",
              "      <th>min</th>\n",
              "      <td>0.000000</td>\n",
              "    </tr>\n",
              "    <tr>\n",
              "      <th>25%</th>\n",
              "      <td>6.000000</td>\n",
              "    </tr>\n",
              "    <tr>\n",
              "      <th>50%</th>\n",
              "      <td>11.000000</td>\n",
              "    </tr>\n",
              "    <tr>\n",
              "      <th>75%</th>\n",
              "      <td>28.000000</td>\n",
              "    </tr>\n",
              "    <tr>\n",
              "      <th>max</th>\n",
              "      <td>1625.000000</td>\n",
              "    </tr>\n",
              "  </tbody>\n",
              "</table>\n",
              "</div>"
            ],
            "text/plain": [
              "         num_words\n",
              "count  8417.000000\n",
              "mean   27.471902  \n",
              "std    65.319593  \n",
              "min    0.000000   \n",
              "25%    6.000000   \n",
              "50%    11.000000  \n",
              "75%    28.000000  \n",
              "max    1625.000000"
            ]
          },
          "metadata": {
            "tags": []
          },
          "execution_count": 197
        }
      ]
    },
    {
      "cell_type": "code",
      "metadata": {
        "colab": {
          "base_uri": "https://localhost:8080/",
          "height": 393
        },
        "id": "RUVHOBpyCgIA",
        "outputId": "22959294-172d-40d5-bff2-05ca9cda3341"
      },
      "source": [
        "ticket_df_temp['bins']=pd.cut(ticket_df_temp.num_words, bins=[0,100,300,500,800, np.inf], labels=['0-100', '100-300', '300-500','500-800' ,'>800'])\n",
        "word_distribution = ticket_df_temp.groupby('bins').size().reset_index().rename(columns={0:'counts'})\n",
        "sns.barplot(x='bins', y='counts', data=word_distribution).set_title(\"Word distribution per bin\")"
      ],
      "execution_count": 198,
      "outputs": [
        {
          "output_type": "execute_result",
          "data": {
            "text/plain": [
              "Text(0.5, 1.0, 'Word distribution per bin')"
            ]
          },
          "metadata": {
            "tags": []
          },
          "execution_count": 198
        },
        {
          "output_type": "display_data",
          "data": {
            "image/png": "[encoded data removed]",
            "text/plain": [
              "<Figure size 576x396 with 1 Axes>"
            ]
          },
          "metadata": {
            "tags": []
          }
        }
      ]
    },
    {
      "cell_type": "markdown",
      "metadata": {
        "id": "9LEZ4Wh4Cxxj"
      },
      "source": [
        "Observation: Most of the samples had word count within 100"
      ]
    },
    {
      "cell_type": "code",
      "metadata": {
        "id": "oAtExPV5beTx"
      },
      "source": [
        "class PreProcessing:\n",
        "    lemmatizer=\"\"\n",
        "    stemmer =\"\"\n",
        "    tokenizer=\"\"\n",
        "    def __init__(self):\n",
        "        self.lemmatizer = WordNetLemmatizer()\n",
        "        self.stemmer = LancasterStemmer()\n",
        "        self.tokenizer = RegexpTokenizer(r'\\w+')\n",
        "    \n",
        "    def data_clean(self, sentence):\n",
        "      if pd.isnull(sentence):\n",
        "        return sentence\n",
        "      sentence= sentence.lower()\n",
        "      sentence = ' '.join([w for w in sentence.split() if not self.is_valid_date(w)])\n",
        "      sentence = re.sub(r\"received from:\",' ',sentence)\n",
        "      sentence = re.sub(r\"select the following link to view the disclaimer in an alternate language.\",' ',sentence)\n",
        "      sentence = re.sub(r\"from:\",' ',sentence)\n",
        "      sentence = re.sub(r\"to:\",' ',sentence)\n",
        "      sentence = re.sub(r\"subject:\",' ',sentence)\n",
        "      sentence = re.sub(r\"re:\",' ',sentence)\n",
        "      sentence = re.sub(r\"fw:\",' ',sentence)\n",
        "      sentence = re.sub(r\"sent:\",' ',sentence)\n",
        "      sentence = re.sub(r\"ic:\",' ',sentence)\n",
        "      sentence = re.sub(r\"cc:\",' ',sentence)\n",
        "      sentence = re.sub(r\"bcc:\",' ',sentence)\n",
        "      #Remove email \n",
        "      sentence = re.sub(r'\\S*@\\S*\\s?', '', sentence)\n",
        "      # Remove underscores\n",
        "      sentence = re.sub(r'\\_',' ', sentence)\n",
        "\n",
        "      # Remove new line characters \n",
        "      sentence = re.sub(r'\\n',' ',sentence)\n",
        "      # Remove hashtag while keeping hashtag sentence\n",
        "      sentence = re.sub(r'#','', sentence)\n",
        "      #& \n",
        "      sentence = re.sub(r'&;?', 'and',sentence)\n",
        "      # Remove HTML special entities (e.g. &amp;)\n",
        "      sentence = re.sub(r'\\&\\w*;', '', sentence)\n",
        "      # Remove hyperlinks\n",
        "      sentence = re.sub(r'https?:\\/\\/.*\\/\\w*', '', sentence)  \n",
        "      # Remove characters beyond Readable formart by Unicode:\n",
        "      sentence= ''.join(c for c in sentence if c <= '\\uFFFF') \n",
        "      sentence = sentence.strip()\n",
        "      # Remove unreadable characters  (also extra spaces)\n",
        "      sentence = ' '.join(re.sub(\"[^\\u0030-\\u0039\\u0041-\\u005a\\u0061-\\u007a]\", \" \", sentence).split())\n",
        "\n",
        "      # Single character      \n",
        "      sentence = re.sub(r\"\\s+[a-zA-Z]\\s+\", ' ', sentence)\n",
        "      sentence = sentence.strip()\n",
        "      return sentence\n",
        "    \n",
        "    def is_valid_date(self,date_str):\n",
        "      try:\n",
        "        parser.parse(date_str)\n",
        "        return True\n",
        "      except:\n",
        "        return False\n",
        "    \n",
        "    def mergeColumns(self, df):\n",
        "        df['desc']=df['Short description'] + \" \" + df['Description'] + \" \" + df['Caller']\n",
        "        df.drop(\"Short description\", axis=1, inplace=True)\n",
        "        df.drop(\"Description\", axis=1, inplace=True)\n",
        "        df.drop(\"Caller\", axis=1, inplace=True)\n",
        "        return df\n",
        "\n",
        "    def remove_punctuation(self, sentence):\n",
        "      try:\n",
        "        no_punct = \"\".join([c for c in sentence if c not in string.punctuation])\n",
        "        return no_punct\n",
        "      except:\n",
        "        print(\"remove_punctuation: sentence,\",sentence)\n",
        "        return sentence\n",
        "\n",
        "    def make_tokens(self, sentence):\n",
        "      return self.tokenizer.tokenize(sentence.lower())\n",
        "\n",
        "    def remove_stopwords(self, words):\n",
        "      return [w for w in words if w not in stopwords.words('english')]\n",
        "\n",
        "    def word_lemmatize(self, words):\n",
        "      return [self.lemmatizer.lemmatize(item) for item in words]\n",
        "\n",
        "\n",
        "preProcessing=PreProcessing()"
      ],
      "execution_count": 199,
      "outputs": []
    },
    {
      "cell_type": "code",
      "metadata": {
        "id": "iKjfHjjKbeTz"
      },
      "source": [
        "ticket_df=preProcessing.mergeColumns(ticket_df)\n",
        "ticket_df['desc_clean'] = ticket_df['desc'].apply(preProcessing.data_clean)"
      ],
      "execution_count": 200,
      "outputs": []
    },
    {
      "cell_type": "code",
      "metadata": {
        "colab": {
          "base_uri": "https://localhost:8080/",
          "height": 306
        },
        "id": "Df_PJ0xgbeTz",
        "outputId": "f239e1d7-5036-45a3-c26a-d4c9d5e243fc"
      },
      "source": [
        "ticket_df.head()"
      ],
      "execution_count": 201,
      "outputs": [
        {
          "output_type": "execute_result",
          "data": {
            "text/html": [
              "<div>\n",
              "<style scoped>\n",
              "    .dataframe tbody tr th:only-of-type {\n",
              "        vertical-align: middle;\n",
              "    }\n",
              "\n",
              "    .dataframe tbody tr th {\n",
              "        vertical-align: top;\n",
              "    }\n",
              "\n",
              "    .dataframe thead th {\n",
              "        text-align: right;\n",
              "    }\n",
              "</style>\n",
              "<table border=\"1\" class=\"dataframe\">\n",
              "  <thead>\n",
              "    <tr style=\"text-align: right;\">\n",
              "      <th></th>\n",
              "      <th>Assignment group</th>\n",
              "      <th>desc</th>\n",
              "      <th>desc_clean</th>\n",
              "    </tr>\n",
              "  </thead>\n",
              "  <tbody>\n",
              "    <tr>\n",
              "      <th>0</th>\n",
              "      <td>GRP_0</td>\n",
              "      <td>login issue -verified user details.(employee# &amp; manager name)\\r\\n-checked the user name in ad and reset the password.\\r\\n-advised the user to login and check.\\r\\n-caller confirmed that he was able to login.\\r\\n-issue resolved. spxjnwir pjlcoqds</td>\n",
              "      <td>login issue verified user details employee and manager name checked the user name in ad and reset the password advised the user to login and check caller confirmed that he was able to login issue resolved spxjnwir pjlcoqds</td>\n",
              "    </tr>\n",
              "    <tr>\n",
              "      <th>1</th>\n",
              "      <td>GRP_0</td>\n",
              "      <td>outlook \\r\\n\\r\\nreceived from: hmjdrvpb.komuaywn@gmail.com\\r\\n\\r\\nhello team,\\r\\n\\r\\nmy meetings/skype meetings etc are not appearing in my outlook calendar, can somebody please advise how to correct this?\\r\\n\\r\\nkind  hmjdrvpb komuaywn</td>\n",
              "      <td>outlook hello team my meetings skype meetings etc are not appearing in my outlook calendar can somebody please advise how to correct this kind hmjdrvpb komuaywn</td>\n",
              "    </tr>\n",
              "    <tr>\n",
              "      <th>2</th>\n",
              "      <td>GRP_0</td>\n",
              "      <td>cant log in to vpn \\r\\n\\r\\nreceived from: eylqgodm.ybqkwiam@gmail.com\\r\\n\\r\\nhi\\r\\n\\r\\ni cannot log on to vpn\\r\\n\\r\\nbest  eylqgodm ybqkwiam</td>\n",
              "      <td>cant log in to vpn hi cannot log on to vpn best eylqgodm ybqkwiam</td>\n",
              "    </tr>\n",
              "    <tr>\n",
              "      <th>3</th>\n",
              "      <td>GRP_0</td>\n",
              "      <td>unable to access hr_tool page unable to access hr_tool page xbkucsvz gcpydteq</td>\n",
              "      <td>unable to access hr tool page unable to access hr tool page xbkucsvz gcpydteq</td>\n",
              "    </tr>\n",
              "    <tr>\n",
              "      <th>4</th>\n",
              "      <td>GRP_0</td>\n",
              "      <td>skype error  skype error  owlgqjme qhcozdfx</td>\n",
              "      <td>skype error skype error owlgqjme qhcozdfx</td>\n",
              "    </tr>\n",
              "  </tbody>\n",
              "</table>\n",
              "</div>"
            ],
            "text/plain": [
              "  Assignment group  ...                                                                                                                                                                                                                      desc_clean\n",
              "0  GRP_0            ...  login issue verified user details employee and manager name checked the user name in ad and reset the password advised the user to login and check caller confirmed that he was able to login issue resolved spxjnwir pjlcoqds\n",
              "1  GRP_0            ...  outlook hello team my meetings skype meetings etc are not appearing in my outlook calendar can somebody please advise how to correct this kind hmjdrvpb komuaywn                                                              \n",
              "2  GRP_0            ...  cant log in to vpn hi cannot log on to vpn best eylqgodm ybqkwiam                                                                                                                                                             \n",
              "3  GRP_0            ...  unable to access hr tool page unable to access hr tool page xbkucsvz gcpydteq                                                                                                                                                 \n",
              "4  GRP_0            ...  skype error skype error owlgqjme qhcozdfx                                                                                                                                                                                     \n",
              "\n",
              "[5 rows x 3 columns]"
            ]
          },
          "metadata": {
            "tags": []
          },
          "execution_count": 201
        }
      ]
    },
    {
      "cell_type": "code",
      "metadata": {
        "id": "oUuNrIQIbeT0"
      },
      "source": [
        "ticket_df['desc_punct'] = ticket_df['desc_clean'].map(preProcessing.remove_punctuation)\n",
        "ticket_df['desc_token'] = ticket_df['desc_punct'].map(preProcessing.make_tokens)\n",
        "ticket_df['desc_stop'] = ticket_df['desc_token'].map(preProcessing.remove_stopwords)\n",
        "ticket_df['desc_lemma'] = ticket_df['desc_stop'].map(preProcessing.word_lemmatize)"
      ],
      "execution_count": 202,
      "outputs": []
    },
    {
      "cell_type": "code",
      "metadata": {
        "colab": {
          "base_uri": "https://localhost:8080/",
          "height": 561
        },
        "id": "-Il6J0yMbeT1",
        "outputId": "e2ff468d-bd4f-48e0-d2e9-101e286e9800"
      },
      "source": [
        "ticket_df.head()"
      ],
      "execution_count": 203,
      "outputs": [
        {
          "output_type": "execute_result",
          "data": {
            "text/html": [
              "<div>\n",
              "<style scoped>\n",
              "    .dataframe tbody tr th:only-of-type {\n",
              "        vertical-align: middle;\n",
              "    }\n",
              "\n",
              "    .dataframe tbody tr th {\n",
              "        vertical-align: top;\n",
              "    }\n",
              "\n",
              "    .dataframe thead th {\n",
              "        text-align: right;\n",
              "    }\n",
              "</style>\n",
              "<table border=\"1\" class=\"dataframe\">\n",
              "  <thead>\n",
              "    <tr style=\"text-align: right;\">\n",
              "      <th></th>\n",
              "      <th>Assignment group</th>\n",
              "      <th>desc</th>\n",
              "      <th>desc_clean</th>\n",
              "      <th>desc_punct</th>\n",
              "      <th>desc_token</th>\n",
              "      <th>desc_stop</th>\n",
              "      <th>desc_lemma</th>\n",
              "    </tr>\n",
              "  </thead>\n",
              "  <tbody>\n",
              "    <tr>\n",
              "      <th>0</th>\n",
              "      <td>GRP_0</td>\n",
              "      <td>login issue -verified user details.(employee# &amp; manager name)\\r\\n-checked the user name in ad and reset the password.\\r\\n-advised the user to login and check.\\r\\n-caller confirmed that he was able to login.\\r\\n-issue resolved. spxjnwir pjlcoqds</td>\n",
              "      <td>login issue verified user details employee and manager name checked the user name in ad and reset the password advised the user to login and check caller confirmed that he was able to login issue resolved spxjnwir pjlcoqds</td>\n",
              "      <td>login issue verified user details employee and manager name checked the user name in ad and reset the password advised the user to login and check caller confirmed that he was able to login issue resolved spxjnwir pjlcoqds</td>\n",
              "      <td>[login, issue, verified, user, details, employee, and, manager, name, checked, the, user, name, in, ad, and, reset, the, password, advised, the, user, to, login, and, check, caller, confirmed, that, he, was, able, to, login, issue, resolved, spxjnwir, pjlcoqds]</td>\n",
              "      <td>[login, issue, verified, user, details, employee, manager, name, checked, user, name, ad, reset, password, advised, user, login, check, caller, confirmed, able, login, issue, resolved, spxjnwir, pjlcoqds]</td>\n",
              "      <td>[login, issue, verified, user, detail, employee, manager, name, checked, user, name, ad, reset, password, advised, user, login, check, caller, confirmed, able, login, issue, resolved, spxjnwir, pjlcoqds]</td>\n",
              "    </tr>\n",
              "    <tr>\n",
              "      <th>1</th>\n",
              "      <td>GRP_0</td>\n",
              "      <td>outlook \\r\\n\\r\\nreceived from: hmjdrvpb.komuaywn@gmail.com\\r\\n\\r\\nhello team,\\r\\n\\r\\nmy meetings/skype meetings etc are not appearing in my outlook calendar, can somebody please advise how to correct this?\\r\\n\\r\\nkind  hmjdrvpb komuaywn</td>\n",
              "      <td>outlook hello team my meetings skype meetings etc are not appearing in my outlook calendar can somebody please advise how to correct this kind hmjdrvpb komuaywn</td>\n",
              "      <td>outlook hello team my meetings skype meetings etc are not appearing in my outlook calendar can somebody please advise how to correct this kind hmjdrvpb komuaywn</td>\n",
              "      <td>[outlook, hello, team, my, meetings, skype, meetings, etc, are, not, appearing, in, my, outlook, calendar, can, somebody, please, advise, how, to, correct, this, kind, hmjdrvpb, komuaywn]</td>\n",
              "      <td>[outlook, hello, team, meetings, skype, meetings, etc, appearing, outlook, calendar, somebody, please, advise, correct, kind, hmjdrvpb, komuaywn]</td>\n",
              "      <td>[outlook, hello, team, meeting, skype, meeting, etc, appearing, outlook, calendar, somebody, please, advise, correct, kind, hmjdrvpb, komuaywn]</td>\n",
              "    </tr>\n",
              "    <tr>\n",
              "      <th>2</th>\n",
              "      <td>GRP_0</td>\n",
              "      <td>cant log in to vpn \\r\\n\\r\\nreceived from: eylqgodm.ybqkwiam@gmail.com\\r\\n\\r\\nhi\\r\\n\\r\\ni cannot log on to vpn\\r\\n\\r\\nbest  eylqgodm ybqkwiam</td>\n",
              "      <td>cant log in to vpn hi cannot log on to vpn best eylqgodm ybqkwiam</td>\n",
              "      <td>cant log in to vpn hi cannot log on to vpn best eylqgodm ybqkwiam</td>\n",
              "      <td>[cant, log, in, to, vpn, hi, cannot, log, on, to, vpn, best, eylqgodm, ybqkwiam]</td>\n",
              "      <td>[cant, log, vpn, hi, cannot, log, vpn, best, eylqgodm, ybqkwiam]</td>\n",
              "      <td>[cant, log, vpn, hi, cannot, log, vpn, best, eylqgodm, ybqkwiam]</td>\n",
              "    </tr>\n",
              "    <tr>\n",
              "      <th>3</th>\n",
              "      <td>GRP_0</td>\n",
              "      <td>unable to access hr_tool page unable to access hr_tool page xbkucsvz gcpydteq</td>\n",
              "      <td>unable to access hr tool page unable to access hr tool page xbkucsvz gcpydteq</td>\n",
              "      <td>unable to access hr tool page unable to access hr tool page xbkucsvz gcpydteq</td>\n",
              "      <td>[unable, to, access, hr, tool, page, unable, to, access, hr, tool, page, xbkucsvz, gcpydteq]</td>\n",
              "      <td>[unable, access, hr, tool, page, unable, access, hr, tool, page, xbkucsvz, gcpydteq]</td>\n",
              "      <td>[unable, access, hr, tool, page, unable, access, hr, tool, page, xbkucsvz, gcpydteq]</td>\n",
              "    </tr>\n",
              "    <tr>\n",
              "      <th>4</th>\n",
              "      <td>GRP_0</td>\n",
              "      <td>skype error  skype error  owlgqjme qhcozdfx</td>\n",
              "      <td>skype error skype error owlgqjme qhcozdfx</td>\n",
              "      <td>skype error skype error owlgqjme qhcozdfx</td>\n",
              "      <td>[skype, error, skype, error, owlgqjme, qhcozdfx]</td>\n",
              "      <td>[skype, error, skype, error, owlgqjme, qhcozdfx]</td>\n",
              "      <td>[skype, error, skype, error, owlgqjme, qhcozdfx]</td>\n",
              "    </tr>\n",
              "  </tbody>\n",
              "</table>\n",
              "</div>"
            ],
            "text/plain": [
              "  Assignment group  ...                                                                                                                                                                                                   desc_lemma\n",
              "0  GRP_0            ...  [login, issue, verified, user, detail, employee, manager, name, checked, user, name, ad, reset, password, advised, user, login, check, caller, confirmed, able, login, issue, resolved, spxjnwir, pjlcoqds]\n",
              "1  GRP_0            ...  [outlook, hello, team, meeting, skype, meeting, etc, appearing, outlook, calendar, somebody, please, advise, correct, kind, hmjdrvpb, komuaywn]                                                            \n",
              "2  GRP_0            ...  [cant, log, vpn, hi, cannot, log, vpn, best, eylqgodm, ybqkwiam]                                                                                                                                           \n",
              "3  GRP_0            ...  [unable, access, hr, tool, page, unable, access, hr, tool, page, xbkucsvz, gcpydteq]                                                                                                                       \n",
              "4  GRP_0            ...  [skype, error, skype, error, owlgqjme, qhcozdfx]                                                                                                                                                           \n",
              "\n",
              "[5 rows x 7 columns]"
            ]
          },
          "metadata": {
            "tags": []
          },
          "execution_count": 203
        }
      ]
    },
    {
      "cell_type": "code",
      "metadata": {
        "id": "nypXwOyCFwkI"
      },
      "source": [
        "X=ticket_df['desc_lemma']\n",
        "y=ticket_df['Assignment group']"
      ],
      "execution_count": 204,
      "outputs": []
    },
    {
      "cell_type": "code",
      "metadata": {
        "id": "EC6beEEcR64_"
      },
      "source": [
        "from sklearn.model_selection import train_test_split\n",
        "X_train, X_test, y_train, y_test = train_test_split(X, y, test_size=0.30)"
      ],
      "execution_count": 205,
      "outputs": []
    },
    {
      "cell_type": "code",
      "metadata": {
        "id": "DAej17e7F5QF"
      },
      "source": [
        "le = LabelEncoder() \n",
        "le.fit(pd.concat([y_train,y_test]))\n",
        "\n",
        "y_train = le.transform(y_train)\n",
        "y_test = le.transform(y_test)"
      ],
      "execution_count": 206,
      "outputs": []
    },
    {
      "cell_type": "code",
      "metadata": {
        "id": "bc6Q3mvKGRem"
      },
      "source": [
        "def identity_tokenizer(text):\n",
        "    return text\n",
        "tfidf = TfidfVectorizer(tokenizer=identity_tokenizer, lowercase=False,max_features=10759)\n",
        "tfidf.fit(X_train)\n",
        "tfidf.fit(X_test)\n",
        "\n",
        "X_train = tfidf.transform(X_train)\n",
        "X_test = tfidf.transform(X_test)"
      ],
      "execution_count": 207,
      "outputs": []
    },
    {
      "cell_type": "code",
      "metadata": {
        "id": "EUxYV-6xGXK_"
      },
      "source": [
        "def precision_recall_fscore_support_roc_auc(model, y_test,X_test):\n",
        "  y_pred = model.predict(X_test)\n",
        "\n",
        "  precision, recall, f1_score, _ = precision_recall_fscore_support(y_test, y_pred, average='micro')\n",
        "  print(\"Precision: \",precision)\n",
        "  print(\"Recall: \",recall)\n",
        "  print('F1 score: ',f1_score)\n",
        "\n",
        "  y_proba = model.predict_proba(X_test)\n",
        "\n",
        "  print(\"roc_auc value: \",roc_auc_score(y_test, y_proba, labels = clf.classes_, average='macro', multi_class='ovo'))"
      ],
      "execution_count": 208,
      "outputs": []
    },
    {
      "cell_type": "code",
      "metadata": {
        "colab": {
          "base_uri": "https://localhost:8080/"
        },
        "id": "mB5ues8oG9WB",
        "outputId": "1c4b59de-9d9d-4783-872f-a9802c9c8b84"
      },
      "source": [
        "clf = LogisticRegression(random_state=0).fit(X_train, y_train)\n",
        "print('train acc: ',clf.score(X_train,y_train))\n",
        "print('test acc: ',clf.score(X_test, y_test))"
      ],
      "execution_count": 209,
      "outputs": [
        {
          "output_type": "stream",
          "text": [
            "train acc:  0.7073501952130369\n",
            "test acc:  0.6227236737925574\n"
          ],
          "name": "stdout"
        }
      ]
    },
    {
      "cell_type": "code",
      "metadata": {
        "colab": {
          "base_uri": "https://localhost:8080/"
        },
        "id": "pZzcsQZlHBzV",
        "outputId": "e3ea607c-4072-4def-8441-3defa560daf2"
      },
      "source": [
        "precision_recall_fscore_support_roc_auc(clf,y_test,X_test)"
      ],
      "execution_count": 210,
      "outputs": [
        {
          "output_type": "stream",
          "text": [
            "Precision:  0.6227236737925574\n",
            "Recall:  0.6227236737925574\n",
            "F1 score:  0.6227236737925574\n",
            "roc_auc value:  0.8555435794217631\n"
          ],
          "name": "stdout"
        }
      ]
    },
    {
      "cell_type": "code",
      "metadata": {
        "id": "NoMBBYIbQerV"
      },
      "source": [
        ""
      ],
      "execution_count": null,
      "outputs": []
    }
  ]
}